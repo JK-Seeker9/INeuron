{
 "cells": [
  {
   "cell_type": "code",
   "execution_count": 5,
   "metadata": {},
   "outputs": [],
   "source": [
    "#Q1. Define the relationship between a class and its instances. Is it a one-to-one or a one-to-many partnership, for example?\n",
    "#Ans:   The relationship between a class and its instance is a one to many relationship.It means that a class can have more than one instances.   \n",
    "class car:\n",
    "    def __init__(self, make, model, year):\n",
    "        self.make = make\n",
    "        self.model = model\n",
    "        self.year = year\n",
    "    def drive(self):\n",
    "        print(\"The car is driving.\")\n",
    "my_car = car(\"Toyota\", \"Corolla\", 2023)"
   ]
  },
  {
   "cell_type": "code",
   "execution_count": 6,
   "metadata": {},
   "outputs": [],
   "source": [
    "#Q2. What kind of data is held only in an instance?\n",
    "#Ans:   The data that is held only in an instance is known as instance data or instance variables.\n",
    "#       The different types of data that can be held only in an instances are specific to that instance and is not shared with other instances of the same class."
   ]
  },
  {
   "cell_type": "code",
   "execution_count": 7,
   "metadata": {},
   "outputs": [],
   "source": [
    "#Q3. What kind of knowledge is stored in a class?\n",
    "#Ans:   A class is a blueprint for creating objects. It defines the properties and behaviors of the object created by class.\n",
    "#       The knowledge that is stored in a class are: Data and methods or functions."
   ]
  },
  {
   "cell_type": "code",
   "execution_count": 8,
   "metadata": {},
   "outputs": [],
   "source": [
    "#Q4. What exactly is a method, and how is it different from a regular function?\n",
    "#Ans:   A method is a function associated with an object. It is defined within a class and can be called by the instance of that class.\n",
    "#       The differnce between method and regular function is that a method can access and modify data of the object associated with it but a regular function can not."
   ]
  },
  {
   "cell_type": "code",
   "execution_count": 9,
   "metadata": {},
   "outputs": [],
   "source": [
    "#Q5. Is inheritance supported in Python, and if so, what is the syntax?\n",
    "#Ans:   Yes inheritance is supported in Python. Its syntax is:\n",
    "#       class New_class(Exisiting_Class):"
   ]
  },
  {
   "cell_type": "code",
   "execution_count": 10,
   "metadata": {},
   "outputs": [],
   "source": [
    "#Q6. How much encapsulation (making instance or class variables private) does Python support?\n",
    "#Ans:   Python supports a limited amount of encapsulation and not full encapsulation. The private variables can be accessed from outside the class using various other tecniques."
   ]
  },
  {
   "cell_type": "code",
   "execution_count": 18,
   "metadata": {},
   "outputs": [
    {
     "name": "stdout",
     "output_type": "stream",
     "text": [
      "Corolla\n"
     ]
    }
   ],
   "source": [
    "#Q7. How do you distinguish between a class variable and an instance variable?\n",
    "#Ans:   Class variables and instance variables are different type of variables defined in a class. The class variables are shared by all instances but an instance variable are unique for each instance.\n",
    "class car:\n",
    "    def __init__(self, make, model, year):\n",
    "        self.make = make\n",
    "        self.model = model\n",
    "        self.year = year\n",
    "    def drive(self):\n",
    "        print(\"The car is driving.\")\n",
    "my_car = car(\"Toyota\", \"Corolla\", 2023)\n",
    "print(my_car.model)\n",
    "#In the above program 'make' variable is a class variable, where as the 'model' and 'year' variable are instance variable."
   ]
  },
  {
   "cell_type": "code",
   "execution_count": 12,
   "metadata": {},
   "outputs": [],
   "source": [
    "#Q8. When, if ever, can self be included in a class's method definitions?\n",
    "#Ans:   The self keyword is always included in a class's method definitions. It is used to refer to the current instance of the class. \n",
    "#       This allows the method to access the instance's attributes and methods."
   ]
  },
  {
   "cell_type": "code",
   "execution_count": 13,
   "metadata": {},
   "outputs": [],
   "source": [
    "#Q9. What is the difference between the _ _add_ _ and the _ _radd_ _ methods?\n",
    "#Ans:   The __add__ and __radd__ methods are special methods to overload the '+' operator.\n",
    "#       The __add__ method is called when the + operator is used to add two objects of same type and __radd__ method is called when the + operator is used to add an object of one type to an object of another type.  "
   ]
  },
  {
   "cell_type": "code",
   "execution_count": 14,
   "metadata": {},
   "outputs": [],
   "source": [
    "#Q10. When is it necessary to use a reflection method? When do you not need it, even though you support the operation in question?\n",
    "#Ans:   Reflection method is used to inspect and manipulate objects at runtime. It is often used in debugging tools, where it can be used to inspect the state of an application at runtime.\n",
    "#       Reflection method is not advisable to use when the program need to work only with a specific type of object or objects of same type or the program does not require to inspect the state of any object. "
   ]
  },
  {
   "cell_type": "code",
   "execution_count": 15,
   "metadata": {},
   "outputs": [],
   "source": [
    "#Q11. What is the _ _iadd_ _ method called?\n",
    "#Ans:   The __iadd__ method is called the in-place addition method. \n",
    "#       It is a special method that is called when the += operator is used to add two objects together. \n",
    "#       The __iadd__ method is used to modify the left operand of the += operator.\n"
   ]
  },
  {
   "cell_type": "code",
   "execution_count": 16,
   "metadata": {},
   "outputs": [],
   "source": [
    "#Q12. Is the _ _init_ _ method inherited by subclasses? What do you do if you need to customize its behavior within a subclass?\n",
    "#Ans:   Yes! the __init__ method is inherited by subclasses.\n",
    "#       to customize the behavior of the __init__ method within a subclass, we override the method in the sub class. To override the __init__ method, we need to define a method with same name in the sub class."
   ]
  },
  {
   "cell_type": "code",
   "execution_count": null,
   "metadata": {},
   "outputs": [],
   "source": []
  }
 ],
 "metadata": {
  "kernelspec": {
   "display_name": "Python 3",
   "language": "python",
   "name": "python3"
  },
  "language_info": {
   "codemirror_mode": {
    "name": "ipython",
    "version": 3
   },
   "file_extension": ".py",
   "mimetype": "text/x-python",
   "name": "python",
   "nbconvert_exporter": "python",
   "pygments_lexer": "ipython3",
   "version": "3.9.7"
  },
  "orig_nbformat": 4
 },
 "nbformat": 4,
 "nbformat_minor": 2
}
