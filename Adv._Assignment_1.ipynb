{
 "cells": [
  {
   "cell_type": "code",
   "execution_count": 1,
   "metadata": {},
   "outputs": [],
   "source": [
    "#Q1. What is the purpose of Python's OOP?\n",
    "#Ans: The purpose of OOP is that is provides a pwerful and flexible way to organize, design and structure codes, making it easier to develop maintain and scale projects."
   ]
  },
  {
   "cell_type": "code",
   "execution_count": 2,
   "metadata": {},
   "outputs": [],
   "source": [
    "#Q2. Where does an inheritance search look for an attribute?\n",
    "#Ans:   An inheritance search looks for an attribute in the following places: the object itself, then in its class and finally in parent class. "
   ]
  },
  {
   "cell_type": "code",
   "execution_count": 3,
   "metadata": {},
   "outputs": [],
   "source": [
    "#Q3. How do you distinguish between a class object and an instance object?\n",
    "#Ans:   The class object is like a blueprint for creating objects. It defines the structure and behaviour of the object.\n",
    "#       An Instance object is a specific object created from class object. It has its own unique characterstics and can access the attributes and behaviors defined in class."
   ]
  },
  {
   "cell_type": "code",
   "execution_count": 4,
   "metadata": {},
   "outputs": [],
   "source": [
    "#Q4. What makes the first argument in a class’s method function special?\n",
    "#Ans: The first argument in class's method function is ' self '. It is special because it refers to the object that the method is working with."
   ]
  },
  {
   "cell_type": "code",
   "execution_count": 5,
   "metadata": {},
   "outputs": [],
   "source": [
    "#Q5. What is the purpose of the __init__ method?\n",
    "#Ans:   The __init__ method is a special method that serves as a constructor for a class. Its purpose is to intialize or setup the objects intial state when it is created."
   ]
  },
  {
   "cell_type": "code",
   "execution_count": 6,
   "metadata": {},
   "outputs": [],
   "source": [
    "#Q6. What is the process for creating a class instance?\n",
    "#Ans:   To create a class instance, the class is called using class name nad argument is passed."
   ]
  },
  {
   "cell_type": "code",
   "execution_count": 7,
   "metadata": {},
   "outputs": [],
   "source": [
    "#Q7. What is the process for creating a class?\n",
    "#Ans:   To create a class, 'class' keyword is used followed by class name, Intialization method, attribute and method definations. "
   ]
  },
  {
   "cell_type": "code",
   "execution_count": 8,
   "metadata": {},
   "outputs": [],
   "source": [
    "#Q8. How would you define the superclasses of a class?\n",
    "#Ans:   A class that is derived from another class is called sub-class. The class from which sub-class is derived is known as super class."
   ]
  }
 ],
 "metadata": {
  "kernelspec": {
   "display_name": "Python 3",
   "language": "python",
   "name": "python3"
  },
  "language_info": {
   "codemirror_mode": {
    "name": "ipython",
    "version": 3
   },
   "file_extension": ".py",
   "mimetype": "text/x-python",
   "name": "python",
   "nbconvert_exporter": "python",
   "pygments_lexer": "ipython3",
   "version": "3.9.7"
  },
  "orig_nbformat": 4
 },
 "nbformat": 4,
 "nbformat_minor": 2
}
