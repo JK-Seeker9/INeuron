{
 "cells": [
  {
   "cell_type": "code",
   "execution_count": 1,
   "metadata": {},
   "outputs": [],
   "source": [
    "#Q1. What are the benefits of the built-in array package, if any?\n",
    "#Ans:   The benefits of built-in array packages are:\n",
    "#       These are faster than lists for performinng arithmatic operations.\n",
    "#       Arrays are more memory efficient than lists.\n",
    "#       It is easy to use as it provides a large variety of built in functions."
   ]
  },
  {
   "cell_type": "code",
   "execution_count": 2,
   "metadata": {},
   "outputs": [],
   "source": [
    "#Q2. What are some of the array package's limitations?\n",
    "#Ans:   The limitations of array package are:\n",
    "#       The size of array cannot be changed after it is created.\n",
    "#       Arrays store data of same type only\n",
    "#       They dont have built in sorting or searching function.\n",
    "#       They are not safe to use by utilizing multiple threads at the same time."
   ]
  },
  {
   "cell_type": "code",
   "execution_count": 3,
   "metadata": {},
   "outputs": [],
   "source": [
    "#Q3. Describe the main differences between the array and numpy packages.\n",
    "#Ans:   The difference between array and numpy are:\n",
    "#       Numpy arrays are much faster than built in arrays for performing arithmetic operations.\n",
    "#       Numpy arrays consume less memory as compared to built in arrays"
   ]
  },
  {
   "cell_type": "code",
   "execution_count": 4,
   "metadata": {},
   "outputs": [],
   "source": [
    "#Q4. Explain the distinctions between the empty, ones, and zeros functions.\n",
    "#Ans:   The empty() function creates an array in which elements are not intialized.\n",
    "#       The ones() function creates an array in which all elements are set to 1. \n",
    "#       The zeros() function creates an array in which all elements are set to 0. "
   ]
  },
  {
   "cell_type": "code",
   "execution_count": 5,
   "metadata": {},
   "outputs": [],
   "source": [
    "#Q5. In the fromfunction function, which is used to construct new arrays, what is the role of the callable argument?\n",
    "#Ans:   The callable argument in the formfunction is used to specify a function that will be used to generate the elements of the new array. It takes one argument that is index of the element being generated."
   ]
  },
  {
   "cell_type": "code",
   "execution_count": 6,
   "metadata": {},
   "outputs": [],
   "source": [
    "#Q6. What happens when a numpy array is combined with a single-value operand (a scalar, such as an int or a floating-point value) through addition, as in the expression A + n?\n",
    "#Ans:   When a NumPy array is combined with a single-value operand (a scalar, such as an int or a floating-point value) through addition, the scalar is added to each element of the array. \n",
    "#       The result is a new array with the same shape as the original array, but with the elements of the original array added to the scalar."
   ]
  },
  {
   "cell_type": "code",
   "execution_count": 7,
   "metadata": {},
   "outputs": [],
   "source": [
    "#Q7. Can array-to-scalar operations use combined operation-assign operators (such as += or *=)? What is the outcome?\n",
    "#Ans:   Yes, array-to-scalar operations can use combined operation-assign operators (such as += or *=). \n",
    "#       When these operators are used, the scalar is added to or multiplied by each element of the array, and the result is assigned back to the array."
   ]
  },
  {
   "cell_type": "code",
   "execution_count": 8,
   "metadata": {},
   "outputs": [],
   "source": [
    "#Q8. Does a numpy array contain fixed-length strings? What happens if you allocate a longer string to one of these arrays?\n",
    "#Ans:   No, NumPy arrays do not contain fixed-length strings. \n",
    "#       If you allocate a longer string to a NumPy array, the string will be truncated to fit the length of the array."
   ]
  },
  {
   "cell_type": "code",
   "execution_count": 9,
   "metadata": {},
   "outputs": [],
   "source": [
    "#Q9. What happens when you combine two numpy arrays using an operation like addition (+) or multiplication (*)? What are the conditions for combining two numpy arrays?\n",
    "#Ans:   Combining two NumPy arrays using an operation like addition (+) or multiplication (*), the arrays must have the same shape. \n",
    "#       If the arrays do not have the same shape, a value error will be raised."
   ]
  },
  {
   "cell_type": "code",
   "execution_count": 10,
   "metadata": {},
   "outputs": [],
   "source": [
    "#Q10. What is the best way to use a Boolean array to mask another array?\n",
    "#Ans:   The best way to use a Boolean array to mask another array is to use the numpy.where() function. This function takes two arguments: a bollean array and a simple array."
   ]
  },
  {
   "cell_type": "code",
   "execution_count": 11,
   "metadata": {},
   "outputs": [],
   "source": [
    "#Q11. What are three different ways to get the standard deviation of a wide collection of data using both standard Python and its packages? Sort the three of them by how quickly they execute.\n",
    "#Ans:   The three different ways to get the standard deviation of a wide collection of data using both standard python and its packages, sorted by greater execution speed:\n",
    "#       Using Statistics module: statisctics.stdev() function\n",
    "#       Using Numpy module: np.std() function\n",
    "#       Using Pandas module: pandas.Dataframe.std() function."
   ]
  },
  {
   "cell_type": "code",
   "execution_count": 12,
   "metadata": {},
   "outputs": [],
   "source": [
    "#12. What is the dimensionality of a Boolean mask-generated array?\n",
    "#Ans:   The dimensionalitry of a Boolean mask-generated array is same as the dimensions of array that was used to create mask."
   ]
  }
 ],
 "metadata": {
  "kernelspec": {
   "display_name": "Python 3",
   "language": "python",
   "name": "python3"
  },
  "language_info": {
   "codemirror_mode": {
    "name": "ipython",
    "version": 3
   },
   "file_extension": ".py",
   "mimetype": "text/x-python",
   "name": "python",
   "nbconvert_exporter": "python",
   "pygments_lexer": "ipython3",
   "version": "3.9.7"
  },
  "orig_nbformat": 4
 },
 "nbformat": 4,
 "nbformat_minor": 2
}
