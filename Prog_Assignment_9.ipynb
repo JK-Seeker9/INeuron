{
 "cells": [
  {
   "cell_type": "code",
   "execution_count": 3,
   "metadata": {},
   "outputs": [
    {
     "name": "stdout",
     "output_type": "stream",
     "text": [
      "125 is a disarium number? False\n"
     ]
    }
   ],
   "source": [
    "#1.\tWrite a Python program to check if the given number is a Disarium Number?\n",
    "def is_diss(num):\n",
    "    temp = 0\n",
    "    for i in range (len(str(num))):\n",
    "        temp += int(str(num)[i]) ** (i+1)\n",
    "    return temp == num\n",
    "num = int(input(\"Enter a number: \"))\n",
    "print(f\"{num} is a disarium number?\", is_diss(num))\n"
   ]
  },
  {
   "cell_type": "code",
   "execution_count": 7,
   "metadata": {},
   "outputs": [
    {
     "name": "stdout",
     "output_type": "stream",
     "text": [
      "The disarium numbers between 1 to 100 are: \n",
      "1\n",
      "2\n",
      "3\n",
      "4\n",
      "5\n",
      "6\n",
      "7\n",
      "8\n",
      "9\n",
      "89\n"
     ]
    }
   ],
   "source": [
    "#2.\tWrite a Python program to print all disarium numbers between 1 to 100?\n",
    "def cal_len(val):                   #\n",
    "    len_val = 0\n",
    "    while(val != 0):\n",
    "        len_val = len_val + 1 \n",
    "        val = val//10\n",
    "    return len_val\n",
    "def sum_dig(num):                   #\n",
    "    x = sum_val = 0\n",
    "    l_func = cal_len(num)\n",
    "    while(num > 0):\n",
    "        x = num%10\n",
    "        sum_val = sum_val + (x**l_func)\n",
    "        num = num//10\n",
    "        l_func = l_func - 1\n",
    "    return sum_val\n",
    "result = 0\n",
    "print (\"The disarium numbers between 1 to 100 are: \")\n",
    "for i in range(1,101):\n",
    "    result = sum_dig(i)\n",
    "    if(result == i):\n",
    "        print(i)\n"
   ]
  },
  {
   "cell_type": "code",
   "execution_count": 25,
   "metadata": {},
   "outputs": [
    {
     "name": "stdout",
     "output_type": "stream",
     "text": [
      "Is 7 a happy number? True\n"
     ]
    }
   ],
   "source": [
    "#3.\tWrite a Python program to check if the given number is Happy Number?\n",
    "def happy(num):\n",
    "    x = set()\n",
    "    while (num!=1):\n",
    "        num = sum(int(i)**2 for i in str(num))\n",
    "        if num in x:\n",
    "             return False\n",
    "        x.add(num)\n",
    "    return True\n",
    "num = int(input(\"Enter a number: \"))\n",
    "print(f\"Is {num} a happy number?\", happy(num))"
   ]
  },
  {
   "cell_type": "code",
   "execution_count": 27,
   "metadata": {},
   "outputs": [
    {
     "name": "stdout",
     "output_type": "stream",
     "text": [
      "The list of happy numbers between 1 to 100 are: \n",
      "1\n",
      "7\n",
      "10\n",
      "13\n",
      "19\n",
      "23\n",
      "28\n",
      "31\n",
      "32\n",
      "44\n",
      "49\n",
      "68\n",
      "70\n",
      "79\n",
      "82\n",
      "86\n",
      "91\n",
      "94\n",
      "97\n",
      "100\n"
     ]
    }
   ],
   "source": [
    "#4.\tWrite a Python program to print all happy numbers between 1 and 100?\n",
    "def hap(num):\n",
    "    rem = sum = 0\n",
    "    while(num>0):\n",
    "        rem = num%10\n",
    "        sum = sum + (rem**2)\n",
    "        num = num // 10\n",
    "    return sum\n",
    "print(\"The list of happy numbers between 1 to 100 are: \")\n",
    "for i in range(1,101):\n",
    "    res = i\n",
    "    while( res != 1 and res != 4):\n",
    "        res = hap(res)\n",
    "    if(res == 1):\n",
    "        print(i)"
   ]
  },
  {
   "cell_type": "code",
   "execution_count": 31,
   "metadata": {},
   "outputs": [
    {
     "name": "stdout",
     "output_type": "stream",
     "text": [
      "153 is a Harshad Number\n"
     ]
    }
   ],
   "source": [
    "#5.\tWrite a Python program to determine whether the given number is a Harshad Number?\n",
    "num = int(input(\"Enter an number: \"))\n",
    "n = num\n",
    "Sum = 0\n",
    "while num:                  \n",
    "    Sum += num%10\n",
    "    num = num//10\n",
    "if n%Sum == 0:               \n",
    "    print(f\"{n} is a Harshad Number\")\n",
    "else:\n",
    "    print(f\"{n} is not a Harshad number\")\n"
   ]
  },
  {
   "cell_type": "code",
   "execution_count": 35,
   "metadata": {},
   "outputs": [
    {
     "name": "stdout",
     "output_type": "stream",
     "text": [
      "Pronic number between 1 to 100 are: \n",
      "2\n",
      "6\n",
      "12\n",
      "20\n",
      "30\n",
      "42\n",
      "56\n",
      "72\n",
      "90\n"
     ]
    }
   ],
   "source": [
    "#6.\tWrite a Python program to print all pronic numbers between 1 and 100?\n",
    "def pronic_num(num):\n",
    "    for i in range(1,num+1):\n",
    "        if (i*(i+1) == num):\n",
    "            return True\n",
    "print(\"Pronic number between 1 to 100 are: \")\n",
    "for n in range(1,101):\n",
    "    if(pronic_num(n)):\n",
    "        print(n)\n",
    "    "
   ]
  },
  {
   "cell_type": "code",
   "execution_count": null,
   "metadata": {},
   "outputs": [],
   "source": []
  }
 ],
 "metadata": {
  "kernelspec": {
   "display_name": "Python 3",
   "language": "python",
   "name": "python3"
  },
  "language_info": {
   "codemirror_mode": {
    "name": "ipython",
    "version": 3
   },
   "file_extension": ".py",
   "mimetype": "text/x-python",
   "name": "python",
   "nbconvert_exporter": "python",
   "pygments_lexer": "ipython3",
   "version": "3.9.7"
  },
  "orig_nbformat": 4
 },
 "nbformat": 4,
 "nbformat_minor": 2
}
