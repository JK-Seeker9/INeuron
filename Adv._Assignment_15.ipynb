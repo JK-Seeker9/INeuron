{
 "cells": [
  {
   "cell_type": "code",
   "execution_count": 1,
   "metadata": {},
   "outputs": [],
   "source": [
    "#1.\tWhat are the new features added in Python 3.8 version?\n",
    "#Ans:   Some of the new features that Python 3.8 version are: f-string Support\n",
    "#                                                             Assignment Operators\n",
    "#                                                             Pep 578\n",
    "#                                                             Pep 587\n",
    "#                                                             Pep 590\n",
    "\n",
    "#2.\tWhat is monkey patching in Python?\n",
    "#Ans:   Monkey Patching is a technique through which Python allows to dynamically modify a class or module at run time. To mokey patch a class, we cna use the setattr() function.\n",
    "\n",
    "#3.\tWhat is the difference between a shallow copy and deep copy?\n",
    "#Ans:   In Shallow copy a new object is created, this object contains the same values as the original, but both the original and copied objects share the same reference to any nested object. \n",
    "#       On the other hand in deep copy the new created object has both the original object and any nested object values being copied. \n",
    "\n",
    "#4.\tWhat is the maximum possible length of an identifier?\n",
    "#Ans:   The maximum possible length of an identifier is 79 characters.\n",
    "\n",
    "#5.\tWhat is generator comprehension?\n",
    "#Ans:   A generator comprehension is a constructor that is used to create a generator expression in one line of code. Generator expressions are similar to list comprehensions but they create a generator object instad of list object.\n"
   ]
  },
  {
   "cell_type": "code",
   "execution_count": null,
   "metadata": {},
   "outputs": [],
   "source": []
  }
 ],
 "metadata": {
  "kernelspec": {
   "display_name": "Python 3",
   "language": "python",
   "name": "python3"
  },
  "language_info": {
   "codemirror_mode": {
    "name": "ipython",
    "version": 3
   },
   "file_extension": ".py",
   "mimetype": "text/x-python",
   "name": "python",
   "nbconvert_exporter": "python",
   "pygments_lexer": "ipython3",
   "version": "3.9.7"
  },
  "orig_nbformat": 4
 },
 "nbformat": 4,
 "nbformat_minor": 2
}
