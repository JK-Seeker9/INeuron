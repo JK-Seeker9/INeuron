{
 "cells": [
  {
   "cell_type": "code",
   "execution_count": 6,
   "metadata": {},
   "outputs": [
    {
     "name": "stdout",
     "output_type": "stream",
     "text": [
      "The value of K is =  3\n",
      "My Name is Jay Kishan Sahu\n",
      "['Name', 'Kishan', 'Sahu']\n"
     ]
    }
   ],
   "source": [
    "#1.\tWrite a Python program to find words which are greater than given length k?\n",
    "def str_k(k, str):\n",
    "    my_str = []\n",
    "    my_txt = str.split(\" \")\n",
    "    for i in my_txt:\n",
    "        if len(i) > k:\n",
    "            my_str.append(i)\n",
    "    return my_str\n",
    "k = int(input(\" Enter a value for k: \"))\n",
    "str = str(input(\" Enter string: \"))\n",
    "print(\"The value of K is = \",k)\n",
    "print (str)\n",
    "print(str_k(k, str))"
   ]
  },
  {
   "cell_type": "code",
   "execution_count": 8,
   "metadata": {},
   "outputs": [
    {
     "name": "stdout",
     "output_type": "stream",
     "text": [
      "Rmove\n"
     ]
    }
   ],
   "source": [
    "#2.\tWrite a Python program for removing i-th character from a string?\n",
    "def my_char(S, i):\n",
    "    a = S[:i]\n",
    "    b = S[i+1:]\n",
    "    return a+b\n",
    "my_str = \"Remove\"\n",
    "i = int(input(f\"Please enter a value between 0 and {len(my_str)}: \"))\n",
    "print(my_char(my_str,i-1))"
   ]
  },
  {
   "cell_type": "code",
   "execution_count": 10,
   "metadata": {},
   "outputs": [
    {
     "name": "stdout",
     "output_type": "stream",
     "text": [
      "['My', 'Name', 'is', 'Jay']\n",
      "My_Name_is_Jay\n"
     ]
    }
   ],
   "source": [
    "#3.\tWrite a Python program to split and join a string?\n",
    "def split_str(string):\n",
    "    str_list = string.split()\n",
    "    return str_list\n",
    "def join_str(str_list):\n",
    "    j_str = '_'.join(str_list)\n",
    "    return j_str\n",
    "if __name__ == '__main__':\n",
    "    string = input(\"Enter a string: \")\n",
    "    str_list = split_str(string)\n",
    "    print(str_list)\n",
    "    new_str = join_str(str_list)\n",
    "    print(new_str)\n"
   ]
  },
  {
   "cell_type": "code",
   "execution_count": 11,
   "metadata": {},
   "outputs": [
    {
     "name": "stdout",
     "output_type": "stream",
     "text": [
      "Yes the given string is binary\n"
     ]
    }
   ],
   "source": [
    "#4.\tWrite a Python to check if a given string is binary string or not?\n",
    "import re\n",
    "\n",
    "bin_str = \"01101011000\"\n",
    "c = re.compile('[^01]')\n",
    "if(len(c.findall(bin_str))):\n",
    "    print(\"No the given string is not binary\")\n",
    "else:\n",
    "    print(\"Yes the given string is binary\")\n"
   ]
  },
  {
   "cell_type": "code",
   "execution_count": 12,
   "metadata": {},
   "outputs": [
    {
     "name": "stdout",
     "output_type": "stream",
     "text": [
      "['Jay', 'a', 'INeuron', 'learner']\n"
     ]
    }
   ],
   "source": [
    "#5.\tWrite a Python program to find uncommon words from two Strings?\n",
    "def uncommon(str1, str2):\n",
    "    cnt = {}\n",
    "    for words in str1.split():\n",
    "        cnt[words] = cnt.get(words,0)+1\n",
    "    for words in str2.split():\n",
    "        cnt[words] = cnt.get(words,0)+1\n",
    "    return [words for words in cnt if cnt[words]==1]\n",
    "str1 = \"I am Jay\"\n",
    "str2 = \"I am a INeuron learner\"\n",
    "print(uncommon(str1,str2))"
   ]
  },
  {
   "cell_type": "code",
   "execution_count": 14,
   "metadata": {},
   "outputs": [
    {
     "name": "stdout",
     "output_type": "stream",
     "text": [
      "['a', 'c', 'e']\n"
     ]
    }
   ],
   "source": [
    "#6.\tWrite a Python to find all duplicate characters in string?\n",
    "def dupli_char(string):\n",
    "    ch = {}\n",
    "    for i in string:\n",
    "        if i not in ch:\n",
    "            ch[i] = 1\n",
    "        else:\n",
    "            ch[i] += 1\n",
    "    duplicate = []\n",
    "    for i, count in ch.items():\n",
    "        if count>1:\n",
    "            duplicate.append(i)\n",
    "    return duplicate\n",
    "my_char = \"datascience\"\n",
    "print(dupli_char(my_char)) "
   ]
  },
  {
   "cell_type": "code",
   "execution_count": 16,
   "metadata": {},
   "outputs": [
    {
     "name": "stdout",
     "output_type": "stream",
     "text": [
      "The string contains special characters\n"
     ]
    }
   ],
   "source": [
    "#7.\tWrite a Python Program to check if a string contains any special character?\n",
    "import re\n",
    "def special_char(string):\n",
    "    regex = re.compile('!@#$%^&*()?|\\/\":;,.')\n",
    "    if(regex.search(string)==None):\n",
    "        print(\"The string contains special characters\")\n",
    "    else:\n",
    "        print(\"The string contains special characters\")\n",
    "if __name__ == '__main__':\n",
    "    string = \"HI @ I Neuron # % &\"\n",
    "special_char(string)"
   ]
  },
  {
   "cell_type": "code",
   "execution_count": null,
   "metadata": {},
   "outputs": [],
   "source": []
  }
 ],
 "metadata": {
  "kernelspec": {
   "display_name": "Python 3",
   "language": "python",
   "name": "python3"
  },
  "language_info": {
   "codemirror_mode": {
    "name": "ipython",
    "version": 3
   },
   "file_extension": ".py",
   "mimetype": "text/x-python",
   "name": "python",
   "nbconvert_exporter": "python",
   "pygments_lexer": "ipython3",
   "version": "3.9.7"
  },
  "orig_nbformat": 4
 },
 "nbformat": 4,
 "nbformat_minor": 2
}
