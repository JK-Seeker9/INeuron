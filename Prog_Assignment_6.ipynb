{
 "cells": [
  {
   "cell_type": "code",
   "execution_count": 6,
   "metadata": {},
   "outputs": [
    {
     "name": "stdout",
     "output_type": "stream",
     "text": [
      "0\n",
      "1\n",
      "1\n",
      "2\n",
      "3\n",
      "5\n",
      "8\n",
      "13\n",
      "21\n",
      "34\n"
     ]
    }
   ],
   "source": [
    "#1.\tWrite a Python Program to Display Fibonacci Sequence Using Recursion?\n",
    "def fibo_rec(n):\n",
    "    if n<=1:\n",
    "        return n\n",
    "    else:\n",
    "        return (fibo_rec(n-1) + fibo_rec(n-2))\n",
    "num = int(input(\"Enter number of terms: \"))\n",
    "for i in range(num):\n",
    "    print(fibo_rec(i))"
   ]
  },
  {
   "cell_type": "code",
   "execution_count": 8,
   "metadata": {},
   "outputs": [
    {
     "name": "stdout",
     "output_type": "stream",
     "text": [
      "The factorial of 5 is 120\n"
     ]
    }
   ],
   "source": [
    "#2.\tWrite a Python Program to Find Factorial of Number Using Recursion?\n",
    "def fact_rec(a):\n",
    "    if a == 1:\n",
    "        return 1\n",
    "    else:\n",
    "        return (a*fact_rec(a-1))\n",
    "num = int(input(\"Enter a number: \"))\n",
    "print(f\"The factorial of {num} is\", fact_rec(num))\n"
   ]
  },
  {
   "cell_type": "code",
   "execution_count": 9,
   "metadata": {},
   "outputs": [
    {
     "name": "stdout",
     "output_type": "stream",
     "text": [
      "The BMI is:  2.87\n"
     ]
    }
   ],
   "source": [
    "#3.\tWrite a Python Program to calculate your Body Mass Index?\n",
    "height = float(input(\"Enter height in feet: \"))\n",
    "weight = float(input(\"Enter weight in KG: \"))\n",
    "print(f\"The BMI is: \",round(weight/(height**2),2))\n"
   ]
  },
  {
   "cell_type": "code",
   "execution_count": 10,
   "metadata": {},
   "outputs": [
    {
     "name": "stdout",
     "output_type": "stream",
     "text": [
      "The log of number 3 is  1.0986122886681098\n"
     ]
    }
   ],
   "source": [
    "#4.\tWrite a Python Program to calculate the natural logarithm of any number?\n",
    "import math\n",
    "\n",
    "num = int(input(\"Enter the number: \"))\n",
    "log_num = math.log(num)\n",
    "print(f\"The log of number {num} is \", log_num)\n"
   ]
  },
  {
   "cell_type": "code",
   "execution_count": 11,
   "metadata": {},
   "outputs": [
    {
     "name": "stdout",
     "output_type": "stream",
     "text": [
      "The cube sum of first 3 natural numbers is 12.0\n"
     ]
    }
   ],
   "source": [
    "#5.\tWrite a Python Program for cube sum of first n natural numbers?\n",
    "n = int (input(\"Enter the number of terms: \"))\n",
    "Cube_sum = (n*(n+1)/2)*2\n",
    "print(f\"The cube sum of first {n} natural numbers is\",Cube_sum)\n"
   ]
  }
 ],
 "metadata": {
  "kernelspec": {
   "display_name": "Python 3",
   "language": "python",
   "name": "python3"
  },
  "language_info": {
   "codemirror_mode": {
    "name": "ipython",
    "version": 3
   },
   "file_extension": ".py",
   "mimetype": "text/x-python",
   "name": "python",
   "nbconvert_exporter": "python",
   "pygments_lexer": "ipython3",
   "version": "3.10.2"
  },
  "orig_nbformat": 4
 },
 "nbformat": 4,
 "nbformat_minor": 2
}
