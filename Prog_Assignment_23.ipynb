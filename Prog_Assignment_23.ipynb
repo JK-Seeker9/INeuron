{
 "cells": [
  {
   "attachments": {},
   "cell_type": "markdown",
   "metadata": {},
   "source": [
    "Question 1\n",
    "Create a function that takes a number as an argument and returns True or False depending on whether the number is symmetrical or not. A number is symmetrical when it is the same as its reverse.\n",
    "Examples\n",
    "is_symmetrical(7227) ➞ True\n",
    "\n",
    "is_symmetrical(12567) ➞ False\n",
    "\n",
    "is_symmetrical(44444444) ➞ True\n",
    "\n",
    "is_symmetrical(9939) ➞ False\n",
    "\n",
    "is_symmetrical(1112111) ➞ True"
   ]
  },
  {
   "cell_type": "code",
   "execution_count": 2,
   "metadata": {},
   "outputs": [
    {
     "name": "stdout",
     "output_type": "stream",
     "text": [
      "7227 : True\n",
      "12567 : False\n",
      "44444444 : True\n",
      "9939 : False\n",
      "1112111 : True\n"
     ]
    }
   ],
   "source": [
    "def is_symmetrical(num):\n",
    "    if str(num) == str(num)[::-1]:\n",
    "        print(f\"{num} : {True}\")\n",
    "    else:\n",
    "        print(f\"{num} : {False}\")\n",
    "is_symmetrical(7227)\n",
    "is_symmetrical(12567) \n",
    "is_symmetrical(44444444) \n",
    "is_symmetrical(9939) \n",
    "is_symmetrical(1112111)"
   ]
  },
  {
   "attachments": {},
   "cell_type": "markdown",
   "metadata": {},
   "source": [
    "Question 2\n",
    "Given a string of numbers separated by a comma and space, return the product of the numbers.\n",
    "Examples\n",
    "multiply_nums(\"2, 3\") ➞ 6\n",
    "\n",
    "multiply_nums(\"1, 2, 3, 4\") ➞ 24\n",
    "\n",
    "multiply_nums(\"54, 75, 453, 0\") ➞ 0\n",
    "\n",
    "multiply_nums(\"10, -2\") ➞ -20\n"
   ]
  },
  {
   "cell_type": "code",
   "execution_count": 3,
   "metadata": {},
   "outputs": [
    {
     "name": "stdout",
     "output_type": "stream",
     "text": [
      "2,3 : 6\n",
      "1,2,3,4 : 24\n",
      "54,75,453,0 : 0\n",
      "10,-2 : -20\n"
     ]
    }
   ],
   "source": [
    "def multiply_nums(string):\n",
    "    new_string = string.replace(' ',' ').split(',')\n",
    "    mul = 1\n",
    "    for i in new_string:\n",
    "        mul *= int(i)\n",
    "    print(f\"{string} : {mul}\")\n",
    "  \n",
    "multiply_nums(\"2,3\")\n",
    "multiply_nums(\"1,2,3,4\")\n",
    "multiply_nums(\"54,75,453,0\") \n",
    "multiply_nums(\"10,-2\")"
   ]
  },
  {
   "attachments": {},
   "cell_type": "markdown",
   "metadata": {},
   "source": [
    "Question 3\n",
    "Create a function that squares every digit of a number.\n",
    "Examples\n",
    "square_digits(9119) ➞ 811181\n",
    "\n",
    "square_digits(2483) ➞ 416649\n",
    "\n",
    "square_digits(3212) ➞ 9414\n",
    "Notes\n",
    "The function receives an integer and must return an integer."
   ]
  },
  {
   "cell_type": "code",
   "execution_count": 7,
   "metadata": {},
   "outputs": [
    {
     "name": "stdout",
     "output_type": "stream",
     "text": [
      "sqare of every digit of 9119 is 811181\n",
      "sqare of every digit of 2483 is 416649\n",
      "sqare of every digit of 3212 is 9414\n"
     ]
    }
   ],
   "source": [
    "def square_digits(n):\n",
    "    my_list = [str(int(i)**2)  for i in str(n)]\n",
    "    prod = ''.join(my_list)\n",
    "    print(f\"sqare of every digit of {n} is {prod}\")\n",
    "square_digits(9119) \n",
    "square_digits(2483) \n",
    "square_digits(3212)"
   ]
  },
  {
   "attachments": {},
   "cell_type": "markdown",
   "metadata": {},
   "source": [
    "Question 4\n",
    "Create a function that sorts a list and removes all duplicate items from it.\n",
    "Examples\n",
    "setify([1, 3, 3, 5, 5]) ➞ [1, 3, 5]\n",
    "\n",
    "setify([4, 4, 4, 4]) ➞ [4]\n",
    "\n",
    "setify([5, 7, 8, 9, 10, 15]) ➞ [5, 7, 8, 9, 10, 15]\n",
    "\n",
    "setify([3, 3, 3, 2, 1]) ➞ [1, 2, 3]"
   ]
  },
  {
   "cell_type": "code",
   "execution_count": 12,
   "metadata": {},
   "outputs": [
    {
     "name": "stdout",
     "output_type": "stream",
     "text": [
      "Original list is [1, 3, 3, 5, 5]:-> [1, 3, 5]\n",
      "Original list is [4, 4, 4, 4]:-> [4]\n",
      "Original list is [5, 7, 8, 9, 10, 15]:-> [5, 7, 8, 9, 10, 15]\n",
      "Original list is [3, 3, 3, 2, 1]:-> [1, 2, 3]\n"
     ]
    }
   ],
   "source": [
    "def setify(my_list):\n",
    "    sort_list = sorted(set(my_list))\n",
    "    print(f\"Original list is {my_list}:-> {sort_list}\")\n",
    "setify([1,3,3,5,5]) \n",
    "setify([4,4,4,4]) \n",
    "setify([5,7,8,9,10,15])\n",
    "setify([3,3,3,2,1])"
   ]
  },
  {
   "attachments": {},
   "cell_type": "markdown",
   "metadata": {},
   "source": [
    "Question 5\n",
    "Create a function that returns the mean of all digits.\n",
    "Examples\n",
    "mean(42) ➞ 3\n",
    "\n",
    "mean(12345) ➞ 3\n",
    "\n",
    "mean(666) ➞ 6\n",
    "Notes\n",
    "•\tThe mean of all digits is the sum of digits / how many digits there are (e.g. mean of digits in 512 is (5+1+2)/3(number of digits) = 8/3=2).\n",
    "•\tThe mean will always be an integer."
   ]
  },
  {
   "cell_type": "code",
   "execution_count": 15,
   "metadata": {},
   "outputs": [
    {
     "name": "stdout",
     "output_type": "stream",
     "text": [
      "The mean of all the digits in 42 is: 3\n",
      "The mean of all the digits in 12345 is: 3\n",
      "The mean of all the digits in 666 is: 6\n"
     ]
    }
   ],
   "source": [
    "def mean(num):\n",
    "    list = [int(i) for i in str(num)]\n",
    "    mean_all = sum(list)/len(str(num))\n",
    "    print(f\"The mean of all the digits in {num} is: {int(mean_all)}\")\n",
    "mean(42)\n",
    "mean(12345)\n",
    "mean(666)"
   ]
  },
  {
   "cell_type": "code",
   "execution_count": null,
   "metadata": {},
   "outputs": [],
   "source": []
  }
 ],
 "metadata": {
  "kernelspec": {
   "display_name": "Python 3",
   "language": "python",
   "name": "python3"
  },
  "language_info": {
   "codemirror_mode": {
    "name": "ipython",
    "version": 3
   },
   "file_extension": ".py",
   "mimetype": "text/x-python",
   "name": "python",
   "nbconvert_exporter": "python",
   "pygments_lexer": "ipython3",
   "version": "3.9.7"
  },
  "orig_nbformat": 4
 },
 "nbformat": 4,
 "nbformat_minor": 2
}
