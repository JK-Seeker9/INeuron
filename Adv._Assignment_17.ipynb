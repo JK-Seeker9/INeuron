{
 "cells": [
  {
   "cell_type": "code",
   "execution_count": 2,
   "metadata": {},
   "outputs": [],
   "source": [
    "#Q1. Explain the difference between greedy and non-greedy syntax with visual terms in as few words as possible. What is the bare minimum effort required to transform a greedy pattern into a non-greedy one? What characters or characters can you introduce or change?\n",
    "#Ans:   Greedy Syntax tries to match as text as possible while non-greedy syntax matching tries to match as little text as possible. \n",
    "#       The bare minimum effort required to transform a greedy pattern into non greedy pattern is by adding a question mark '?' after the quantifier. The only character that can be introduces is a question mark (?)\n",
    "\n",
    "#Q2. When exactly does greedy versus non-greedy make a difference?  What if you're looking for a non-greedy match but the only one available is greedy?\n",
    "#Ans:   Greedy vs non-greedy matching makes diference while controlling the amount of text to be matched. If we want to match as much text as possible then, greedy matching is used. And, if we want to match as less text as possible, non-greedy matching is used.\n",
    "#       If we are looking for a non-greedy match but the only available is greedy, we use '?' to convert greedy match to non-greedy match. \n",
    "\n",
    "\n",
    "#Q3. In a simple match of a string, which looks only for one match and does not do any replacement, is the use of a nontagged group likely to make any practical difference?\n",
    "#Ans:   In a simple match of string, which looks only for one match and does not do any replacement, the use of non-tagged group can make a practical difference.\n",
    "#       The use of non tagged group can improve performance by reducing the amount of text that has to be processed.\n",
    "\n",
    "#Q4. Describe a scenario in which using a nontagged category would have a significant impact on the program's outcomes.\n",
    "#Ans:   Consider a scenario where a program is used to filter out spam emails. The program uses a regular expression to match the email addresses of known spam senders. If the regular expression uses a non-tagged group, the program will be able to filter out more spam emails.\n",
    "#       This is because the non-tagged group will not capture the text of the email address. This means that the program will not need to store the text of the email address in memory. As a result, the program will be able to process more emails in a shorter amount of time.\n",
    "#       In this scenario, the use of a non-tagged group can have a significant impact on the program's outcomes. The program will be able to filter out more spam emails and process more emails in a shorter amount of time.\n",
    "\n",
    "#Q5. Unlike a normal regex pattern, a look-ahead condition does not consume the characters it examines. Describe a situation in which this could make a difference in the results of your programme.\n",
    "#Ans:   Lets take a situation here:\n",
    "#       Suppose we want to match all the phone no.s that has 10 digit in it. For this we use regex /\\d{10}/. This will give us all the 10 digit phone numbers.\n",
    "#       Now if we want to filter out only the numbers that are from India, we use the look ahead condition with reg ex '/\\d{10}(?=\\d{91})/. This will match the numbers only form India which are preceded by +(91).\n",
    "\n",
    "#Q6. In standard expressions, what is the difference between positive look-ahead and negative look-ahead?\n",
    "#Ans:   In standard expressions, the difference between positive look-ahead and negative look-ahead is that positive look-ahead matches the pattern if the text is found after current position, while negative lookahead matches pattern if the text is not found after current position.\n",
    "#       The positive lookahead is denoted by (?=) and negative look ahaead is denoted by (?!)\n",
    "\n",
    "#Q7. What is the benefit of referring to groups by name rather than by number in a standard expression?\n",
    "#Ans:   There are deveral benefits of referring to groups by name rather than number in a standard expression. By using named groups, expressions can be more readble and easier to understand.\n",
    "#       Named group can be reused in other expressions. It is more flexible and can be useful for tasks such as extracting data from text or for storing information.\n",
    "\n",
    "#Q8. Can you identify repeated items within a target string using named groups, as in \"The cow jumped over the moon\"?\n",
    "#import re\n",
    "#my_text = \"The cow jumped over the moon\"\n",
    "#pattern = re.compile(r\"(?P <repeated>\\w+)(?=\\s+\\1)\")\n",
    "#matches = pattern.finditer(my_text)\n",
    "#for i in matches:\n",
    "#    repeated = i.group(\"repeated\")\n",
    "#    print(repeated)\n",
    "\n",
    "#Q9. When parsing a string, what is at least one thing that the Scanner interface does for you that the re.findall feature does not?\n",
    "#Ans:   The scanner interface provides features like: Tokenization, Type identification, position information, etc.\n",
    "\n",
    "#Q10. Does a scanner object have to be named scanner?\n",
    "#Ans:   No the scanner object does not have to be named scanner, it can be named anything. The name of scanner object is just a label that is used to refer it in the code."
   ]
  },
  {
   "cell_type": "code",
   "execution_count": null,
   "metadata": {},
   "outputs": [],
   "source": []
  }
 ],
 "metadata": {
  "kernelspec": {
   "display_name": "Python 3",
   "language": "python",
   "name": "python3"
  },
  "language_info": {
   "codemirror_mode": {
    "name": "ipython",
    "version": 3
   },
   "file_extension": ".py",
   "mimetype": "text/x-python",
   "name": "python",
   "nbconvert_exporter": "python",
   "pygments_lexer": "ipython3",
   "version": "3.9.7"
  },
  "orig_nbformat": 4
 },
 "nbformat": 4,
 "nbformat_minor": 2
}
