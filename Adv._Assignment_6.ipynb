{
 "cells": [
  {
   "cell_type": "code",
   "execution_count": 6,
   "metadata": {},
   "outputs": [],
   "source": [
    "#Q1. Describe three applications for exception processing.\n",
    "#Ans:   The three applications for exception processing are:\n",
    "#       Exception Handling : It is widely used for error handling. It ensures that an error is catched and handled and stop them to cause the program to crash.\n",
    "#       Resource Management: By using try-finally or try-excpet-finally, we can ensure that the resources are managed and cleaned properly, even if an exception occurs. \n",
    "#       Program flow control: Exception processing can be used to control the flow of the program by using custom exceptions in specific situtations."
   ]
  },
  {
   "cell_type": "code",
   "execution_count": 2,
   "metadata": {},
   "outputs": [],
   "source": [
    "#Q2. What happens if you don't do something extra to treat an exception?\n",
    "#Ans:   If the exception is not treated or handeled properly, it will result in termination of the program throwing an error message.\n",
    "#       The un-handled exception may result to program crash, incorrect results and also data leak in some cases. "
   ]
  },
  {
   "cell_type": "code",
   "execution_count": 3,
   "metadata": {},
   "outputs": [],
   "source": [
    "#Q3. What are your options for recovering from an exception in your script?\n",
    "#Ans:   For recovering from an exception in a script we can use try-except block. "
   ]
  },
  {
   "cell_type": "code",
   "execution_count": 4,
   "metadata": {},
   "outputs": [],
   "source": [
    "#Q4. Describe two methods for triggering exceptions in your script.\n",
    "#Ans:   The two methods for triggering exceptions are:\n",
    "#           Using the raise statement : It is raised manually by using the raise statement followed by the type of exception. \n",
    "#           Invoking built-in functions: Some builtin functions and methods in python can raise exceptions under certain conditions."
   ]
  },
  {
   "cell_type": "code",
   "execution_count": 5,
   "metadata": {},
   "outputs": [],
   "source": [
    "#Q5. Identify two methods for specifying actions to be executed at termination time, regardless of whether or not an exception exists.\n",
    "#Ans:   The two methods for specifying actions to be executed at termination time are: Using a finally block and using Context managaers."
   ]
  }
 ],
 "metadata": {
  "kernelspec": {
   "display_name": "Python 3",
   "language": "python",
   "name": "python3"
  },
  "language_info": {
   "codemirror_mode": {
    "name": "ipython",
    "version": 3
   },
   "file_extension": ".py",
   "mimetype": "text/x-python",
   "name": "python",
   "nbconvert_exporter": "python",
   "pygments_lexer": "ipython3",
   "version": "3.9.7"
  },
  "orig_nbformat": 4
 },
 "nbformat": 4,
 "nbformat_minor": 2
}
