{
 "cells": [
  {
   "cell_type": "code",
   "execution_count": 1,
   "metadata": {},
   "outputs": [],
   "source": [
    "#Q1. What is the relationship between classes and modules?\n",
    "#Ans:   Classes in Python are template for creating objects. They contain variables and functions which define the class objects. \n",
    "#       Modules are python programs that can be imported to another python program."
   ]
  },
  {
   "cell_type": "code",
   "execution_count": 2,
   "metadata": {},
   "outputs": [],
   "source": [
    "#Q2. How do you make instances and classes?\n",
    "#Ans:   The class statement is used to create new class followed by the name of class. \n",
    "#       To create instance of a class, the class is called using class name and arguments which are accepted by __init__ method is accepted are passed"
   ]
  },
  {
   "cell_type": "code",
   "execution_count": 3,
   "metadata": {},
   "outputs": [],
   "source": [
    "#Q3. Where and how should be class attributes created?\n",
    "#Ans:   Class attributes are the variables defined directly in the class that are shared by all the objects of that class."
   ]
  },
  {
   "cell_type": "code",
   "execution_count": 4,
   "metadata": {},
   "outputs": [],
   "source": [
    "#Q4. Where and how are instance attributes created?\n",
    "#Ans:   Instance attributes are attached to an instance of a class. They are defined in a constructor."
   ]
  },
  {
   "cell_type": "code",
   "execution_count": 5,
   "metadata": {},
   "outputs": [],
   "source": [
    "#Q5. What does the term \"self\" in a Python class mean?\n",
    "#Ans: The self Parameter is a refrence to the current instance of the class, and is used to access variables that belongs to the class."
   ]
  },
  {
   "cell_type": "code",
   "execution_count": 6,
   "metadata": {},
   "outputs": [],
   "source": [
    "#Q6. How does a Python class handle operator overloading?\n",
    "#Ans: Pyhton class handle operator overloading using magic methods. These are special methods that begin and ends with __. "
   ]
  },
  {
   "cell_type": "code",
   "execution_count": 7,
   "metadata": {},
   "outputs": [],
   "source": [
    "#Q7. When do you consider allowing operator overloading of your classes?\n",
    "#Ans: When we want to ensure that the operator behaves like a inbuilt type and also user defined types, allowing operator overloading of classes is considered."
   ]
  },
  {
   "cell_type": "code",
   "execution_count": 8,
   "metadata": {},
   "outputs": [],
   "source": [
    "#Q8. What is the most popular form of operator overloading?\n",
    "#Ans: The most popular form of operator overloading is '+' operator, it is used for adding up two numbers and also for combining two strings."
   ]
  },
  {
   "cell_type": "code",
   "execution_count": 9,
   "metadata": {},
   "outputs": [],
   "source": [
    "#Q9. What are the two most important concepts to grasp in order to comprehend Python OOP code?\n",
    "#Ans: Inheritance and polymorphysim are two concepts to grasp in prder to comprehend Python OOP code. Other most important topics are: Classes, objects, Abstraction and Encapsulation."
   ]
  }
 ],
 "metadata": {
  "kernelspec": {
   "display_name": "Python 3",
   "language": "python",
   "name": "python3"
  },
  "language_info": {
   "codemirror_mode": {
    "name": "ipython",
    "version": 3
   },
   "file_extension": ".py",
   "mimetype": "text/x-python",
   "name": "python",
   "nbconvert_exporter": "python",
   "pygments_lexer": "ipython3",
   "version": "3.9.7"
  },
  "orig_nbformat": 4
 },
 "nbformat": 4,
 "nbformat_minor": 2
}
