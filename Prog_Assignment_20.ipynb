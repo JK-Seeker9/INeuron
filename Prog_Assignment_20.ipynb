{
 "cells": [
  {
   "attachments": {},
   "cell_type": "markdown",
   "metadata": {},
   "source": [
    "Question1\n",
    "Create a function that takes a list of strings and integers, and filters out the list so that it returns a list of integers only.\n",
    "Examples\n",
    "filter_list([1, 2, 3, \"a\", \"b\", 4]) ➞ [1, 2, 3, 4]\n",
    "\n",
    "filter_list([\"A\", 0, \"Edabit\", 1729, \"Python\", \"1729\"]) ➞ [0, 1729]\n",
    "\n",
    "filter_list([\"Nothing\", \"here\"]) ➞ []"
   ]
  },
  {
   "cell_type": "code",
   "execution_count": 2,
   "metadata": {},
   "outputs": [
    {
     "name": "stdout",
     "output_type": "stream",
     "text": [
      "[1, 2, 4]\n",
      "[0, 1729]\n",
      "[]\n"
     ]
    }
   ],
   "source": [
    "def filter_list(my_alphanum):\n",
    "    new_list = []\n",
    "    for i in my_alphanum:\n",
    "        if type(i) == int:\n",
    "            new_list.append(i)\n",
    "    return new_list\n",
    "print(filter_list([1, 2, \"a\", \"b\",4]))\n",
    "print(filter_list([\"A\", 0, \"Edabit\", 1729, \"Python\", \"1729\"]))\n",
    "print(filter_list([\"Nothing\", \"here\"]))"
   ]
  },
  {
   "attachments": {},
   "cell_type": "markdown",
   "metadata": {},
   "source": [
    "Question2\n",
    "Given a list of numbers, create a function which returns the list but with each element's index in the list added to itself. This means you add 0 to the number at index 0, add 1 to the number at index 1, etc...\n",
    "Examples\n",
    "add_indexes([0, 0, 0, 0, 0]) ➞ [0, 1, 2, 3, 4]\n",
    "\n",
    "add_indexes([1, 2, 3, 4, 5]) ➞ [1, 3, 5, 7, 9]\n",
    "\n",
    "add_indexes([5, 4, 3, 2, 1]) ➞ [5, 5, 5, 5, 5]"
   ]
  },
  {
   "cell_type": "code",
   "execution_count": 3,
   "metadata": {},
   "outputs": [
    {
     "name": "stdout",
     "output_type": "stream",
     "text": [
      "output:  [0, 1, 2, 3, 4]\n",
      "output:  [1, 3, 5, 7, 9]\n",
      "output:  [5, 5, 5, 5, 5]\n"
     ]
    }
   ],
   "source": [
    "def add_indexes(my_list):\n",
    "    new_list = []\n",
    "    for i in range(len(my_list)):\n",
    "        new_list.append(i+my_list[i])\n",
    "    print(\"output: \",new_list)\n",
    "add_indexes([0,0,0,0,0])\n",
    "add_indexes([1,2,3,4,5])\n",
    "add_indexes([5,4,3,2,1])"
   ]
  },
  {
   "attachments": {},
   "cell_type": "markdown",
   "metadata": {},
   "source": [
    "Question3\n",
    "Create a function that takes the height and radius of a cone as arguments and returns the volume of the cone rounded to the nearest hundredth. See the resources tab for the formula.\n",
    " \n",
    "Examples\n",
    "cone_volume(3, 2) ➞ 12.57\n",
    "\n",
    "cone_volume(15, 6) ➞ 565.49\n",
    "\n",
    "cone_volume(18, 0) ➞ 0\n"
   ]
  },
  {
   "cell_type": "code",
   "execution_count": 6,
   "metadata": {},
   "outputs": [
    {
     "name": "stdout",
     "output_type": "stream",
     "text": [
      "volume of the cone with height 3 and radius 2 is: 12.57\n",
      "volume of the cone with height 15 and radius 6 is: 565.49\n",
      "volume of the cone with height 18 and radius 0 is: 0.0\n"
     ]
    }
   ],
   "source": [
    "import math\n",
    "def vol(h,r):\n",
    "    volume = ((math.pi)*(r**2)*(h/3))\n",
    "    print(f\"volume of the cone with height {h} and radius {r} is: {round(volume,2)}\")\n",
    "vol(3,2)\n",
    "vol(15,6)\n",
    "vol(18,0)"
   ]
  },
  {
   "attachments": {},
   "cell_type": "markdown",
   "metadata": {},
   "source": [
    "Question4\n",
    "This Triangular Number Sequence is generated from a pattern of dots that form a triangle. The first 5 numbers of the sequence, or dots, are: \n",
    "1, 3, 6, 10, 15\n",
    "This means that the first triangle has just one dot, the second one has three dots, the third one has 6 dots and so on.\n",
    "Write a function that gives the number of dots with its corresponding triangle number of the sequence.\n",
    "Examples\n",
    "triangle(1) ➞ 1\n",
    "\n",
    "triangle(6) ➞ 21\n",
    "\n",
    "triangle(215) ➞ 23220"
   ]
  },
  {
   "cell_type": "code",
   "execution_count": 8,
   "metadata": {},
   "outputs": [
    {
     "name": "stdout",
     "output_type": "stream",
     "text": [
      "Number of dots are:  1\n",
      "Number of dots are:  21\n",
      "Number of dots are:  23220\n"
     ]
    }
   ],
   "source": [
    "def triangle(num):\n",
    "    print(\"Number of dots are: \",int(((num)*(num+1))/2))\n",
    "triangle(1)\n",
    "triangle(6)\n",
    "triangle(215)"
   ]
  },
  {
   "attachments": {},
   "cell_type": "markdown",
   "metadata": {},
   "source": [
    "Question5\n",
    "Create a function that takes a list of numbers between 1 and 10 (excluding one number) and returns the missing number.\n",
    "Examples\n",
    "missing_num([1, 2, 3, 4, 6, 7, 8, 9, 10]) ➞ 5\n",
    "\n",
    "missing_num([7, 2, 3, 6, 5, 9, 1, 4, 8]) ➞ 10\n",
    "\n",
    "missing_num([10, 5, 1, 2, 4, 6, 8, 3, 9]) ➞ 7"
   ]
  },
  {
   "cell_type": "code",
   "execution_count": 9,
   "metadata": {},
   "outputs": [
    {
     "name": "stdout",
     "output_type": "stream",
     "text": [
      "[1, 2, 3, 4, 6, 7, 8, 9, 10] :5\n",
      "[7, 2, 3, 6, 5, 9, 1, 4, 8] :10\n",
      "[10, 5, 1, 2, 4, 6, 8, 3, 9] :7\n"
     ]
    }
   ],
   "source": [
    "def missing_num(my_list):\n",
    "    for i in range(1,11):\n",
    "        if i not in my_list:\n",
    "            print(f\"{my_list} :{i}\")\n",
    "missing_num([1,2,3,4,6,7,8,9,10])\n",
    "missing_num([7,2,3,6,5,9,1,4,8])\n",
    "missing_num([10,5,1,2,4,6,8,3,9])"
   ]
  },
  {
   "cell_type": "code",
   "execution_count": null,
   "metadata": {},
   "outputs": [],
   "source": []
  }
 ],
 "metadata": {
  "kernelspec": {
   "display_name": "Python 3",
   "language": "python",
   "name": "python3"
  },
  "language_info": {
   "codemirror_mode": {
    "name": "ipython",
    "version": 3
   },
   "file_extension": ".py",
   "mimetype": "text/x-python",
   "name": "python",
   "nbconvert_exporter": "python",
   "pygments_lexer": "ipython3",
   "version": "3.9.7"
  },
  "orig_nbformat": 4
 },
 "nbformat": 4,
 "nbformat_minor": 2
}
