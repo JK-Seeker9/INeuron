{
 "cells": [
  {
   "cell_type": "code",
   "execution_count": 1,
   "metadata": {},
   "outputs": [],
   "source": [
    "#Q1. Which two operator overloading methods can you use in your classes to support iteration?\n",
    "#Ans:   To support iteration in classes the two operator overloading methods that can be used are:\n",
    "#           __iter__(self): This method is used to define an iterator for a class\n",
    "#           __getitem__(self, index): This allows the user to access elements of the class using index operator."
   ]
  },
  {
   "cell_type": "code",
   "execution_count": 2,
   "metadata": {},
   "outputs": [],
   "source": [
    "#Q2. In what contexts do the two operator overloading methods manage printing?\n",
    "#Ans:   The two operator overloading methods to manage printing are: __str__() and __repr__().\n",
    "#       The __str__() method is called by the built-in str() and print() function and returns the string representation of the object. \n",
    "#       The __repr__() method is called by built-in repr() function. The repr() function is used for debugging and devevlopment purposes."
   ]
  },
  {
   "cell_type": "code",
   "execution_count": 3,
   "metadata": {},
   "outputs": [],
   "source": [
    "#Q3. In a class, how do you intercept slice operations?\n",
    "#Ans:   In a class, slice operations can be intercepted by using __getitem__() method. __getitem__(slice(start,stop,step))"
   ]
  },
  {
   "cell_type": "code",
   "execution_count": 4,
   "metadata": {},
   "outputs": [],
   "source": [
    "#Q4. In a class, how do you capture in-place addition?\n",
    "#Ans:   In a class we can capture in-place addition (augmented assignment) using __iadd__() method. \n",
    "#       This method allows us to define when =+ operator is used to perform in place addition. "
   ]
  },
  {
   "cell_type": "code",
   "execution_count": 5,
   "metadata": {},
   "outputs": [],
   "source": [
    "#Q5. When is it appropriate to use operator overloading?\n",
    "#Ans:   It is good to use operator overloading only when we want to provide extended meaning to an operator beyond their predefined operational meaning."
   ]
  }
 ],
 "metadata": {
  "kernelspec": {
   "display_name": "Python 3",
   "language": "python",
   "name": "python3"
  },
  "language_info": {
   "codemirror_mode": {
    "name": "ipython",
    "version": 3
   },
   "file_extension": ".py",
   "mimetype": "text/x-python",
   "name": "python",
   "nbconvert_exporter": "python",
   "pygments_lexer": "ipython3",
   "version": "3.9.7"
  },
  "orig_nbformat": 4
 },
 "nbformat": 4,
 "nbformat_minor": 2
}
