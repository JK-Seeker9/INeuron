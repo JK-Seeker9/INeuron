{
 "cells": [
  {
   "cell_type": "code",
   "execution_count": 1,
   "metadata": {},
   "outputs": [],
   "source": [
    "#1.\tWrite a Python Program to Find the Factorial of a Number?"
   ]
  },
  {
   "cell_type": "code",
   "execution_count": 9,
   "metadata": {},
   "outputs": [
    {
     "name": "stdout",
     "output_type": "stream",
     "text": [
      "The factorial of 10 is 3628800\n"
     ]
    }
   ],
   "source": [
    "n=int(input(\"Enter a number: \"))\n",
    "fact=1\n",
    "if n>0:\n",
    "    for i in range(1,n+1):\n",
    "        fact=fact*i\n",
    "    print(f\"The factorial of {n} is {fact}\")\n",
    "else:\n",
    "    print(\"Factorial NA\")"
   ]
  },
  {
   "cell_type": "code",
   "execution_count": 2,
   "metadata": {},
   "outputs": [],
   "source": [
    "#2.\tWrite a Python Program to Display the multiplication Table?"
   ]
  },
  {
   "cell_type": "code",
   "execution_count": 11,
   "metadata": {},
   "outputs": [
    {
     "name": "stdout",
     "output_type": "stream",
     "text": [
      "2 X 1 = 2\n",
      "2 X 2 = 4\n",
      "2 X 3 = 6\n",
      "2 X 4 = 8\n",
      "2 X 5 = 10\n",
      "2 X 6 = 12\n",
      "2 X 7 = 14\n",
      "2 X 8 = 16\n",
      "2 X 9 = 18\n",
      "2 X 10 = 20\n"
     ]
    }
   ],
   "source": [
    "num=int(input(\"Enter a number for multiplication table\"))\n",
    "for i in range(1,11):\n",
    "    mul_num=num*i\n",
    "    print(num,\"X\",i,\"=\",mul_num)"
   ]
  },
  {
   "cell_type": "code",
   "execution_count": 3,
   "metadata": {},
   "outputs": [],
   "source": [
    "#3.\tWrite a Python Program to Print the Fibonacci sequence?"
   ]
  },
  {
   "cell_type": "code",
   "execution_count": 13,
   "metadata": {},
   "outputs": [
    {
     "name": "stdout",
     "output_type": "stream",
     "text": [
      "0\n",
      "1\n",
      "1\n",
      "2\n",
      "3\n",
      "5\n",
      "8\n",
      "13\n",
      "21\n",
      "34\n"
     ]
    }
   ],
   "source": [
    "x=int(input(\"Enter the number of terms: \"))\n",
    "t1=0\n",
    "t2=1\n",
    "cnt=0\n",
    "while cnt<x:\n",
    "    print(t1)\n",
    "    t_nth=t1+t2\n",
    "    t1=t2\n",
    "    t2=t_nth\n",
    "    cnt=cnt+1"
   ]
  },
  {
   "cell_type": "code",
   "execution_count": 4,
   "metadata": {},
   "outputs": [],
   "source": [
    "#4.\tWrite a Python Program to Check Armstrong Number?"
   ]
  },
  {
   "cell_type": "code",
   "execution_count": 17,
   "metadata": {},
   "outputs": [
    {
     "name": "stdout",
     "output_type": "stream",
     "text": [
      "The number 1634 is not an Armstrong number\n"
     ]
    }
   ],
   "source": [
    "arm_str=int(input(\"Enter a number: \"))\n",
    "power=len(str(arm_str)) #checking the number of digits in the input number.\n",
    "sum=0\n",
    "x=arm_str\n",
    "while x>0:              #calculating the power of each digit in input\n",
    "    digit= x % 10\n",
    "    sum= sum+digit**power\n",
    "    x= x/10\n",
    "if arm_str==sum:        #checking if the number is armstong or not\n",
    "    print(f\"The number {arm_str}is Armstrong number\")\n",
    "else:\n",
    "    print(f\"The number {arm_str} is not an Armstrong number\")"
   ]
  },
  {
   "cell_type": "code",
   "execution_count": 1,
   "metadata": {},
   "outputs": [],
   "source": [
    "#5.\tWrite a Python Program to Find Armstrong Number in an Interval?"
   ]
  },
  {
   "cell_type": "code",
   "execution_count": 5,
   "metadata": {},
   "outputs": [
    {
     "name": "stdout",
     "output_type": "stream",
     "text": [
      "153\n",
      "370\n",
      "371\n",
      "407\n",
      "1634\n"
     ]
    }
   ],
   "source": [
    "lower = int(input(\"Enter a number to start: \"))\n",
    "upper = int(input(\"Enter ending number: \"))\n",
    "\n",
    "for i in range(lower, upper + 1):\n",
    "   order = len(str(i))\n",
    "   sum = 0\n",
    "   temp = i\n",
    "   while temp > 0:\n",
    "       digit = temp % 10\n",
    "       sum = sum + digit ** order\n",
    "       temp = temp//10\n",
    "   if i == sum:\n",
    "       print(i)"
   ]
  },
  {
   "cell_type": "code",
   "execution_count": 6,
   "metadata": {},
   "outputs": [],
   "source": [
    "#6.\tWrite a Python Program to Find the Sum of Natural Numbers?"
   ]
  },
  {
   "cell_type": "code",
   "execution_count": 10,
   "metadata": {},
   "outputs": [
    {
     "name": "stdout",
     "output_type": "stream",
     "text": [
      "The sum of natural numbers till 50 is 1275\n"
     ]
    }
   ],
   "source": [
    "sum = 0\n",
    "n = int(input(\"Enter a number: \"))\n",
    "for i in range (0, n+1):\n",
    "    sum=sum+i\n",
    "print(f\"The sum of natural numbers till {n} is\", sum) "
   ]
  }
 ],
 "metadata": {
  "kernelspec": {
   "display_name": "Python 3",
   "language": "python",
   "name": "python3"
  },
  "language_info": {
   "codemirror_mode": {
    "name": "ipython",
    "version": 3
   },
   "file_extension": ".py",
   "mimetype": "text/x-python",
   "name": "python",
   "nbconvert_exporter": "python",
   "pygments_lexer": "ipython3",
   "version": "3.9.7"
  },
  "orig_nbformat": 4
 },
 "nbformat": 4,
 "nbformat_minor": 2
}
