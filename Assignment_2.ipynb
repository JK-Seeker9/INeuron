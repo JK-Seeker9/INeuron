{
 "cells": [
  {
   "cell_type": "code",
   "execution_count": null,
   "metadata": {},
   "outputs": [],
   "source": [
    "#1.What are the two values of the Boolean data type? How do you write them?\n",
    "#Ans:   There are two values of boolean data type, True and False. \n",
    "#       Boolean expressions use relational and logical operators and returns True or False. "
   ]
  },
  {
   "cell_type": "code",
   "execution_count": null,
   "metadata": {},
   "outputs": [],
   "source": [
    "#2. What are the three different types of Boolean operators?\n",
    "#Ans:   There are three Boolean operators AND, OR, Not."
   ]
  },
  {
   "cell_type": "code",
   "execution_count": null,
   "metadata": {},
   "outputs": [],
   "source": [
    "#3. Make a list of each Boolean operator's truth tables (i.e. every possible combination of Boolean values for the operator and what it evaluate ).\n",
    "#Ans:   AND : True only if both the conditions are true\n",
    "#       OR  : True if any one condition is true\n",
    "#       Not : True only when the condition is false "
   ]
  },
  {
   "cell_type": "code",
   "execution_count": null,
   "metadata": {},
   "outputs": [],
   "source": [
    "#4. What are the values of the following expressions?\n",
    "#   (5 > 4) and (3 == 5) : False\n",
    "#   not (5 > 4) : False\n",
    "#   (5 > 4) or (3 == 5) : True\n",
    "#   not ((5 > 4) or (3 == 5)) : False\n",
    "#   (True and True) and (True == False) : False\n",
    "#   (not False) or (not True) : True\n",
    "(not False) or (not True)"
   ]
  },
  {
   "cell_type": "code",
   "execution_count": null,
   "metadata": {},
   "outputs": [],
   "source": [
    "#5. What are the six comparison operators?\n",
    "#Ans:   ==  : Equal to\n",
    "#       !=  : Not equal to\n",
    "#       >   : Greater than\n",
    "#       <   : Less than\n",
    "#       >=  : Greater than or equal to\n",
    "#       <=  : Less than or equal to   "
   ]
  },
  {
   "cell_type": "code",
   "execution_count": null,
   "metadata": {},
   "outputs": [],
   "source": [
    "#6. How do you tell the difference between the equal to and assignment operators?Describe a condition and when you would use one.\n",
    "#Ans:   Equal to operator is a comparison operator and is written as '=='. It is used check wether the two expressions are equal or not.\n",
    "#       Assignment operator is used to assign a value or result to a variable. It is written as '='.\n",
    "#       x = 10, y=20 -> Assignment operator\n",
    "#       x==y         -> Equal to operator"
   ]
  },
  {
   "cell_type": "code",
   "execution_count": null,
   "metadata": {},
   "outputs": [],
   "source": [
    "#7. Identify the three blocks in this code:\n",
    "#   spam = 0\n",
    "#   if spam == 10:\n",
    "#       print('eggs')\n",
    "#       if spam > 5:\n",
    "#           print('bacon')\n",
    "#       else:\n",
    "#           print('ham')\n",
    "#       print('spam')\n",
    "#   print('spam')\n",
    "spam = 0\n",
    "if spam == 10:              #   block 1\n",
    "    print('eggs')\n",
    "if spam > 5:                #   block 2\n",
    "    print('bacon')\n",
    "else:                       #   block 3\n",
    "    print('ham')\n",
    "print('spam')\n",
    "print('spam')"
   ]
  },
  {
   "cell_type": "code",
   "execution_count": null,
   "metadata": {},
   "outputs": [],
   "source": [
    "#8. Write code that prints Hello if 1 is stored in spam, \n",
    "#   prints Howdy if 2 is stored in spam, and prints Greetings! if anything else is stored in spam.\n",
    "spam = int(input())\n",
    "if(spam==1):\n",
    "    print(\"Hello\")\n",
    "elif(spam==2):\n",
    "    print(\"Howdy\")\n",
    "else:\n",
    "    print(\"Greetings!\")"
   ]
  },
  {
   "cell_type": "code",
   "execution_count": null,
   "metadata": {},
   "outputs": [],
   "source": [
    "#9. If your programme is stuck in an endless loop, what keys you’ll press?\n",
    "#Ans:   Ctrl+C"
   ]
  },
  {
   "cell_type": "code",
   "execution_count": null,
   "metadata": {},
   "outputs": [],
   "source": [
    "#10. How can you tell the difference between break and continue?\n",
    "#Ans:   The break statement skips the whole iteration. Continue statement skips only the current iteration."
   ]
  },
  {
   "cell_type": "code",
   "execution_count": null,
   "metadata": {},
   "outputs": [],
   "source": [
    "#11. In a for loop, what is the difference between range(10), range(0, 10), and range(0, 10, 1)?\n",
    "#   range(10)       : takes one argument i.e., Stop\n",
    "#   range(0, 10)    : takes two arguments i.e., Start and Stop\n",
    "#   range(0, 10, 1) : takes three arguments i.e, Start, Stop and no. of steps to skip\n",
    "for i in range(0,10,1):\n",
    "    print(i) "
   ]
  },
  {
   "cell_type": "code",
   "execution_count": 41,
   "metadata": {},
   "outputs": [
    {
     "name": "stdout",
     "output_type": "stream",
     "text": [
      "0\n",
      "1\n",
      "2\n",
      "3\n",
      "4\n",
      "5\n",
      "6\n",
      "7\n",
      "8\n",
      "9\n",
      "10\n"
     ]
    }
   ],
   "source": [
    "#12. Write a short program that prints the numbers 1 to 10 using a for loop. \n",
    "#    Then write an equivalent program that prints the numbers 1 to 10 using a while loop.\n",
    "for i in range(11):\n",
    "    print(i)"
   ]
  },
  {
   "cell_type": "code",
   "execution_count": 40,
   "metadata": {},
   "outputs": [
    {
     "name": "stdout",
     "output_type": "stream",
     "text": [
      "0\n",
      "1\n",
      "2\n",
      "3\n",
      "4\n",
      "5\n",
      "6\n",
      "7\n",
      "8\n",
      "9\n",
      "10\n"
     ]
    }
   ],
   "source": [
    "j=0\n",
    "while(j<=10):\n",
    "    print(j)\n",
    "    j=j+1\n",
    "    "
   ]
  },
  {
   "cell_type": "code",
   "execution_count": 42,
   "metadata": {},
   "outputs": [],
   "source": [
    "#13. If you had a function named bacon() inside a module named spam, how would you call it after importing spam?\n",
    "#Ans: After importing the module spam the function bacon() can be called by writting following line: spam.bacon()"
   ]
  }
 ],
 "metadata": {
  "kernelspec": {
   "display_name": "Python 3",
   "language": "python",
   "name": "python3"
  },
  "language_info": {
   "codemirror_mode": {
    "name": "ipython",
    "version": 3
   },
   "file_extension": ".py",
   "mimetype": "text/x-python",
   "name": "python",
   "nbconvert_exporter": "python",
   "pygments_lexer": "ipython3",
   "version": "3.9.7"
  },
  "orig_nbformat": 4,
  "vscode": {
   "interpreter": {
    "hash": "c347c8f9a7ef94e4c9e03b4513be7835ed18f45b99a2a817fb579f408b867b16"
   }
  }
 },
 "nbformat": 4,
 "nbformat_minor": 2
}
