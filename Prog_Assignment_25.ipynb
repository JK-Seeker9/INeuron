{
 "cells": [
  {
   "attachments": {},
   "cell_type": "markdown",
   "metadata": {},
   "source": [
    "Question1\n",
    "Create a function that takes three integer arguments (a, b, c) and returns the amount of integers which are of equal value.\n",
    "Examples\n",
    "equal(3, 4, 3) ➞ 2\n",
    "\n",
    "equal(1, 1, 1) ➞ 3\n",
    "\n",
    "equal(3, 4, 1) ➞ 0 \n",
    "Notes\n",
    "Your function must return 0, 2 or 3."
   ]
  },
  {
   "cell_type": "code",
   "execution_count": 2,
   "metadata": {},
   "outputs": [
    {
     "name": "stdout",
     "output_type": "stream",
     "text": [
      "equal(3, 4, 3) : 2\n",
      "equal(1, 1, 1) : 3\n",
      "equal(3, 4, 1) : 0\n"
     ]
    }
   ],
   "source": [
    "def equal(a,b,c):\n",
    "    if (a==b==c) :\n",
    "        print(f\"equal{a,b,c} : {3}\")\n",
    "    elif (a==c!=b) or (a==b!=c) or (b==c!=a):\n",
    "        print(f\"equal{a,b,c} : {2}\")\n",
    "    else:\n",
    "        print(f\"equal{a,b,c} : {0}\")\n",
    "equal(3,4,3)\n",
    "equal(1,1,1)\n",
    "equal(3,4,1)"
   ]
  },
  {
   "attachments": {},
   "cell_type": "markdown",
   "metadata": {},
   "source": [
    "Question2\n",
    "Write a function that converts a dictionary into a list of keys-values tuples.\n",
    "Examples\n",
    "dict_to_list({\n",
    "  \"D\": 1,\n",
    "  \"B\": 2,\n",
    "  \"C\": 3\n",
    "}) ➞ [(\"B\", 2), (\"C\", 3), (\"D\", 1)]\n",
    "\n",
    "dict_to_list({\n",
    "  \"likes\": 2,\n",
    "  \"dislikes\": 3,\n",
    "  \"followers\": 10\n",
    "}) ➞ [(\"dislikes\", 3), (\"followers\", 10), (\"likes\", 2)]\n",
    "Notes\n",
    "Return the elements in the list in alphabetical order."
   ]
  },
  {
   "cell_type": "code",
   "execution_count": 3,
   "metadata": {},
   "outputs": [
    {
     "name": "stdout",
     "output_type": "stream",
     "text": [
      "{'D': 1, 'B': 2, 'C': 3} : [('B', 2), ('C', 3), ('D', 1)]\n",
      "{'likes': 2, 'dislikes': 3, 'followers': 10} : [('dislikes', 3), ('followers', 10), ('likes', 2)]\n"
     ]
    }
   ],
   "source": [
    "def dict_to_list(my_dict):\n",
    "    new_list = []\n",
    "    for keys,values in my_dict.items():\n",
    "        new_list.append((keys,values))\n",
    "    print(f\"{my_dict} : {sorted(new_list)}\")\n",
    "dict_to_list({\"D\":1,\"B\":2,\"C\":3})\n",
    "dict_to_list({\"likes\":2,\"dislikes\":3,\"followers\":10})"
   ]
  },
  {
   "attachments": {},
   "cell_type": "markdown",
   "metadata": {},
   "source": [
    "Question3\n",
    "Write a function that creates a dictionary with each (key, value) pair being the (lower case, upper case) versions of a letter, respectively.\n",
    "Examples\n",
    "mapping([\"p\", \"s\"]) ➞ { \"p\": \"P\", \"s\": \"S\" }\n",
    "\n",
    "mapping([\"a\", \"b\", \"c\"]) ➞ { \"a\": \"A\", \"b\": \"B\", \"c\": \"C\" }\n",
    "\n",
    "mapping([\"a\", \"v\", \"y\", \"z\"]) ➞ { \"a\": \"A\", \"v\": \"V\", \"y\": \"Y\", \"z\": \"Z\" }\n",
    "Notes\n",
    "All of the letters in the input list will always be lowercase."
   ]
  },
  {
   "cell_type": "code",
   "execution_count": 4,
   "metadata": {},
   "outputs": [
    {
     "name": "stdout",
     "output_type": "stream",
     "text": [
      "['p', 's'] : {'p': 'P', 's': 'S'}\n",
      "['a', 'b', 'c'] : {'a': 'A', 'b': 'B', 'c': 'C'}\n",
      "['a', 'v', 'y', 'z'] : {'a': 'A', 'v': 'V', 'y': 'Y', 'z': 'Z'}\n"
     ]
    }
   ],
   "source": [
    "def mapping(my_list):\n",
    "    new_dict = {}\n",
    "    for i in my_list:\n",
    "        new_dict[i] = i.upper()\n",
    "    print(f\"{my_list} : {new_dict}\")\n",
    "mapping([\"p\",\"s\"]) \n",
    "mapping([\"a\",\"b\",\"c\"])\n",
    "mapping([\"a\",\"v\",\"y\",\"z\"]) "
   ]
  },
  {
   "attachments": {},
   "cell_type": "markdown",
   "metadata": {},
   "source": [
    "Question4\n",
    "Write a function, that replaces all vowels in a string with a specified vowel.\n",
    "Examples\n",
    "vow_replace(\"apples and bananas\", \"u\") ➞ \"upplus und bununus\"\n",
    "\n",
    "vow_replace(\"cheese casserole\", \"o\") ➞ \"chooso cossorolo\"\n",
    "\n",
    "vow_replace(\"stuffed jalapeno poppers\", \"e\") ➞ \"steffed jelepene peppers\"\n",
    "Notes\n",
    "All words will be lowercase. Y is not considered a vowel."
   ]
  },
  {
   "cell_type": "code",
   "execution_count": 5,
   "metadata": {},
   "outputs": [
    {
     "name": "stdout",
     "output_type": "stream",
     "text": [
      "('apples and bananas', 'u') : upplus und bununus\n",
      "('cheese casserole', 'o') : chooso cossorolo\n",
      "('stuffed jalapeno poppers', 'e') : steffed jelepene peppers\n"
     ]
    }
   ],
   "source": [
    "def vow_replace(my_string,vow):\n",
    "    altered_str = ''\n",
    "    vowels = [\"a\",\"e\",\"i\",\"o\",\"u\"]\n",
    "    for i in my_string:\n",
    "        if i in vowels:\n",
    "            altered_str+=vow\n",
    "        else:\n",
    "            altered_str+=i\n",
    "    print(f\"{my_string,vow} : {altered_str}\")\n",
    "vow_replace(\"apples and bananas\",\"u\")\n",
    "vow_replace(\"cheese casserole\",\"o\") \n",
    "vow_replace(\"stuffed jalapeno poppers\",\"e\") "
   ]
  },
  {
   "attachments": {},
   "cell_type": "markdown",
   "metadata": {},
   "source": [
    "Question5\n",
    "Create a function that takes a string as input and capitalizes a letter if its ASCII code is even and returns its lower case version if its ASCII code is odd.\n",
    "Examples\n",
    "ascii_capitalize(\"to be or not to be!\") ➞ \"To Be oR NoT To Be!\"\n",
    "\n",
    "ascii_capitalize(\"THE LITTLE MERMAID\") ➞ \"THe LiTTLe meRmaiD\"\n",
    "\n",
    "ascii_capitalize(\"Oh what a beautiful morning.\") ➞ \"oH wHaT a BeauTiFuL moRNiNg.\""
   ]
  },
  {
   "cell_type": "code",
   "execution_count": 7,
   "metadata": {},
   "outputs": [
    {
     "name": "stdout",
     "output_type": "stream",
     "text": [
      "to be or not to be! : To Be oR NoT To Be!\n",
      "THE LITTLE MERMAID : THe LiTTLe meRmaiD\n",
      "Oh what a beautiful morning. : oH wHaT a BeauTiFuL moRNiNg.\n"
     ]
    }
   ],
   "source": [
    "def ascii_capitalize(my_string):\n",
    "    ASCII_str = \"\"\n",
    "    for i in my_string:\n",
    "        if (ord(i)%2==0):\n",
    "            ASCII_str+=i.upper()\n",
    "        else:\n",
    "            ASCII_str+=i.lower()\n",
    "    print(f\"{my_string} : {ASCII_str}\")\n",
    "ascii_capitalize(\"to be or not to be!\") \n",
    "ascii_capitalize(\"THE LITTLE MERMAID\")\n",
    "ascii_capitalize(\"Oh what a beautiful morning.\") "
   ]
  },
  {
   "cell_type": "code",
   "execution_count": null,
   "metadata": {},
   "outputs": [],
   "source": []
  }
 ],
 "metadata": {
  "kernelspec": {
   "display_name": "Python 3",
   "language": "python",
   "name": "python3"
  },
  "language_info": {
   "codemirror_mode": {
    "name": "ipython",
    "version": 3
   },
   "file_extension": ".py",
   "mimetype": "text/x-python",
   "name": "python",
   "nbconvert_exporter": "python",
   "pygments_lexer": "ipython3",
   "version": "3.9.7"
  },
  "orig_nbformat": 4
 },
 "nbformat": 4,
 "nbformat_minor": 2
}
