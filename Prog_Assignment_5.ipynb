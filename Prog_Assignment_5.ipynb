{
 "cells": [
  {
   "cell_type": "code",
   "execution_count": 5,
   "metadata": {},
   "outputs": [
    {
     "name": "stdout",
     "output_type": "stream",
     "text": [
      "The LCM of 4 and 5 is 20\n"
     ]
    }
   ],
   "source": [
    "#1.\tWrite a Python Program to Find LCM?\n",
    "def lcm(a,b):\n",
    "    if a>b:\n",
    "        greater = a\n",
    "    else:\n",
    "        greater = b\n",
    "    while True:\n",
    "        if((greater % a == 0) and greater % b == 0):\n",
    "            lcm = greater\n",
    "            break\n",
    "        greater += 1\n",
    "    return lcm\n",
    "num_1 = int(input(\"Enter 1st number: \"))\n",
    "num_2 = int(input(\"Enter 2nd number: \"))\n",
    "print(f\"The LCM of {num_1} and {num_2} is\", lcm(num_1,num_2))"
   ]
  },
  {
   "cell_type": "code",
   "execution_count": 6,
   "metadata": {},
   "outputs": [
    {
     "name": "stdout",
     "output_type": "stream",
     "text": [
      "The HCF of 6 and 24 is 6\n"
     ]
    }
   ],
   "source": [
    "#2.\tWrite a Python Program to Find HCF?\n",
    "def hcf(a,b):\n",
    "    if a>b:\n",
    "        smaller = a\n",
    "    else:\n",
    "        smaller = b\n",
    "    for i in range  (1,1+smaller):\n",
    "        if((a%i == 0) and (b%i == 0)):\n",
    "            hcf = i\n",
    "    return hcf\n",
    "num_1 = int(input(\"Enter 1st number: \"))\n",
    "num_2 = int(input(\"Enter 2nd number: \"))\n",
    "print(f\"The HCF of {num_1} and {num_2} is\", hcf(num_1,num_2))"
   ]
  },
  {
   "cell_type": "code",
   "execution_count": 7,
   "metadata": {},
   "outputs": [
    {
     "name": "stdout",
     "output_type": "stream",
     "text": [
      "The binary equivallent of 20 is 0b10100\n",
      "The october equivallent of 20 is 0o24\n",
      "The october equivallent of 20 is 0x14\n"
     ]
    }
   ],
   "source": [
    "#3.\tWrite a Python Program to Convert Decimal to Binary, Octal and Hexadecimal?\n",
    "def dec_to_bin(num):            #decimal to binary\n",
    "    d_num = int(num)\n",
    "    print(f\"The binary equivallent of {d_num} is\", bin(d_num))  #used inbuilt function bin() to convert a number to binary.\n",
    "def dec_to_oct(num):            #decimal to octal\n",
    "    d_num = int(num)\n",
    "    print(f\"The october equivallent of {d_num} is\", oct(d_num)) #used inbuilt function oct() to convert a number to Octal.\n",
    "def dec_to_hex(num):            #decimal to HexaDecimal\n",
    "    d_num = int(num)\n",
    "    print(f\"The october equivallent of {d_num} is\", hex(d_num)) #used inbuilt function hex() to convert a number to Hexadecimal.\n",
    "num = int(input(\"Enter a decimal number: \"))\n",
    "dec_to_bin(num)\n",
    "dec_to_oct(num)\n",
    "dec_to_hex(num)\n"
   ]
  },
  {
   "cell_type": "code",
   "execution_count": 9,
   "metadata": {},
   "outputs": [
    {
     "name": "stdout",
     "output_type": "stream",
     "text": [
      "The ASCII value of character J is:  74\n"
     ]
    }
   ],
   "source": [
    "#4.\tWrite a Python Program To Find ASCII value of a character?\n",
    "a = str(input(\" Enter a character: \"))\n",
    "print(f\"The ASCII value of character {a} is: \", ord(a))"
   ]
  },
  {
   "cell_type": "code",
   "execution_count": 11,
   "metadata": {},
   "outputs": [
    {
     "name": "stdout",
     "output_type": "stream",
     "text": [
      "Select Operation\n",
      "a. Add\n",
      "b. Subtratct\n",
      "c. Multiply\n",
      "d. Divide\n",
      "50 - 20 = 30\n"
     ]
    }
   ],
   "source": [
    "#5.\tWrite a Python Program to Make a Simple Calculator with 4 basic mathematical operations?\n",
    "def add(a,b):\n",
    "    return a+b\n",
    "def sub(a,b):\n",
    "    return a-b\n",
    "def multiply(a,b):\n",
    "    return a*b\n",
    "def division(a,b):\n",
    "    return a/b\n",
    "print(\"Select Operation\")\n",
    "print(\"a. Add\")\n",
    "print(\"b. Subtratct\")\n",
    "print(\"c. Multiply\")\n",
    "print(\"d. Divide\")\n",
    "\n",
    "Select = input(\"Please select an operation to perform(a/b/c/d): \")\n",
    "\n",
    "num_1 = int(input(\"Enter 1st number: \"))\n",
    "num_2 = int(input(\"Enter 2nd number: \"))\n",
    "\n",
    "if Select == 'a':\n",
    "    print(f\"{num_1} + {num_2} =\", add(num_1,num_2))\n",
    "elif Select == 'b':\n",
    "    print(f\"{num_1} - {num_2} =\", sub(num_1,num_2))\n",
    "elif Select == 'c':\n",
    "    print(f\"{num_1} X {num_2} =\", multiply(num_1,num_2))\n",
    "elif Select == 'd':\n",
    "    print(f\"{num_1} / {num_2} =\", division(num_1,num_2))\n",
    "else:\n",
    "    print(\"Invalid Input\")"
   ]
  },
  {
   "cell_type": "code",
   "execution_count": null,
   "metadata": {},
   "outputs": [],
   "source": []
  }
 ],
 "metadata": {
  "kernelspec": {
   "display_name": "Python 3",
   "language": "python",
   "name": "python3"
  },
  "language_info": {
   "codemirror_mode": {
    "name": "ipython",
    "version": 3
   },
   "file_extension": ".py",
   "mimetype": "text/x-python",
   "name": "python",
   "nbconvert_exporter": "python",
   "pygments_lexer": "ipython3",
   "version": "3.9.7"
  },
  "orig_nbformat": 4
 },
 "nbformat": 4,
 "nbformat_minor": 2
}
