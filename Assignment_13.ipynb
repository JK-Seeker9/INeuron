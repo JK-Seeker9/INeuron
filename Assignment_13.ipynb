{
 "cells": [
  {
   "cell_type": "code",
   "execution_count": 1,
   "metadata": {},
   "outputs": [],
   "source": [
    "#1. What advantages do Excel spreadsheets have over CSV spreadsheets?\n",
    "#Ans:   Excel supports formatting, functions and formulaes, can handle multiple worksheets within a single file, supports visual reprsentation and other data analysis features. "
   ]
  },
  {
   "cell_type": "code",
   "execution_count": 2,
   "metadata": {},
   "outputs": [],
   "source": [
    "#2.What do you pass to csv.reader() and csv.writer() to create reader and writer objects?\n",
    "#Ans:   To create reader and writer objects, a file object is passed as an argument to csv.reader() and csv.writer(). e.g., csv.reader(filename.csv) "
   ]
  },
  {
   "cell_type": "code",
   "execution_count": 3,
   "metadata": {},
   "outputs": [],
   "source": [
    "#3. What modes do File objects for reader and writer objects need to be opened in?\n",
    "#Ans:   The file objects for reader or writer objects need to be opened in text mode or binary mode. For reader 'r' or 'rb' and for writer 'w' or 'wb'."
   ]
  },
  {
   "cell_type": "code",
   "execution_count": 4,
   "metadata": {},
   "outputs": [],
   "source": [
    "#4. What method takes a list argument and writes it to a CSV file?\n",
    "#Ans:   The writerow() method takes a list argument and writes it to a CSV file."
   ]
  },
  {
   "cell_type": "code",
   "execution_count": 5,
   "metadata": {},
   "outputs": [],
   "source": [
    "#5. What do the keyword arguments delimiter and line terminator do?\n",
    "#Ans:   The keyword argument delimiter is used to sepecify a character to seperate fields in CSV file. By default it is comma (,).\n",
    "#       The keyword argument line terminator is used to specify character sequnce to terminate a line."
   ]
  },
  {
   "cell_type": "code",
   "execution_count": 6,
   "metadata": {},
   "outputs": [],
   "source": [
    "#6. What function takes a string of JSON data and returns a Python data structure?\n",
    "#Ans:   jason.loads() function takes a string from Jason data and returns a python data structure."
   ]
  },
  {
   "cell_type": "code",
   "execution_count": 7,
   "metadata": {},
   "outputs": [],
   "source": [
    "#7. What function takes a Python data structure and returns a string of JSON data?\n",
    "#Ans:   jason.dumps() function takes a Python data structure and returns a string of Jason data."
   ]
  }
 ],
 "metadata": {
  "kernelspec": {
   "display_name": "Python 3",
   "language": "python",
   "name": "python3"
  },
  "language_info": {
   "codemirror_mode": {
    "name": "ipython",
    "version": 3
   },
   "file_extension": ".py",
   "mimetype": "text/x-python",
   "name": "python",
   "nbconvert_exporter": "python",
   "pygments_lexer": "ipython3",
   "version": "3.9.7"
  },
  "orig_nbformat": 4
 },
 "nbformat": 4,
 "nbformat_minor": 2
}
