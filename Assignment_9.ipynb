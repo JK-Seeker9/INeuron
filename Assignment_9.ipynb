{
 "cells": [
  {
   "cell_type": "code",
   "execution_count": 1,
   "metadata": {},
   "outputs": [],
   "source": [
    "#1. To what does a relative path refer?\n",
    "#Ans:   A relative path is a path that describes the location of the directory relative to the entery point where python script runs."
   ]
  },
  {
   "cell_type": "code",
   "execution_count": 13,
   "metadata": {},
   "outputs": [],
   "source": [
    "#2. What does an absolute path start with your operating system?\n",
    "#Ans:   The absolute patch starts with the home directory of the computer and ends with the file or directory that has to be accessed.\n",
    "#       C:\\Users\\jayki\\Python Practice\\Assignments\\Assignment_9.ipynb"
   ]
  },
  {
   "cell_type": "code",
   "execution_count": 14,
   "metadata": {},
   "outputs": [],
   "source": [
    "#3. What do the functions os.getcwd() and os.chdir() do?\n",
    "#Ans:   os.getcwd:  This function allows to see the Current Working Directory\n",
    "#       os.chdir:   This function allows to change current directory to desired path.   "
   ]
  },
  {
   "cell_type": "code",
   "execution_count": 4,
   "metadata": {},
   "outputs": [],
   "source": [
    "#4. What are the . and .. folders?\n",
    "#Ans: The . folders are the current folders and .. folder is a parent folder."
   ]
  },
  {
   "cell_type": "code",
   "execution_count": 17,
   "metadata": {},
   "outputs": [],
   "source": [
    "#5. In C:\\bacon\\eggs\\spam.txt, which part is the dir name, and which part is the base name?\n",
    "#Ans: C:\\bacon\\eggs is dir name and spam.text is base name"
   ]
  },
  {
   "cell_type": "code",
   "execution_count": 6,
   "metadata": {},
   "outputs": [],
   "source": [
    "#6. What are the three “mode” arguments that can be passed to the open() function?\n",
    "#Ans:   open(r):    Open file for reading\n",
    "#       open(w):    Open file for writting\n",
    "#       open(+):    Open file for updating"
   ]
  },
  {
   "cell_type": "code",
   "execution_count": 7,
   "metadata": {},
   "outputs": [],
   "source": [
    "#7. What happens if an existing file is opened in write mode?\n",
    "#Ans: If existing file is opened in write mode, then it gets turncated the existing file."
   ]
  },
  {
   "cell_type": "code",
   "execution_count": 8,
   "metadata": {},
   "outputs": [],
   "source": [
    "#8. How do you tell the difference between read() and readlines()?\n",
    "#Ans: The read() function reads the whole file at once and then print the first character. While, readlines() function reads and prints only the first character. "
   ]
  },
  {
   "cell_type": "code",
   "execution_count": 9,
   "metadata": {},
   "outputs": [],
   "source": [
    "#9. What data structure does a shelf value resemble?\n",
    "#Ans:   A shelf value resembels to a dictionary value, it has keys and values.  "
   ]
  }
 ],
 "metadata": {
  "kernelspec": {
   "display_name": "Python 3",
   "language": "python",
   "name": "python3"
  },
  "language_info": {
   "codemirror_mode": {
    "name": "ipython",
    "version": 3
   },
   "file_extension": ".py",
   "mimetype": "text/x-python",
   "name": "python",
   "nbconvert_exporter": "python",
   "pygments_lexer": "ipython3",
   "version": "3.9.7"
  },
  "orig_nbformat": 4
 },
 "nbformat": 4,
 "nbformat_minor": 2
}
