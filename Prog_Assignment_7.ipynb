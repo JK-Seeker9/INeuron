{
 "cells": [
  {
   "cell_type": "code",
   "execution_count": 4,
   "metadata": {},
   "outputs": [
    {
     "name": "stdout",
     "output_type": "stream",
     "text": [
      "[40, 50, 80, 60, 70]\n",
      "The sum of array [40, 50, 80, 60, 70] is:  300\n"
     ]
    }
   ],
   "source": [
    "#1.\tWrite a Python Program to find sum of array?\n",
    "n= int(input(\"Enter the no. of elements to be in an array: \"))\n",
    "ar=[]\n",
    "for i in range(n):\n",
    "    arr_elements = int(input(f\"Enter {i} element: \"))\n",
    "    ar.append(arr_elements)\n",
    "print(ar)\n",
    "print(f\"The sum of array {ar} is: \",sum(ar))\n"
   ]
  },
  {
   "cell_type": "code",
   "execution_count": 7,
   "metadata": {},
   "outputs": [
    {
     "name": "stdout",
     "output_type": "stream",
     "text": [
      "[2, 8, 20, 5, 4]\n",
      "The largest number in [2, 8, 20, 5, 4] is: 20\n"
     ]
    }
   ],
   "source": [
    "#2.\tWrite a Python Program to find largest element in an array?\n",
    "n = int(input(\"Enter the size of array: \"))\n",
    "arr = []\n",
    "for i in range(n):\n",
    "    element = int(input())\n",
    "    arr.append(element)\n",
    "print(arr)\n",
    "print(f\"The largest number in {arr} is:\",max(arr))"
   ]
  },
  {
   "cell_type": "code",
   "execution_count": 19,
   "metadata": {},
   "outputs": [
    {
     "name": "stdout",
     "output_type": "stream",
     "text": [
      "Array after left rotation is:  [6, 7, 8, 1, 2, 3, 4, 5]\n"
     ]
    }
   ],
   "source": [
    "#3.\tWrite a Python Program for array rotation?\n",
    "def arr_rot(a,d):\n",
    "    temp = []\n",
    "    n=len(a)\n",
    "    for i in range(d,n):\n",
    "        temp.append(a[i])\n",
    "    i = 0\n",
    "    for i in range (0,d):\n",
    "        temp.append(a[i])\n",
    "    a=temp.copy()\n",
    "    return a\n",
    " \n",
    "arr = [1, 2, 3, 4, 5, 6, 7, 8]\n",
    "print(\"Array after left rotation is: \", end=' ')\n",
    "print(arr_rot(arr, 5))\n"
   ]
  },
  {
   "cell_type": "code",
   "execution_count": 36,
   "metadata": {},
   "outputs": [
    {
     "name": "stdout",
     "output_type": "stream",
     "text": [
      "15 83 20 50 35 61 "
     ]
    }
   ],
   "source": [
    "#4.\tWrite a Python Program to Split the array and add the first part to the end?\n",
    "arr = [20, 50, 35, 61, 15, 83]\n",
    "n = 4\n",
    "x = arr[:n]\n",
    "y = arr[n:]\n",
    "y.extend(x)\n",
    "for i in y:\n",
    "    print(i, end=\" \")\n"
   ]
  },
  {
   "cell_type": "code",
   "execution_count": 26,
   "metadata": {},
   "outputs": [
    {
     "name": "stdout",
     "output_type": "stream",
     "text": [
      "False\n"
     ]
    }
   ],
   "source": [
    "#5.\tWrite a Python Program to check if given array is Monotonic?\n",
    "def mono(arr):\n",
    "    n=len(arr)\n",
    "    if n==1:\n",
    "        return True\n",
    "    else:\n",
    "        for i in range(n-1):\n",
    "              if arr[i]<arr[i+1]:\n",
    "                  return True\n",
    "              else:\n",
    "                  return False\n",
    "\n",
    "arr = [6,2,4,2,5]\n",
    "print(mono(arr))"
   ]
  }
 ],
 "metadata": {
  "kernelspec": {
   "display_name": "Python 3",
   "language": "python",
   "name": "python3"
  },
  "language_info": {
   "codemirror_mode": {
    "name": "ipython",
    "version": 3
   },
   "file_extension": ".py",
   "mimetype": "text/x-python",
   "name": "python",
   "nbconvert_exporter": "python",
   "pygments_lexer": "ipython3",
   "version": "3.9.7"
  },
  "orig_nbformat": 4
 },
 "nbformat": 4,
 "nbformat_minor": 2
}
