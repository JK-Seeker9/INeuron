{
 "cells": [
  {
   "cell_type": "code",
   "execution_count": 1,
   "metadata": {},
   "outputs": [],
   "source": [
    "#1. What is the relationship between def statements and lambda expressions ?\n",
    "#Ans:   The Def key word is used to define normal functions while lambda expression are used to define anonymous functions. \n",
    "#       The normal function does not return anything unless explicitly returned and lamda function returns an object."
   ]
  },
  {
   "cell_type": "code",
   "execution_count": 2,
   "metadata": {},
   "outputs": [],
   "source": [
    "#2. What is the benefit of lambda?\n",
    "#Ans:   The benefit of lambda functions are:\n",
    "#           A def keyword or function name is not needed\n",
    "#           It can be used as single line of code and used immidiately.\n"
   ]
  },
  {
   "cell_type": "code",
   "execution_count": 3,
   "metadata": {},
   "outputs": [],
   "source": [
    "#3. Compare and contrast map, filter, and reduce.\n",
    "#Ans:   map() function applies a given function to each element of an iterable and returns an iterator with results.\n",
    "#       filter() function filters out elements. It returns an iterator with elements that passes the filter.\n",
    "#       reduce() function returns a single value that is returned from the reduction."
   ]
  },
  {
   "cell_type": "code",
   "execution_count": 4,
   "metadata": {},
   "outputs": [],
   "source": [
    "#4. What are function annotations, and how are they used?\n",
    "#Ans:   Function annotations are expressions associated with various parts of functions. These are optionals. These are evaluated during the compile time. \n",
    "#       Function annotations are defined using colon ':' after the parameter name or return arrow. "
   ]
  },
  {
   "cell_type": "code",
   "execution_count": 5,
   "metadata": {},
   "outputs": [],
   "source": [
    "#5. What are recursive functions, and how are they used?\n",
    "#Ans: These functions are the function that calls themselves within their own defination. They are used where a problem is divided into sub-problems of same nature. "
   ]
  },
  {
   "cell_type": "code",
   "execution_count": 6,
   "metadata": {},
   "outputs": [],
   "source": [
    "#6. What are some general design guidelines for coding functions?\n",
    "#Ans:   Some general guidelines are:\n",
    "#           1.Avoid global variables\n",
    "#           2.Should be modular and reusable\n",
    "#           3.Avoid code duplication\n",
    "#           4.Use comments to explain the purpose of the function, input, output , conditions, etc."
   ]
  },
  {
   "cell_type": "code",
   "execution_count": 7,
   "metadata": {},
   "outputs": [],
   "source": [
    "#7. Name three or more ways that functions can communicate results to a caller.\n",
    "#Ans: Return Statement, Print, Exceptions are some of the ways that functions communicate results to a caller.\n"
   ]
  }
 ],
 "metadata": {
  "kernelspec": {
   "display_name": "Python 3",
   "language": "python",
   "name": "python3"
  },
  "language_info": {
   "codemirror_mode": {
    "name": "ipython",
    "version": 3
   },
   "file_extension": ".py",
   "mimetype": "text/x-python",
   "name": "python",
   "nbconvert_exporter": "python",
   "pygments_lexer": "ipython3",
   "version": "3.9.7"
  },
  "orig_nbformat": 4
 },
 "nbformat": 4,
 "nbformat_minor": 2
}
