{
 "cells": [
  {
   "cell_type": "code",
   "execution_count": 1,
   "metadata": {},
   "outputs": [],
   "source": [
    "#Q1. Is it permissible to use several import statements to import the same module? What would the goal be? Can you think of a situation where it would be beneficial?\n",
    "#Ans:   Yes! it is permissible to use several import statements to import the same module. It has no real benefits as such. \n",
    "#       The one reason where it can be beneficial is if we want to give differnt names to same module to be used in different parts of programm."
   ]
  },
  {
   "cell_type": "code",
   "execution_count": 2,
   "metadata": {},
   "outputs": [],
   "source": [
    "#Q2. What are some of a module's characteristics? (Name at least one.)\n",
    "#Ans:   Some modules and their characterstics are:\n",
    "#       math module: The math module provides a number of mathematical functions such as sin(), cos(), pi, e, etc.\n",
    "#       random module: The random module provides function for genrating random numbers."
   ]
  },
  {
   "cell_type": "code",
   "execution_count": 3,
   "metadata": {},
   "outputs": [],
   "source": [
    "#Q3. Circular importing, such as when two modules import each other, can lead to dependencies and bugs that aren't visible. How can you go about creating a program that avoids mutual importing?\n",
    "#Ans:   To avoid circular importing : \n",
    "#           Avoid importing modules from within the module itself.\n",
    "#           Use common import file\n",
    "#           Use a dependency manager.\n",
    "#           Use abstract base class."
   ]
  },
  {
   "cell_type": "code",
   "execution_count": 4,
   "metadata": {},
   "outputs": [],
   "source": [
    "#Q4. Why is  _ _all_ _ in Python?\n",
    "#Ans:   The __all__ in python is used to document public API of python module. It provides all modules present in a library."
   ]
  },
  {
   "cell_type": "code",
   "execution_count": 1,
   "metadata": {},
   "outputs": [],
   "source": [
    "#Q5. In what situation is it useful to refer to the _ _name_ _ attribute or the string '_ _main_ _'?\n",
    "#Ans:   The __name__ attribute is a special attribute that is set to the name of module when the module is imported.\n",
    "#       Some situation where it is useful to refer to the __name__ attribute or the string '__main__':\n",
    "#           to determine if current module is main module.\n",
    "#           to import module if it is not the main module\n",
    "#           To execute code only in main module\n",
    "#           Create module that can be used as library"
   ]
  },
  {
   "cell_type": "code",
   "execution_count": 6,
   "metadata": {},
   "outputs": [],
   "source": [
    "#Q6. What are some of the benefits of attaching a program counter to the RPN interpreter application, which interprets an RPN script line by line?\n",
    "#Ans:   The benefits of attaching a program counter to the RPN interpreter application, which interprets an RPN script line by line are:\n",
    "#       Increased efficiency : The program counter can help increase the speed of execution by allowing interpreter to skip lines that do not need to be executed\n",
    "#       Improved Debugging\n",
    "#       Enhanced flexibility"
   ]
  },
  {
   "cell_type": "code",
   "execution_count": 2,
   "metadata": {},
   "outputs": [],
   "source": [
    "#Q7. What are the minimum expressions or statements (or both) that you'd need to render a basic programming language like RPN primitive but complete— that is, capable of carrying out any computerised task theoretically possible?\n",
    "#Ans:   The minimum expressions or statements (or both) that is needed to render a basic programming language like RPN primitive but complete— that is, capable of carrying out any computerised task theoretically possible are:\n",
    "#       Expressions: Arithmetic, Logical and Relational.\n",
    "#       Statements: Assignment statements, Control flow statements, Input/Output statements."
   ]
  },
  {
   "cell_type": "code",
   "execution_count": null,
   "metadata": {},
   "outputs": [],
   "source": []
  }
 ],
 "metadata": {
  "kernelspec": {
   "display_name": "Python 3",
   "language": "python",
   "name": "python3"
  },
  "language_info": {
   "codemirror_mode": {
    "name": "ipython",
    "version": 3
   },
   "file_extension": ".py",
   "mimetype": "text/x-python",
   "name": "python",
   "nbconvert_exporter": "python",
   "pygments_lexer": "ipython3",
   "version": "3.9.7"
  },
  "orig_nbformat": 4
 },
 "nbformat": 4,
 "nbformat_minor": 2
}
