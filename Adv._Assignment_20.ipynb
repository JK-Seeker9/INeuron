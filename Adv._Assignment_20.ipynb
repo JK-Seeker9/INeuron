{
 "cells": [
  {
   "cell_type": "code",
   "execution_count": 1,
   "metadata": {},
   "outputs": [
    {
     "name": "stdout",
     "output_type": "stream",
     "text": [
      "1/2\n"
     ]
    }
   ],
   "source": [
    "#1. Compare and contrast the float and Decimal classes' benefits and drawbacks.\n",
    "#Ans;   The main difference between the float and Decimal classes is their precission. The float class has less precission (6-9 digits) and decimal has more precision (28-29 digits).\n",
    "#       The float class speed is fasteer than that of decimal classes speed.\n",
    "#       The decimal class is more suitable for applications where accuracy is important. \n",
    "\n",
    "\n",
    "#2. Decimal('1.200') and Decimal('1.2') are two objects to consider. In what sense are these the same object? Are these just two ways of representing the exact same value, or do they correspond to different internal states?\n",
    "#Ans:   Decimal('1.200') and Decimal('1.2') are two objects that represent the same value. \n",
    "#       They are both instances of the Decimal class, and they both have the same value of 1.2. However, they do not have the same internal state. \n",
    "#       The Decimal('1.200') object has 3 digits of precision, while the Decimal('1.2') object only has 2 digits of precision. \n",
    "#       This means that the Decimal('1.200') object can represent numbers more accurately than the Decimal('1.2') object.\n",
    "\n",
    "\n",
    "#3. What happens if the equality of Decimal('1.200') and Decimal('1.2') is checked?\n",
    "#Ans:   The equality of Decimal('1.200') and Decimal('1.2') will be evaluated as True. This is because they are both instances of the Decimal class and they both have the same value of 1.2.\n",
    "\n",
    "#4. Why is it preferable to start a Decimal object with a string rather than a floating-point value?\n",
    "#Ans:   Starting a Decimal object with a string rather than a floating-point value is preferable because it allows us to specify the precision of the number. \n",
    "#       When a Decimal object is created from a floating-point value, the precision of the number is determined by the floating-point format. This can lead to rounding errors, especially for numbers with small decimal values.\n",
    "\n",
    "#5. In an arithmetic phrase, how simple is it to combine Decimal objects with integers?\n",
    "#Ans:   In an arithmetic phrase, it is very simple to combine Decimal objects to integer. When an iteger is combined to a decimal object, it automatically converted to decimal.\n",
    "#       Therefore, same arithmatic operators can be used for both decimal and integers.\n",
    "\n",
    "#6. Can Decimal objects and floating-point values be combined easily?\n",
    "#Ans:   Yes a floating point object and Decimal objects can be combined easily. When Floating point object is combined to a decimal object, it automatically converted to decimal.\n",
    "\n",
    "\n",
    "#7. Using the Fraction class but not the Decimal class, give an example of a quantity that can be expressed with absolute precision.\n",
    "from fractions import Fraction\n",
    "num = 2\n",
    "denominator = 4\n",
    "frac = Fraction(num,denominator)\n",
    "print(frac) \n",
    "\n",
    "#8. Describe a quantity that can be accurately expressed by the Decimal or Fraction classes but not by a floating-point value.\n",
    "#Ans:   The example of a quantity that can be accurately expressed by the Decimal or Fraction classes but not by a floating-point value is 'pi' (3.141592653589793238)\n",
    "\n",
    "#Q9.Consider the following two fraction objects: Fraction(1, 2) and Fraction(1, 2). (5, 10). Is the internal state of these two objects the same? Why do you think that is?\n",
    "#Ans:   Yes the internal states of Fraction(1,2) and Fraction (1,2).(5,10) are same. This is because all the fractions that represent the same value have the same internal state.\n",
    "\n",
    "#Q10. How do the Fraction class and the integer type (int) relate to each other? Containment or inheritance?\n",
    "#Ans:   The fraction class and integer type(int) relate to each other through Containment. The fraction class can contain an integer value. The fraction class is a subtype of integer type(int)."
   ]
  },
  {
   "cell_type": "code",
   "execution_count": null,
   "metadata": {},
   "outputs": [],
   "source": []
  }
 ],
 "metadata": {
  "kernelspec": {
   "display_name": "Python 3",
   "language": "python",
   "name": "python3"
  },
  "language_info": {
   "codemirror_mode": {
    "name": "ipython",
    "version": 3
   },
   "file_extension": ".py",
   "mimetype": "text/x-python",
   "name": "python",
   "nbconvert_exporter": "python",
   "pygments_lexer": "ipython3",
   "version": "3.9.7"
  },
  "orig_nbformat": 4
 },
 "nbformat": 4,
 "nbformat_minor": 2
}
