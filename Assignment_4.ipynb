{
 "cells": [
  {
   "cell_type": "code",
   "execution_count": null,
   "metadata": {},
   "outputs": [],
   "source": [
    "#   1. What exactly is []?\n",
    "#Ans:   [] or square brackets are used to create lists in Python. \n",
    "#       These are used to define list items, allowing us to declare a list and its contents. "
   ]
  },
  {
   "cell_type": "code",
   "execution_count": 20,
   "metadata": {},
   "outputs": [
    {
     "name": "stdout",
     "output_type": "stream",
     "text": [
      "['a', 'b', 'c', 'hello', 'e']\n"
     ]
    }
   ],
   "source": [
    "#2. In a list of values stored in a variable called spam, how would you assign the value 'hello' as the third value? (Assume [2, 4, 6, 8, 10] are in spam.)\n",
    "#Let's pretend the spam includes the list ['a', 'b', 'c', 'd'] for the next three queries.\n",
    "#Ans:   To assign the value \"hello\" in a list, we need to refer to the index number in the list. For exmaple:  \n",
    "spam= ['a','b','c','d','e']\n",
    "spam[3]=\"hello\"\n",
    "print(spam)"
   ]
  },
  {
   "cell_type": "code",
   "execution_count": 21,
   "metadata": {},
   "outputs": [
    {
     "data": {
      "text/plain": [
       "'hello'"
      ]
     },
     "execution_count": 21,
     "metadata": {},
     "output_type": "execute_result"
    }
   ],
   "source": [
    "#3. What is the value of spam[int(int('3' * 2) / 11)]?\n",
    "#Ans:   The output of the given expression is \"hello\"\n",
    "spam[int(int('3'*2)/11)]"
   ]
  },
  {
   "cell_type": "code",
   "execution_count": 22,
   "metadata": {},
   "outputs": [
    {
     "data": {
      "text/plain": [
       "'e'"
      ]
     },
     "execution_count": 22,
     "metadata": {},
     "output_type": "execute_result"
    }
   ],
   "source": [
    "#4. What is the value of spam[-1]?\n",
    "spam[-1]\n",
    "#Ans:   spam[-1] refers to the last position of a list i.e., 'e'."
   ]
  },
  {
   "cell_type": "code",
   "execution_count": 29,
   "metadata": {},
   "outputs": [
    {
     "data": {
      "text/plain": [
       "['a', 'b']"
      ]
     },
     "execution_count": 29,
     "metadata": {},
     "output_type": "execute_result"
    }
   ],
   "source": [
    "#5. What is the value of spam[:2]?\n",
    "#Let's pretend bacon has the list [3.14, 'cat,' 11, 'cat,' True] for the next three questions.\n",
    "bacon=[3.14,'cat',11,'cat',True]\n",
    "spam[:2]\n",
    "#Ans:   The value of spam[:2] is ['a','b']. It refers to index 0 and 1."
   ]
  },
  {
   "cell_type": "code",
   "execution_count": 30,
   "metadata": {},
   "outputs": [
    {
     "data": {
      "text/plain": [
       "1"
      ]
     },
     "execution_count": 30,
     "metadata": {},
     "output_type": "execute_result"
    }
   ],
   "source": [
    "#6. What is the value of bacon.index('cat')?\n",
    "bacon.index('cat')\n",
    "#Ans:   The output of above expression is 1"
   ]
  },
  {
   "cell_type": "code",
   "execution_count": 31,
   "metadata": {},
   "outputs": [
    {
     "name": "stdout",
     "output_type": "stream",
     "text": [
      "[3.14, 'cat', 11, 'cat', True, 99]\n"
     ]
    }
   ],
   "source": [
    "#7. How does bacon.append(99) change the look of the list value in bacon?\n",
    "bacon.append(99)\n",
    "print(bacon)\n",
    "#Ans:   The above expression adds one more elements in the list bacon. Therefore the new list is [3.14, 'cat', 11, 'cat', True, 99]"
   ]
  },
  {
   "cell_type": "code",
   "execution_count": 32,
   "metadata": {},
   "outputs": [
    {
     "name": "stdout",
     "output_type": "stream",
     "text": [
      "[3.14, 11, 'cat', True, 99]\n"
     ]
    }
   ],
   "source": [
    "#8. How does bacon.remove('cat') change the look of the list in bacon?\n",
    "bacon.remove('cat')\n",
    "print(bacon)\n",
    "#Ans:   The remove() method removes the first appearance of the element 'cat' in list bacon. Therefore the new list is [3.14, 11, 'cat', True, 99]."
   ]
  },
  {
   "cell_type": "code",
   "execution_count": 4,
   "metadata": {},
   "outputs": [],
   "source": [
    "#9. What are the list concatenation and list replication operators?\n",
    "#Ans:   The list concatenation operator (+) is used to join two lists. \n",
    "#       And, the list replication operator (*) replicates the elements of the list given number of times."
   ]
  },
  {
   "cell_type": "code",
   "execution_count": 5,
   "metadata": {},
   "outputs": [],
   "source": [
    "#10. What is difference between the list methods append() and insert()?\n",
    "#Ans:   The append() method adds an item to the end of the list whereas, insert() method adds an item in a specified position of the list."
   ]
  },
  {
   "cell_type": "code",
   "execution_count": 6,
   "metadata": {},
   "outputs": [],
   "source": [
    "#11. What are the two methods for removing items from a list?\n",
    "#Ans:   The two methods for removing items from the list are remove() and pop()."
   ]
  },
  {
   "cell_type": "code",
   "execution_count": 7,
   "metadata": {},
   "outputs": [],
   "source": [
    "#12. Describe how list values and string values are identical.\n",
    "#Ans:   The list and string values are identical as both of them are sequences. \n",
    "#       Both strings and lists have lengths: sting's length is its no. of characters and lists length is the no. of elements. \n",
    "#       Each characters in string and each item in list has an index. "
   ]
  },
  {
   "cell_type": "code",
   "execution_count": 8,
   "metadata": {},
   "outputs": [],
   "source": [
    "#13. What's the difference between tuples and lists?\n",
    "#Ans:   The difference between list and tuples are:\n",
    "#           Lists are mutable, tuples are immutable\n",
    "#           Iteration in lists are time consuming, whereas iterarions in tuples are much faster.\n",
    "#           Lists conssume more memory, while tuple consumes less memory than lists "
   ]
  },
  {
   "cell_type": "code",
   "execution_count": 34,
   "metadata": {},
   "outputs": [
    {
     "data": {
      "text/plain": [
       "tuple"
      ]
     },
     "execution_count": 34,
     "metadata": {},
     "output_type": "execute_result"
    }
   ],
   "source": [
    "#14. How do you type a tuple value that only contains the integer 42?\n",
    "a = (42,)\n",
    "type(a)\n",
    "#Ans:   To create a tuple with only one item i.e.,42, we need to put a comma after the item, else python will treat it as integer."
   ]
  },
  {
   "cell_type": "code",
   "execution_count": 10,
   "metadata": {},
   "outputs": [],
   "source": [
    "#15. How do you get a list value's tuple form? How do you get a tuple value's list form?\n",
    "#Ans:   To convert a list into tuple, we need to pass the list as parameter within tuple() function.\n",
    "#       To convert a tuple into list, we need to pass the tuple as parameter within list() function."
   ]
  },
  {
   "cell_type": "code",
   "execution_count": 11,
   "metadata": {},
   "outputs": [],
   "source": [
    "#16. Variables that \"contain\" list values are not necessarily lists themselves. Instead, what do they contain?\n",
    "#Ans:   The variables that contain list values are not lists themselves, instead they contain the refrence to the list."
   ]
  },
  {
   "cell_type": "code",
   "execution_count": 12,
   "metadata": {},
   "outputs": [],
   "source": [
    "#17. How do you distinguish between copy.copy() and copy.deepcopy()?\n",
    "#Ans:   The copy() create refrence to the original object. If the copied object is changed, the original object is also changed.\n",
    "#       The deepcopy() creates new object and the copy the original object to new one. It doesnot effect the original object."
   ]
  },
  {
   "cell_type": "code",
   "execution_count": null,
   "metadata": {},
   "outputs": [],
   "source": []
  }
 ],
 "metadata": {
  "kernelspec": {
   "display_name": "Python 3",
   "language": "python",
   "name": "python3"
  },
  "language_info": {
   "codemirror_mode": {
    "name": "ipython",
    "version": 3
   },
   "file_extension": ".py",
   "mimetype": "text/x-python",
   "name": "python",
   "nbconvert_exporter": "python",
   "pygments_lexer": "ipython3",
   "version": "3.9.7"
  },
  "orig_nbformat": 4
 },
 "nbformat": 4,
 "nbformat_minor": 2
}
