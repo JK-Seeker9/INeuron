{
 "cells": [
  {
   "cell_type": "code",
   "execution_count": 1,
   "metadata": {},
   "outputs": [],
   "source": [
    "#1. What is the name of the feature responsible for generating Regex objects?\n",
    "#Ans:   The re.compile() function returns Regex object."
   ]
  },
  {
   "cell_type": "code",
   "execution_count": 2,
   "metadata": {},
   "outputs": [],
   "source": [
    "#2. Why do raw strings often appear in Regex objects?\n",
    "#Ans:   Raw strings often appear in Regex objects so that backslashes are not escaped.\n"
   ]
  },
  {
   "cell_type": "code",
   "execution_count": 3,
   "metadata": {},
   "outputs": [],
   "source": [
    "#3. What is the return value of the search() method?\n",
    "#Ans:   The search() method returns the match object values."
   ]
  },
  {
   "cell_type": "code",
   "execution_count": 4,
   "metadata": {},
   "outputs": [],
   "source": [
    "#4. From a Match item, how do you get the actual strings that match the pattern?\n",
    "#Ans:   To get the actual strings that match the pattern, group() method is used."
   ]
  },
  {
   "cell_type": "code",
   "execution_count": 5,
   "metadata": {},
   "outputs": [],
   "source": [
    "#5. In the regex which created from the r'(\\d\\d\\d)-(\\d\\d\\d-\\d\\d\\d\\d)', what does group zero cover? Group 2? Group 1?\n",
    "#Ans:   The group 0 covers the entire match, group 1 covers the 1st parantheses and group 2 covers the second parantheses."
   ]
  },
  {
   "cell_type": "code",
   "execution_count": 6,
   "metadata": {},
   "outputs": [],
   "source": [
    "#6. In standard expression syntax, parentheses and intervals have distinct meanings. How can you tell a regex that you want it to fit real parentheses and periods?\n",
    "#Ans:   To fit real parantheses and periods, backslash can be used to escape parantheses and periods."
   ]
  },
  {
   "cell_type": "code",
   "execution_count": 7,
   "metadata": {},
   "outputs": [],
   "source": [
    "#7. The findall() method returns a string list or a list of string tuples. What causes it to return one of the two options?\n",
    "#Ans:   The findall() method returns a string list only if the regex has no groups. If regex has a group it will return list of string tuple."
   ]
  },
  {
   "cell_type": "code",
   "execution_count": 8,
   "metadata": {},
   "outputs": [],
   "source": [
    "#8. In standard expressions, what does the | character mean?\n",
    "#Ans: In standard expression | character means matching either or between two groups"
   ]
  },
  {
   "cell_type": "code",
   "execution_count": 9,
   "metadata": {},
   "outputs": [],
   "source": [
    "#9. In regular expressions, what does the character stand for?\n",
    "#Ans:   "
   ]
  },
  {
   "cell_type": "code",
   "execution_count": 10,
   "metadata": {},
   "outputs": [],
   "source": [
    "#10.In regular expressions, what is the difference between the + and * characters?\n",
    "#Ans:   + stands for one or more occurences. * stands for zero or more occurences."
   ]
  },
  {
   "cell_type": "code",
   "execution_count": 11,
   "metadata": {},
   "outputs": [],
   "source": [
    "#11. What is the difference between {4} and {4,5} in regular expression?\n",
    "#Ans:   {4} matches for 3 instances and {4,5} matches between 4 and 5 instances."
   ]
  },
  {
   "cell_type": "code",
   "execution_count": 12,
   "metadata": {},
   "outputs": [],
   "source": [
    "#12. What do you mean by the \\d, \\w, and \\s shorthand character classes signify in regular expressions?\n",
    "#Ans:   \\d: returns a match where string contains digit.\n",
    "#       \\w: returns a match where string contains any word character.\n",
    "#       \\s: returns a match where string contains white space character."
   ]
  },
  {
   "cell_type": "code",
   "execution_count": 13,
   "metadata": {},
   "outputs": [],
   "source": [
    "#13. What do means by \\D, \\W, and \\S shorthand character classes signify in regular expressions?\n",
    "#Ans:   \\D: returns a match where string does not contains digit.\n",
    "#       \\W: returns a match where string does not contains any word character.\n",
    "#       \\S: returns a match where string does not contains white space character."
   ]
  },
  {
   "cell_type": "code",
   "execution_count": 14,
   "metadata": {},
   "outputs": [],
   "source": [
    "#14. What is the difference between .* and .*?\n",
    "#Ans:   * is a greedy match, it match as many letters as possible and *? is a non-greedy match."
   ]
  },
  {
   "cell_type": "code",
   "execution_count": 15,
   "metadata": {},
   "outputs": [],
   "source": [
    "#15. What is the syntax for matching both numbers and lowercase letters with a character class?\n",
    "#Ans:   [0-9a-z]"
   ]
  },
  {
   "cell_type": "code",
   "execution_count": 16,
   "metadata": {},
   "outputs": [],
   "source": [
    "#16. What is the procedure for making a normal expression in regax case insensitive?\n",
    "#Ans:   To make a normal expression case sensitive in regex the procedure is passing re.I or re.IGNORECASE as the second argument to re.compile()."
   ]
  },
  {
   "cell_type": "code",
   "execution_count": 17,
   "metadata": {},
   "outputs": [],
   "source": [
    "#17. What does the . character normally match? What does it match if re.DOTALL is passed as 2nd argument in re.compile()?\n",
    "#Ans:   The . character normally matches any character except new line character. If re.DOTALL is passed, the . character will match new line characters also."
   ]
  },
  {
   "cell_type": "code",
   "execution_count": 5,
   "metadata": {},
   "outputs": [
    {
     "data": {
      "text/plain": [
       "'X drummers, X pipers, five rings, X hen'"
      ]
     },
     "execution_count": 5,
     "metadata": {},
     "output_type": "execute_result"
    }
   ],
   "source": [
    "#18. If numReg = re.compile(r'\\d+'), what will numRegex.sub('X', '11 drummers, 10 pipers, five rings, 4 hen') return?\n",
    "import re\n",
    "numReg = re.compile(r'\\d+')\n",
    "numReg.sub('X', '11 drummers, 10 pipers, five rings, 4 hen')\n",
    "#Ans:   The above code will return: 'X drummers, X pipers, five rings, X hen'"
   ]
  },
  {
   "cell_type": "code",
   "execution_count": 19,
   "metadata": {},
   "outputs": [],
   "source": [
    "#19. What does passing re.VERBOSE as the 2nd argument to re.compile() allow to do?\n",
    "#Ans:   The re.VERBOSE allows to add white spaces and comments to the string passed to re.compile(). "
   ]
  },
  {
   "cell_type": "code",
   "execution_count": 20,
   "metadata": {},
   "outputs": [],
   "source": [
    "#20. How would you write a regex that match a number with comma for every three digits? It must match the given following:\n",
    "#'42'\n",
    "#'1,234'\n",
    "#'6,368,745'\n",
    "#but not the following:\n",
    "#'12,34,567' (which has only two digits between the commas)\n",
    "#'1234' (which lacks commas)\n",
    "#Ans:   (r'^\\d{1,3}(,{3})*$')\n"
   ]
  },
  {
   "cell_type": "code",
   "execution_count": 72,
   "metadata": {},
   "outputs": [
    {
     "name": "stdout",
     "output_type": "stream",
     "text": [
      "None\n"
     ]
    }
   ],
   "source": [
    "#21. How would you write a regex that matches the full name of someone whose last name is Watanabe? You can assume that the first name that comes before it will always be one word that begins with a capital letter. The regex must match the following:\n",
    "import re\n",
    "#\"Haruto Watanabe\"\n",
    "#'Alice Watanabe'\n",
    "#'RoboCop Watanabe'\n",
    "#but not the following:\n",
    "#'haruto Watanabe' (where the first name is not capitalized)\n",
    "#'Mr. Watanabe' (where the preceding word has a nonletter character)\n",
    "#'Watanabe' (which has no first name)\n",
    "#'Haruto watanabe' (where Watanabe is not capitalized)\n",
    "#Ans:\n",
    "x=re.compile(r'\\b[A-Z][a-zA-Z]+\\sWatanabe\\b')\n",
    "print(x.search(text))"
   ]
  },
  {
   "cell_type": "code",
   "execution_count": 73,
   "metadata": {},
   "outputs": [
    {
     "name": "stdout",
     "output_type": "stream",
     "text": [
      "<re.Match object; span=(0, 17), match='Alice eats apples'>\n"
     ]
    }
   ],
   "source": [
    "#22. How would you write a regex that matches a sentence where the first word is either Alice, Bob, or Carol; the second word is either eats, pets, or throws; the third word is apples, cats, or baseballs; and the sentence ends with a period? This regex should be case-insensitive. It must match the following:\n",
    "import re\n",
    "text=\"Alice eats apples.\"\n",
    "#'Bob pets cats.'\n",
    "#'Carol throws baseballs.'\n",
    "#'Alice throws Apples.'\n",
    "#'BOB EATS CATS.'\n",
    "#but not the following:\n",
    "#'RoboCop eats apples.'\n",
    "#'ALICE THROWS9 FOOTBALLS.'\n",
    "#'Carol eats 7 cats.'\n",
    "x=re.compile(r'(Alice|Bob|Carol)\\s+(eats|pets|throws)\\s+(apples|cats|baseball)',re.IGNORECASE)\n",
    "print(x.search(text))"
   ]
  }
 ],
 "metadata": {
  "kernelspec": {
   "display_name": "Python 3",
   "language": "python",
   "name": "python3"
  },
  "language_info": {
   "codemirror_mode": {
    "name": "ipython",
    "version": 3
   },
   "file_extension": ".py",
   "mimetype": "text/x-python",
   "name": "python",
   "nbconvert_exporter": "python",
   "pygments_lexer": "ipython3",
   "version": "3.9.7"
  },
  "orig_nbformat": 4
 },
 "nbformat": 4,
 "nbformat_minor": 2
}
