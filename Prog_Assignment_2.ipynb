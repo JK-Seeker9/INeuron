{
 "cells": [
  {
   "cell_type": "code",
   "execution_count": 2,
   "metadata": {},
   "outputs": [
    {
     "name": "stdout",
     "output_type": "stream",
     "text": [
      "5.0 kilometers are equivalent to 3.1064999999999996 miles\n"
     ]
    }
   ],
   "source": [
    "#1.\tWrite a Python program to convert kilometers to miles?\n",
    "kms=float(input(\"Enter a value in KMs:\"))\n",
    "miles = kms*0.62\n",
    "print(f\"{kms} kilometers are equivalent to {miles} miles\")"
   ]
  },
  {
   "cell_type": "code",
   "execution_count": 3,
   "metadata": {},
   "outputs": [
    {
     "name": "stdout",
     "output_type": "stream",
     "text": [
      "98.0 degree CELCIUS is equal to 208.4 degree FARENHITE\n"
     ]
    }
   ],
   "source": [
    "#2.\tWrite a Python program to convert Celsius to Fahrenheit?\n",
    "temp_Cel=float(input(\"Enter any value in celcius: \"))\n",
    "temp_far= (temp_Cel*(9/5))+32\n",
    "print(f\"{temp_Cel} degree CELCIUS is equal to {temp_far} degree FARENHITE\")"
   ]
  },
  {
   "cell_type": "code",
   "execution_count": 8,
   "metadata": {},
   "outputs": [
    {
     "name": "stdout",
     "output_type": "stream",
     "text": [
      "     March 2021\n",
      "Mo Tu We Th Fr Sa Su\n",
      " 1  2  3  4  5  6  7\n",
      " 8  9 10 11 12 13 14\n",
      "15 16 17 18 19 20 21\n",
      "22 23 24 25 26 27 28\n",
      "29 30 31\n",
      "\n"
     ]
    }
   ],
   "source": [
    "#3.\tWrite a Python program to display calendar?\n",
    "import calendar\n",
    "y= int(input(\"Enter Year: \"))\n",
    "m= int(input(\"Enter Month:\"))\n",
    "print(calendar.month(y,m))"
   ]
  },
  {
   "cell_type": "code",
   "execution_count": 12,
   "metadata": {},
   "outputs": [
    {
     "name": "stdout",
     "output_type": "stream",
     "text": [
      "The two solutions for quardatic equation having values a=1, b=5 and c=6 are: -4.5 and -5.5\n"
     ]
    }
   ],
   "source": [
    "#4.\tWrite a Python program to solve quadratic equation? (a+b)**2= a**2+b**2+2*a*b\n",
    "a=int(input(\"Enter first value: \"))\n",
    "b=int(input(\"Enter second value:\"))\n",
    "c=int(input(\"Enter third value:\"))\n",
    "disc=((b**2-4*a*c)**0.5)/(2*a)\n",
    "sol_1= -b+disc\n",
    "sol_2= -b-disc\n",
    "print(f\"The two solutions for quardatic equation having values a={a}, b={b} and c={c} are: {sol_1} and {sol_2}\")"
   ]
  },
  {
   "cell_type": "code",
   "execution_count": 13,
   "metadata": {},
   "outputs": [
    {
     "name": "stdout",
     "output_type": "stream",
     "text": [
      "Before swapping first no. is 100 and second no. is 50\n",
      "After swapping first no. is 50 and second no. is 100\n"
     ]
    }
   ],
   "source": [
    "#5.\tWrite a Python program to swap two variables without temp variable?\n",
    "i=int(input(\"Enter first no.: \"))\n",
    "j=int(input(\"Enter second no.: \"))\n",
    "print(f\"Before swapping first no. is {i} and second no. is {j}\")\n",
    "i=i+j\n",
    "j=i-j\n",
    "i=i-j\n",
    "print(f\"After swapping first no. is {i} and second no. is {j}\")"
   ]
  },
  {
   "cell_type": "code",
   "execution_count": null,
   "metadata": {},
   "outputs": [],
   "source": []
  }
 ],
 "metadata": {
  "kernelspec": {
   "display_name": "Python 3",
   "language": "python",
   "name": "python3"
  },
  "language_info": {
   "codemirror_mode": {
    "name": "ipython",
    "version": 3
   },
   "file_extension": ".py",
   "mimetype": "text/x-python",
   "name": "python",
   "nbconvert_exporter": "python",
   "pygments_lexer": "ipython3",
   "version": "3.9.7"
  },
  "orig_nbformat": 4,
  "vscode": {
   "interpreter": {
    "hash": "c347c8f9a7ef94e4c9e03b4513be7835ed18f45b99a2a817fb579f408b867b16"
   }
  }
 },
 "nbformat": 4,
 "nbformat_minor": 2
}
