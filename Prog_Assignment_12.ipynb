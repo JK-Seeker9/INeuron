{
 "cells": [
  {
   "cell_type": "code",
   "execution_count": 5,
   "metadata": {},
   "outputs": [
    {
     "name": "stdout",
     "output_type": "stream",
     "text": [
      "My dictionary is:  {'ineuron': [1, 1, 3, 2], 'is': [4, 5, 3, 7], 'best': [8, 6, 1, 3]}\n",
      "The unique values are: [1, 2, 3, 4, 5, 6, 7, 8]\n"
     ]
    }
   ],
   "source": [
    "#1.\tWrite a Python program to Extract Unique values dictionary values?\n",
    "my_dict = {'ineuron': [1,1,3,2],\n",
    "           'is': [4,5,3,7],\n",
    "           'best':[8,6,1,3]}\n",
    "print(\"My dictionary is: \", my_dict)\n",
    "n = []\n",
    "for i in my_dict.keys():\n",
    "    n.extend(my_dict[i])\n",
    "n= list(set(n))\n",
    "n.sort\n",
    "print(\"The unique values are:\", n)\n"
   ]
  },
  {
   "cell_type": "code",
   "execution_count": 12,
   "metadata": {},
   "outputs": [
    {
     "name": "stdout",
     "output_type": "stream",
     "text": [
      "Sum of dictionary is:  60\n"
     ]
    }
   ],
   "source": [
    "#2.\tWrite a Python program to find the sum of all items in a dictionary?\n",
    "def Sum(my_dict):\n",
    "    my_list = []\n",
    "    for i in my_dict:\n",
    "        my_list.append(my_dict[i])\n",
    "    final_sum = sum(my_list)\n",
    "    return final_sum\n",
    "dict = {'a': 10,\n",
    "        'b': 20,\n",
    "        'c':30}\n",
    "print(\"Sum of dictionary is: \",Sum(dict))"
   ]
  },
  {
   "cell_type": "code",
   "execution_count": 13,
   "metadata": {},
   "outputs": [
    {
     "name": "stdout",
     "output_type": "stream",
     "text": [
      "{1: 'I', 2: 'am', 3: 'Jay', 4: 'student', 5: 'at', 6: 'INeuron'}\n"
     ]
    }
   ],
   "source": [
    "#3.\tWrite a Python program to Merging two Dictionaries?\n",
    "dic_1 = {1: 'I', 2:'am', 3:'Jay'}\n",
    "dic_2 = {4:'student', 5:'at', 6:'INeuron'}\n",
    "print(dic_1|dic_2)"
   ]
  },
  {
   "cell_type": "code",
   "execution_count": 23,
   "metadata": {},
   "outputs": [
    {
     "name": "stdout",
     "output_type": "stream",
     "text": [
      "{'month': [1, 2, 3, 4], 'name': ['Jan', 'Feb', 'Mar', 'Apr']}\n",
      "Flat dictionary is:  {1: 'Jan', 2: 'Feb', 3: 'Mar', 4: 'Apr'}\n"
     ]
    }
   ],
   "source": [
    "#4.\tWrite a Python program to convert key-values list to flat dictionary?\n",
    "my_dict = {'month': [1,2,3,4],\n",
    "           'name' : ['Jan','Feb','Mar','Apr']}\n",
    "print(my_dict)\n",
    "n = list(my_dict.values())\n",
    "res = {}\n",
    "for i in range (len(my_dict['month'])):\n",
    "    res[my_dict['month'][i]]= my_dict['name'][i]\n",
    "print(\"Flat dictionary is: \",res)\n"
   ]
  },
  {
   "cell_type": "code",
   "execution_count": 27,
   "metadata": {},
   "outputs": [
    {
     "name": "stdout",
     "output_type": "stream",
     "text": [
      "{'jay': 9, 'kishan': 'march'}\n",
      "The new dictionary is OrderedDict([('jay', 9), ('kishan', 'march'), ('sahu', 1994)])\n"
     ]
    }
   ],
   "source": [
    "#5.\tWrite a Python program to insertion at the beginning in OrderedDict?\n",
    "from collections import OrderedDict\n",
    "my_dict = {'jay':9, 'kishan': 'march'}\n",
    "print(my_dict)\n",
    "my_dict_2 = OrderedDict(my_dict)\n",
    "my_dict_2.update({'sahu':1994})\n",
    "my_dict_2.move_to_end('sahu', last=True)\n",
    "print(\"The new dictionary is\", my_dict_2)"
   ]
  },
  {
   "cell_type": "code",
   "execution_count": 28,
   "metadata": {},
   "outputs": [
    {
     "name": "stdout",
     "output_type": "stream",
     "text": [
      "False\n"
     ]
    }
   ],
   "source": [
    "#6.\tWrite a Python program to check order of character in string using OrderedDict()?\n",
    "from collections import OrderedDict\n",
    "def ord_chk(input, pattern):\n",
    "    dict = OrderedDict.fromkeys(input)\n",
    "    len_ptr= 0\n",
    "    for key, value in dict.items():\n",
    "        if(key == pattern[len_ptr]):\n",
    "            len_ptr = len_ptr+1\n",
    "        if(len_ptr == (len(pattern))):\n",
    "            return True\n",
    "    return False\n",
    "if __name__ == \"__main__\":\n",
    "    input = \"Hii III am Jay III\"\n",
    "    pattern = 'ii'\n",
    "    print(ord_chk(input,pattern))"
   ]
  },
  {
   "cell_type": "code",
   "execution_count": 31,
   "metadata": {},
   "outputs": [
    {
     "name": "stdout",
     "output_type": "stream",
     "text": [
      "{'jay': 9, 'kishan': 'march', 'sahu': 1994}\n"
     ]
    }
   ],
   "source": [
    "#7.\tWrite a Python program to sort Python Dictionaries by Key or Value?\n",
    "my_dict = {'sahu': 1994, 'jay':9, 'kishan': 'march'}\n",
    "my_keys = list(my_dict.keys())\n",
    "my_keys.sort()\n",
    "new_dict = {i:my_dict[i] for i in my_keys}\n",
    "print(new_dict)"
   ]
  },
  {
   "cell_type": "code",
   "execution_count": null,
   "metadata": {},
   "outputs": [],
   "source": []
  }
 ],
 "metadata": {
  "kernelspec": {
   "display_name": "Python 3",
   "language": "python",
   "name": "python3"
  },
  "language_info": {
   "codemirror_mode": {
    "name": "ipython",
    "version": 3
   },
   "file_extension": ".py",
   "mimetype": "text/x-python",
   "name": "python",
   "nbconvert_exporter": "python",
   "pygments_lexer": "ipython3",
   "version": "3.9.7"
  },
  "orig_nbformat": 4
 },
 "nbformat": 4,
 "nbformat_minor": 2
}
