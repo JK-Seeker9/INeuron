{
 "cells": [
  {
   "cell_type": "code",
   "execution_count": 3,
   "metadata": {},
   "outputs": [],
   "source": [
    "#Q1. If you have any, what are your choices for increasing the comparison between different figures on the same graph?\n",
    "#Ans:   Use the same scale for all axes.\n",
    "#       Use same colors for all the figures\n",
    "#       Use a legend to identify the different figures."
   ]
  },
  {
   "cell_type": "code",
   "execution_count": 2,
   "metadata": {},
   "outputs": [],
   "source": [
    "#Q2. Can you explain the benefit of compound interest over a higher rate of interest that does not compound after reading this chapter?\n",
    "#Ans:   Compound interest gives higher return with higher amount of time as compared to simple interest in similar amount of time.\n",
    "#       Lets assume 1000 rs as a principle amount at 5% Interest for 5 years.\n",
    "#       after CI the amount will be = 1276.28\n",
    "#       after SI the amount will be = 1250"
   ]
  },
  {
   "cell_type": "code",
   "execution_count": 1,
   "metadata": {},
   "outputs": [],
   "source": [
    "#Q3. What is a histogram, exactly? Name a numpy method for creating such a graph.\n",
    "#Ans:   A Histogram is a graph that shows distributed data. It shows the frequency within a numerical range. \n",
    "#       The NumPy method used for creating a Histogram is numpy.histogram(). This method takes two arguments: the data and no. of bins.  "
   ]
  },
  {
   "cell_type": "code",
   "execution_count": 4,
   "metadata": {},
   "outputs": [],
   "source": [
    "#Q4. If necessary, how do you change the aspect ratios between the X and Y axes?\n",
    "#Ans:   An aspect ratio is a ratio of lengths between X and Y axis. To change the aspect ratio, we use the set_aspect() method on axes object. It takes aspect ratio as an argument. "
   ]
  },
  {
   "cell_type": "code",
   "execution_count": 5,
   "metadata": {},
   "outputs": [],
   "source": [
    "#Q5. Compare and contrast the three types of array multiplication between two numpy arrays: dot product, outer product, and regular multiplication of two numpy arrays.\n",
    "#Ans:   Dot Product: It calculates the inner product of two arrays. It calculates the sum of product of the corresponding elements of two arrays. Its output is a 1-D array.\n",
    "#       Outer Product: It Calculates the cartesian product of two arrays. Its output is a 2 D array.\n",
    "#       Regular Multiplication: In this the elements of first array is multiplied by the corrosponding element of the 2nd array. Its output is same as the size and dimension of first array."
   ]
  },
  {
   "cell_type": "code",
   "execution_count": 6,
   "metadata": {},
   "outputs": [],
   "source": [
    "#Q6. Before you buy a home, which numpy function will you use to measure your monthly mortgage payment?\n",
    "#Ans:   The NumPy function used to calculate the monthly mortgage payment of purchase of a new home is numpy.pmt(). This function takes three arguments: present value of loan, interest rates and number of payments."
   ]
  },
  {
   "cell_type": "code",
   "execution_count": 7,
   "metadata": {},
   "outputs": [],
   "source": [
    "#Q7. Can string data be stored in numpy arrays? If so, list at least one restriction that applies to this data.\n",
    "#Ans:   Yes! the string data can be stored in Numpy array. To store string in a NumPy array np.array() function with dtype = 's' is used.\n",
    "#       The restriction to this data is that all the string data should be of same length."
   ]
  },
  {
   "cell_type": "code",
   "execution_count": null,
   "metadata": {},
   "outputs": [],
   "source": []
  }
 ],
 "metadata": {
  "kernelspec": {
   "display_name": "Python 3",
   "language": "python",
   "name": "python3"
  },
  "language_info": {
   "codemirror_mode": {
    "name": "ipython",
    "version": 3
   },
   "file_extension": ".py",
   "mimetype": "text/x-python",
   "name": "python",
   "nbconvert_exporter": "python",
   "pygments_lexer": "ipython3",
   "version": "3.9.7"
  },
  "orig_nbformat": 4
 },
 "nbformat": 4,
 "nbformat_minor": 2
}
