{
 "cells": [
  {
   "cell_type": "code",
   "execution_count": 6,
   "metadata": {},
   "outputs": [
    {
     "name": "stdout",
     "output_type": "stream",
     "text": [
      "1 2 8\n"
     ]
    }
   ],
   "source": [
    "#1. What is the result of the code, and why?\n",
    "#>>> def func(a, b=6, c=8):\n",
    "#print(a, b, c)\n",
    "#>>> func(1, 2)\n",
    "def func(a, b=6, c=8):\n",
    "    print(a, b, c)\n",
    "func(1, 2)\n",
    "#   The result of the code is 1 2 8. \n",
    "#   The reason is that the func() function has three parameters, a, b, and c. \n",
    "#   The b and c parameters have default values of 6 and 8, respectively. \n",
    "#   When the func() function is called with the arguments 1 and 2, the a parameter is assigned the value 1, the b parameter is assigned the value 2, and the c parameter is assigned the default value of 8. "
   ]
  },
  {
   "cell_type": "code",
   "execution_count": 9,
   "metadata": {},
   "outputs": [
    {
     "name": "stdout",
     "output_type": "stream",
     "text": [
      "1 2 3\n"
     ]
    }
   ],
   "source": [
    "#2. What is the result of this code, and why?\n",
    "#>>> def func(a, b, c=5):\n",
    "#print(a, b, c)\n",
    "#>>> func(1, c=3, b=2)\n",
    "def func(a,b,c=5):\n",
    "    print(a,b,c)\n",
    "func(1,c=3,b=2)\n",
    "#   The result of the code is 1 2 3. \n",
    "#   The reason is that the func() function has three parameters, a, b, and c. The c parameter has a default value of 5.\n",
    "#   When the func() function is called with the arguments 1, c=3, and b=2, the a parameter is assigned the value 1, the b parameter is assigned the value 2, and the c parameter is assigned the value 3."
   ]
  },
  {
   "cell_type": "code",
   "execution_count": 3,
   "metadata": {},
   "outputs": [
    {
     "name": "stdout",
     "output_type": "stream",
     "text": [
      "1 (2, 3)\n"
     ]
    }
   ],
   "source": [
    "#3. How about this code: what is its result, and why?\n",
    "#>>> def func(a, *pargs):\n",
    "#print(a, pargs)\n",
    "#>>> func(1, 2, 3)\n",
    "def func(a,*pargs):\n",
    "    print(a,pargs)\n",
    "func(1,2,3)\n",
    "#   The result of the code is 1 (2, 3). \n",
    "#   The reason is that the func() function has one positional parameter, a, and a variable number of positional parameters, *pargs. \n",
    "#   When the func() function is called with the arguments 1, 2, and 3, the a parameter is assigned the value 1, and the *pargs parameter is assigned the values 2 and 3. "
   ]
  },
  {
   "cell_type": "code",
   "execution_count": 10,
   "metadata": {},
   "outputs": [
    {
     "name": "stdout",
     "output_type": "stream",
     "text": [
      "1 {'c': 3, 'b': 2}\n"
     ]
    }
   ],
   "source": [
    "#4. What does this code print, and why?\n",
    "#>>> def func(a, **kargs):\n",
    "#print(a, kargs)\n",
    "#>>> func(a=1, c=3, b=2)\n",
    "def func(a,**kargs):\n",
    "    print(a,kargs)\n",
    "func(a=1,c=3,b=2)\n",
    "#   The code prints 1 {'c': 3, 'b': 2}.\n",
    "#   The reason is that the func() function has one positional parameter, a, and a variable number of keyword arguments, **kargs.\n",
    "#   When the func() function is called with the keyword arguments a=1, c=3, and b=2, the a parameter is assigned the value 1, and the **kargs parameter is assigned a dictionary with the keys c and b and the values 3 and 2, respectively. "
   ]
  },
  {
   "cell_type": "code",
   "execution_count": 11,
   "metadata": {},
   "outputs": [
    {
     "name": "stdout",
     "output_type": "stream",
     "text": [
      "1 5 6 5\n"
     ]
    }
   ],
   "source": [
    "#5. What gets printed by this, and explain?\n",
    "#>>> def func(a, b, c=8, d=5): print(a, b, c, d)\n",
    "#>>> func(1, *(5, 6))\n",
    "\n",
    "def func(a, b, c=8, d=5): print(a, b, c, d)\n",
    "func(1, *(5, 6))\n",
    "#   The code prints 1 5 6 5.\n",
    "#   The reason is that the func() function has four parameters, a, b, c, and d. The c and d parameters have default values of 8 and 5, respectively. \n",
    "#   When the func() function is called with the arguments 1, 5, and 6, the a parameter is assigned the value 1, the b parameter is assigned the value 5, and the c and d parameters are assigned the values 6 and 5."
   ]
  },
  {
   "cell_type": "code",
   "execution_count": 12,
   "metadata": {},
   "outputs": [
    {
     "data": {
      "text/plain": [
       "(1, ['x'], {'a': 'y'})"
      ]
     },
     "execution_count": 12,
     "metadata": {},
     "output_type": "execute_result"
    }
   ],
   "source": [
    "#6. what is the result of this, and explain?\n",
    "#>>> def func(a, b, c): a = 2; b[0] = 'x'; c['a'] = 'y'\n",
    "#>>> l=1; m=[1]; n={'a':0}\n",
    "#>>> func(l, m, n)\n",
    "#>>> l, m, n\n",
    "def func(a, b, c): a = 2; b[0] = 'x'; c['a'] = 'y'\n",
    "l=1; m=[1]; n={'a':0}\n",
    "func(l, m, n)\n",
    "l, m, n\n",
    "#The result of the code is (1, ['x'] {'a': 'y'}. "
   ]
  },
  {
   "cell_type": "code",
   "execution_count": null,
   "metadata": {},
   "outputs": [],
   "source": []
  }
 ],
 "metadata": {
  "kernelspec": {
   "display_name": "Python 3",
   "language": "python",
   "name": "python3"
  },
  "language_info": {
   "codemirror_mode": {
    "name": "ipython",
    "version": 3
   },
   "file_extension": ".py",
   "mimetype": "text/x-python",
   "name": "python",
   "nbconvert_exporter": "python",
   "pygments_lexer": "ipython3",
   "version": "3.9.7"
  },
  "orig_nbformat": 4
 },
 "nbformat": 4,
 "nbformat_minor": 2
}
