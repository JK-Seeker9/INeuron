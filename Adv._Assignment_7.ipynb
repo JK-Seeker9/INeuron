{
 "cells": [
  {
   "cell_type": "code",
   "execution_count": 1,
   "metadata": {},
   "outputs": [],
   "source": [
    "#Q1. What is the purpose of the try statement?\n",
    "#Ans:   The try statement let us test a block of codes for error."
   ]
  },
  {
   "cell_type": "code",
   "execution_count": 2,
   "metadata": {},
   "outputs": [],
   "source": [
    "#Q2. What are the two most popular try statement variations?\n",
    "#Ans:   The two most popular try statement variations are: try-except block and try-finally block."
   ]
  },
  {
   "cell_type": "code",
   "execution_count": 3,
   "metadata": {},
   "outputs": [],
   "source": [
    "#Q3. What is the purpose of the raise statement?\n",
    "#Ans:   The purpose of the raise statement is to explicitly trigger an exception at a specific point, instead of waiting for an exception to occur naturally."
   ]
  },
  {
   "cell_type": "code",
   "execution_count": 4,
   "metadata": {},
   "outputs": [],
   "source": [
    "#Q4. What does the assert statement do, and what other statement is it like?\n",
    "#Ans:   The assert statement checks a condition and raises an assertion error if the condition is false. It is like an 'if' statement. \n",
    "#       The assert statement is primarily used for debugging and testing purposes."
   ]
  },
  {
   "cell_type": "code",
   "execution_count": null,
   "metadata": {},
   "outputs": [],
   "source": [
    "#Q5. What is the purpose of the with/as argument, and what other statement is it like?\n",
    "#Ans:   The with/as argument is used for context management. It provides a easy way to manage resources. \n",
    "#       It ensures proper initialization and cleanup of resources. It is similar to try-finally statement."
   ]
  }
 ],
 "metadata": {
  "kernelspec": {
   "display_name": "Python 3",
   "language": "python",
   "name": "python3"
  },
  "language_info": {
   "codemirror_mode": {
    "name": "ipython",
    "version": 3
   },
   "file_extension": ".py",
   "mimetype": "text/x-python",
   "name": "python",
   "nbconvert_exporter": "python",
   "pygments_lexer": "ipython3",
   "version": "3.9.7"
  },
  "orig_nbformat": 4
 },
 "nbformat": 4,
 "nbformat_minor": 2
}
