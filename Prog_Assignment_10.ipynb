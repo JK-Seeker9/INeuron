{
 "cells": [
  {
   "cell_type": "code",
   "execution_count": 1,
   "metadata": {},
   "outputs": [
    {
     "name": "stdout",
     "output_type": "stream",
     "text": [
      "[1, 2, 3, 4, 5, 6, 7, 8, 9]\n",
      "The sum of list is:  45\n"
     ]
    }
   ],
   "source": [
    "#1.\tWrite a Python program to find sum of elements in list?\n",
    "my_list = [1,2,3,4,5,6,7,8,9]\n",
    "print(my_list)\n",
    "print(f\"The sum of list is: \",sum(my_list))"
   ]
  },
  {
   "cell_type": "code",
   "execution_count": 3,
   "metadata": {},
   "outputs": [
    {
     "name": "stdout",
     "output_type": "stream",
     "text": [
      "[2, 4, 6, 8, 10, 12]\n",
      "The product of all the elements of list is:  46080\n"
     ]
    }
   ],
   "source": [
    "#2.\tWrite a Python program to  Multiply all numbers in the list?\n",
    "import math\n",
    "my_list = [2,4,6,8,10,12]\n",
    "print(my_list)\n",
    "print(f\"The product of all the elements of list is: \", math.prod(my_list))"
   ]
  },
  {
   "cell_type": "code",
   "execution_count": 4,
   "metadata": {},
   "outputs": [
    {
     "name": "stdout",
     "output_type": "stream",
     "text": [
      "The smallest number in the list [10, 25, 3, 14, 85, 76, 47, 8, 9] is:  3\n"
     ]
    }
   ],
   "source": [
    "#3.\tWrite a Python program to find smallest number in a list?\n",
    "my_list = [10,25,3,14,85,76,47,8,9]\n",
    "print(f\"The smallest number in the list {my_list} is: \",min(my_list))"
   ]
  },
  {
   "cell_type": "code",
   "execution_count": 5,
   "metadata": {},
   "outputs": [
    {
     "name": "stdout",
     "output_type": "stream",
     "text": [
      "The largest number in the list [10, 25, 3, 14, 85, 76, 47, 8, 9] is:  85\n"
     ]
    }
   ],
   "source": [
    "#4.\tWrite a Python program to find largest number in a list?\n",
    "my_list = [10,25,3,14,85,76,47,8,9]\n",
    "print(f\"The largest number in the list {my_list} is: \",max(my_list))"
   ]
  },
  {
   "cell_type": "code",
   "execution_count": 8,
   "metadata": {},
   "outputs": [
    {
     "name": "stdout",
     "output_type": "stream",
     "text": [
      "[3, 8, 9, 10, 14, 25, 47, 76, 85]\n",
      "The second largest number in a list is: 76\n"
     ]
    }
   ],
   "source": [
    "#5.\tWrite a Python program to find second largest number in a list?\n",
    "my_list = [10,25,3,14,85,76,47,8,9]\n",
    "my_list.sort()\n",
    "print(my_list)\n",
    "print(f\"The second largest number in a list is:\",my_list[-2])\n"
   ]
  },
  {
   "cell_type": "code",
   "execution_count": 12,
   "metadata": {},
   "outputs": [
    {
     "name": "stdout",
     "output_type": "stream",
     "text": [
      "[85, 76, 47, 25, 14, 10, 9, 8, 3]\n",
      "The 5th largest number in a list is: 14\n"
     ]
    }
   ],
   "source": [
    "#6.\tWrite a Python program to find N largest elements from a list?\n",
    "my_list = [10,25,3,14,85,76,47,8,9]\n",
    "N = int(input(f\"Enter the idexing between 0 and {len(my_list)}: \"))\n",
    "my_list.sort(reverse= True)\n",
    "print(my_list)\n",
    "print(f\"The {N}th largest number in a list is:\",my_list[N-1])"
   ]
  },
  {
   "cell_type": "code",
   "execution_count": 15,
   "metadata": {},
   "outputs": [
    {
     "name": "stdout",
     "output_type": "stream",
     "text": [
      "10 14 76 8 "
     ]
    }
   ],
   "source": [
    "#7.\tWrite a Python program to print even numbers in a list?\n",
    "my_list = [10,25,3,14,85,76,47,8,9]\n",
    "for i in my_list:\n",
    "    if i%2 == 0:\n",
    "        print(i, end = \" \")"
   ]
  },
  {
   "cell_type": "code",
   "execution_count": 16,
   "metadata": {},
   "outputs": [
    {
     "name": "stdout",
     "output_type": "stream",
     "text": [
      "25 3 85 47 9 "
     ]
    }
   ],
   "source": [
    "#8.\tWrite a Python program to print odd numbers in a List?\n",
    "my_list = [10,25,3,14,85,76,47,8,9]\n",
    "for i in my_list:\n",
    "    if i%2 != 0:\n",
    "        print(i, end = \" \")"
   ]
  },
  {
   "cell_type": "code",
   "execution_count": 18,
   "metadata": {},
   "outputs": [
    {
     "name": "stdout",
     "output_type": "stream",
     "text": [
      "The orifinal list is:  [10, [], [], 25, [], 3, 14, 85, 76, [], 47, 8, 9, []]\n",
      "After deleting empty list the new list is: [10, 25, 3, 14, 85, 76, 47, 8, 9]\n"
     ]
    }
   ],
   "source": [
    "#9.\tWrite a Python program to Remove empty List from List?\n",
    "my_list = [10, [], [], 25, [], 3, 14, 85, 76, [], 47, 8, 9, []]\n",
    "print(f\"The orifinal list is: \",my_list)\n",
    "new_list = [x for x in my_list if x]\n",
    "print(f\"After deleting empty list the new list is: {new_list}\")"
   ]
  },
  {
   "cell_type": "code",
   "execution_count": 19,
   "metadata": {},
   "outputs": [
    {
     "name": "stdout",
     "output_type": "stream",
     "text": [
      "Original List:  [10, 25, 3, 14, 85, 76, 47, 8, 9]\n",
      "copied list:  [10, 25, 3, 14, 85, 76, 47, 8, 9]\n"
     ]
    }
   ],
   "source": [
    "#10.\tWrite a Python program to Cloning or Copying a list?\n",
    "def clone_list(my_list):\n",
    "    copy_list = my_list\n",
    "    return copy_list\n",
    "my_list = [10,25,3,14,85,76,47,8,9]\n",
    "my_list2 = clone_list(my_list)\n",
    "print(\"Original List: \",my_list)\n",
    "print(\"copied list: \",my_list2)"
   ]
  },
  {
   "cell_type": "code",
   "execution_count": 21,
   "metadata": {},
   "outputs": [
    {
     "name": "stdout",
     "output_type": "stream",
     "text": [
      "3 has occured 4 times in the list\n"
     ]
    }
   ],
   "source": [
    "#11.\tWrite a Python program to Count occurrences of an element in a list?\n",
    "from collections import Counter\n",
    "my_list = [3,25,3,14,3,76,3,8,9]\n",
    "n = 3\n",
    "count = Counter(my_list)\n",
    "print(f\"{n} has occured {count[n]} times in the list\")"
   ]
  },
  {
   "cell_type": "code",
   "execution_count": null,
   "metadata": {},
   "outputs": [],
   "source": []
  }
 ],
 "metadata": {
  "kernelspec": {
   "display_name": "Python 3",
   "language": "python",
   "name": "python3"
  },
  "language_info": {
   "codemirror_mode": {
    "name": "ipython",
    "version": 3
   },
   "file_extension": ".py",
   "mimetype": "text/x-python",
   "name": "python",
   "nbconvert_exporter": "python",
   "pygments_lexer": "ipython3",
   "version": "3.9.7"
  },
  "orig_nbformat": 4
 },
 "nbformat": 4,
 "nbformat_minor": 2
}
