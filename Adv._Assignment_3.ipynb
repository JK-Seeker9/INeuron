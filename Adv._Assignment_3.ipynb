{
 "cells": [
  {
   "cell_type": "code",
   "execution_count": 4,
   "metadata": {},
   "outputs": [],
   "source": [
    "#1. What is the concept of an abstract superclass?\n",
    "#Ans:   An abstract class is a type of blueprint for other classes. \n",
    "#       It is typically created to declare a set of methods that must be created in any child class built in top of the abstract class."
   ]
  },
  {
   "cell_type": "code",
   "execution_count": 2,
   "metadata": {},
   "outputs": [],
   "source": [
    "#2. What happens when a class statement's top level contains a basic assignment statement?\n",
    "#Ans:   When a class statement's top level contains a basic assignment statement, it is treated as a class attribute or class level variable where as assignment statements inside method are treated as instance attributes or local attributes.\n",
    "#       The basic assignment statement is executed during the class defination."
   ]
  },
  {
   "cell_type": "code",
   "execution_count": 3,
   "metadata": {},
   "outputs": [],
   "source": [
    "#3. Why does a class need to manually call a superclass's __init__ method?\n",
    "#Ans:   A sub class or class need to manually call a superclass's __init__ method to ensure that superclass's intialization code is executed.\n",
    "#       When a sub class or class is created it has option to override the methods or attributes from its super class, including __init__ method."
   ]
  },
  {
   "cell_type": "code",
   "execution_count": 4,
   "metadata": {},
   "outputs": [],
   "source": [
    "#4. How can you augment, instead of completely replacing, an inherited method?\n",
    "#Ans:   Augmenting an inherited method is adding extra functionality to a method that is inherited from Super-class. \n",
    "#       To augment, instead of completely replacing an inherited method, we have to create our own method with the same name as child class, \n",
    "#       calling the parent class's method using super(), and then adding our own code as needed."
   ]
  },
  {
   "cell_type": "code",
   "execution_count": 5,
   "metadata": {},
   "outputs": [],
   "source": [
    "#5. How is the local scope of a class different from that of a function?\n",
    "#Ans:   The local scope of a class provides access to class variable, instance variables, and methods, which are accessible throughout the class and its instances.\n",
    "#       The local scope of a function only includes variable defined within the function. "
   ]
  }
 ],
 "metadata": {
  "kernelspec": {
   "display_name": "Python 3",
   "language": "python",
   "name": "python3"
  },
  "language_info": {
   "codemirror_mode": {
    "name": "ipython",
    "version": 3
   },
   "file_extension": ".py",
   "mimetype": "text/x-python",
   "name": "python",
   "nbconvert_exporter": "python",
   "pygments_lexer": "ipython3",
   "version": "3.9.7"
  },
  "orig_nbformat": 4
 },
 "nbformat": 4,
 "nbformat_minor": 2
}
