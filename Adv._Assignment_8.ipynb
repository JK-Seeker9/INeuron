{
 "cells": [
  {
   "cell_type": "code",
   "execution_count": 1,
   "metadata": {},
   "outputs": [],
   "source": [
    "#Q1. What are the two latest user-defined exception constraints in Python 3.X?\n",
    "#Ans:   The two latest user-defined exception constraints in python 3.X are 'raise' and 'assert'."
   ]
  },
  {
   "cell_type": "code",
   "execution_count": 2,
   "metadata": {},
   "outputs": [],
   "source": [
    "#Q2. How are class-based exceptions that have been raised matched to handlers?\n",
    "#Ans:   The class-based exceptions that have been raised are matched to the handlers using the inheritance hierarchy. The exception is traversed up the hierarchy until a matching handler is found. "
   ]
  },
  {
   "cell_type": "code",
   "execution_count": 3,
   "metadata": {},
   "outputs": [],
   "source": [
    "#Q3. Describe two methods for attaching context information to exception artefacts.\n",
    "#Ans:   The two methods for attaching context information to exception artefacts are:\n",
    "#       1. Exception Arguments: The __init__ method allows passing arguments during exception instantaion. These arguments are used to attach context information to exception.\n",
    "#       2. Exception Context managers: The context managers as a class with 'enter' and 'exit' methods, can be used to wrap a block of code and attach context information to the exception raised."
   ]
  },
  {
   "cell_type": "code",
   "execution_count": 4,
   "metadata": {},
   "outputs": [],
   "source": [
    "#Q4. Describe two methods for specifying the text of an exception object's error message.\n",
    "#Ans:   The methods for specifying the text of an exception object's error message are : Using Exception Class and Formatting Exception Message.\n",
    "#       In using exception class the error message is specified directly within the exception class. A custom exception class can be defined by inheriting from existing exception class and override the __init__ method to accept an error message as an argument.\n",
    "#       In formatting exception message method the exception message is formatted when raising the exception by using 'f-strings' or str.format() methods. "
   ]
  },
  {
   "cell_type": "code",
   "execution_count": 5,
   "metadata": {},
   "outputs": [],
   "source": [
    "#Q5. Why do you no longer use string-based exceptions?\n",
    "#Ans:   String based exceptions are no longer used because it is hard to catch and handle exceptions accurately. Also, it is less efective in error handeling and control flow.\n"
   ]
  },
  {
   "cell_type": "code",
   "execution_count": null,
   "metadata": {},
   "outputs": [],
   "source": []
  }
 ],
 "metadata": {
  "kernelspec": {
   "display_name": "Python 3",
   "language": "python",
   "name": "python3"
  },
  "language_info": {
   "codemirror_mode": {
    "name": "ipython",
    "version": 3
   },
   "file_extension": ".py",
   "mimetype": "text/x-python",
   "name": "python",
   "nbconvert_exporter": "python",
   "pygments_lexer": "ipython3",
   "version": "3.9.7"
  },
  "orig_nbformat": 4
 },
 "nbformat": 4,
 "nbformat_minor": 2
}
