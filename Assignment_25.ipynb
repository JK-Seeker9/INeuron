{
 "cells": [
  {
   "cell_type": "code",
   "execution_count": 1,
   "metadata": {},
   "outputs": [],
   "source": [
    "#1. What is the difference between enclosing a list comprehension in square brackets and parentheses?\n",
    "#Ans: The difference between enclosing a list comprehension in square brackets and parantheses is that sqare brackets '[]' creates a list object whereas parantheses '()' creates a generator object."
   ]
  },
  {
   "cell_type": "code",
   "execution_count": 2,
   "metadata": {},
   "outputs": [],
   "source": [
    "#2.What is the relationship between generators and iterators?\n",
    "#Ans: Generators are a type of iterators that simplifies the process of creating iterators by using generator functions. Generator is a specific type of iterator. \n"
   ]
  },
  {
   "cell_type": "code",
   "execution_count": 3,
   "metadata": {},
   "outputs": [],
   "source": [
    "#3.What are the signs that a function is a generator function?\n",
    "#Ans:   The generator function uses the keyword 'Yeild' inside the function.\n",
    "#       Function uses 'yeild' to produce series of values instead of returning a value with 'return'.\n",
    "#       When function is called it returns special object called generator.\n"
   ]
  },
  {
   "cell_type": "code",
   "execution_count": 4,
   "metadata": {},
   "outputs": [],
   "source": [
    "#4.What is the purpose of a yield statement?\n",
    "#Ans:   The purpose of yeild statement in python is to create generator functions. It allows the function to produce a sequence of values over time , instead of generating at once."
   ]
  },
  {
   "cell_type": "code",
   "execution_count": 5,
   "metadata": {},
   "outputs": [],
   "source": [
    "#5.What is the relationship between map calls and list comprehensions? Make a comparison and contrast between the two.\n",
    "#Ans:   The relationship between map calls and list comprehensions is that they both provide ways to perform similar operations on elements of a list.\n",
    "#       In Map calls map() is used along with lambda function. Map calls are less readable and expressive as compared to list comprehensions.\n",
    "#       The map() function returns a map object as an output, whereas, list comprehensions returns a new list as an output."
   ]
  }
 ],
 "metadata": {
  "kernelspec": {
   "display_name": "Python 3",
   "language": "python",
   "name": "python3"
  },
  "language_info": {
   "codemirror_mode": {
    "name": "ipython",
    "version": 3
   },
   "file_extension": ".py",
   "mimetype": "text/x-python",
   "name": "python",
   "nbconvert_exporter": "python",
   "pygments_lexer": "ipython3",
   "version": "3.9.7"
  },
  "orig_nbformat": 4
 },
 "nbformat": 4,
 "nbformat_minor": 2
}
