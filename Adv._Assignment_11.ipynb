{
 "cells": [
  {
   "cell_type": "code",
   "execution_count": 1,
   "metadata": {},
   "outputs": [],
   "source": [
    "#Q1. What is the concept of a metaclass?\n",
    "#Ans:   A metaclass is a class that defines how other classes are created. These are powerful tools that can be used to customize the behavior of classes.\n",
    "#       The metaclasses can be used to:\n",
    "#       1. how attributes are created and accessed.\n",
    "#       2. Generate codes automatically for classes\n",
    "#       3. Implement custom behavior of classes"
   ]
  },
  {
   "cell_type": "code",
   "execution_count": 2,
   "metadata": {},
   "outputs": [],
   "source": [
    "#Q2. What is the best way to declare a class's metaclass?\n",
    "#Ans:   The best way to declare a class's metaclass is by using keyword 'metaclass' in class defination."
   ]
  },
  {
   "cell_type": "code",
   "execution_count": 3,
   "metadata": {},
   "outputs": [],
   "source": [
    "#Q3. How do class decorators overlap with metaclasses for handling classes?\n",
    "#Ans:   A class decorator is a function that takes a class as an argument and returns a new class. This new class will have all the attributes and methods of original class and also carry additional methods and attributes added by the decorator.\n",
    "#       The class decorator is applied on a class after it is already created, while metaclass are used to create a new class. "
   ]
  },
  {
   "cell_type": "code",
   "execution_count": 4,
   "metadata": {},
   "outputs": [],
   "source": [
    "#Q4. How do class decorators overlap with metaclasses for handling instances?\n",
    "#Ans:   A class decorator is applied to classes and their instances after they have been already created and is used to add new methods or attributes to the instances. \n",
    "#       Whereas, Metaclasses are used to create class and the instance created in meta class are inherited by all the classes created by using that particular meta class."
   ]
  },
  {
   "cell_type": "code",
   "execution_count": null,
   "metadata": {},
   "outputs": [],
   "source": []
  }
 ],
 "metadata": {
  "kernelspec": {
   "display_name": "Python 3",
   "language": "python",
   "name": "python3"
  },
  "language_info": {
   "codemirror_mode": {
    "name": "ipython",
    "version": 3
   },
   "file_extension": ".py",
   "mimetype": "text/x-python",
   "name": "python",
   "nbconvert_exporter": "python",
   "pygments_lexer": "ipython3",
   "version": "3.9.7"
  },
  "orig_nbformat": 4
 },
 "nbformat": 4,
 "nbformat_minor": 2
}
