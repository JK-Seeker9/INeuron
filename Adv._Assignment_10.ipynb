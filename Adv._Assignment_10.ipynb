{
 "cells": [
  {
   "cell_type": "code",
   "execution_count": 1,
   "metadata": {},
   "outputs": [],
   "source": [
    "#Q1. What is the difference between __getattr__ and __getattribute__?\n",
    "#Ans:   The __getattr__  is a method which is only called if the attribute is not found in the object. It can be defined in class to handle attribute lookups that donot find attributes in an object.\n",
    "#       The __getattribute__ on the other hand is called for every attribute access, wether the attribute is found or not. It can be defined to control how attribute lookups are performed."
   ]
  },
  {
   "cell_type": "code",
   "execution_count": 2,
   "metadata": {},
   "outputs": [],
   "source": [
    "#Q2. What is the difference between properties and descriptors?\n",
    "#Ans:   The differnce between properties and descriptors are that property is an object that provides a way to access an attribute. And a descriptor is an object implementing the descriptor protocol, which allows it to be used as property.\n",
    "#       The main differnce is that properties are objects that can be assigned to attributes while descriptors are used as objects to create properties. "
   ]
  },
  {
   "cell_type": "code",
   "execution_count": 3,
   "metadata": {},
   "outputs": [],
   "source": [
    "#Q3. What are the key differences in functionality between __getattr__ and __getattribute__, as well as properties and descriptors?\n",
    "#Ans:   The key differences in functionality between _getattr__ and __getattribute__, as well as properties and descriptors are:\n",
    "#       __getattr__: This is a special method called when the attribute is not found.\n",
    "#       __getaatribute__: This is a special method called for every attribute access, wether attribute is found or not.\n",
    "#       properties: This is an object that provides way to access an attribute. It can be assigned to attributes\n",
    "#       descriptors: These are objects implemented in the descriptor protocol, allowing it  to be used as property. "
   ]
  },
  {
   "cell_type": "code",
   "execution_count": null,
   "metadata": {},
   "outputs": [],
   "source": []
  }
 ],
 "metadata": {
  "kernelspec": {
   "display_name": "Python 3",
   "language": "python",
   "name": "python3"
  },
  "language_info": {
   "codemirror_mode": {
    "name": "ipython",
    "version": 3
   },
   "file_extension": ".py",
   "mimetype": "text/x-python",
   "name": "python",
   "nbconvert_exporter": "python",
   "pygments_lexer": "ipython3",
   "version": "3.9.7"
  },
  "orig_nbformat": 4
 },
 "nbformat": 4,
 "nbformat_minor": 2
}
