{
 "cells": [
  {
   "cell_type": "code",
   "execution_count": null,
   "metadata": {},
   "outputs": [],
   "source": [
    "#Q1. Describe the differences between text and binary files in a single paragraph.\n",
    "#Ans:   Text files are stored in a human-readable format, while binary files are stored in a binary format. \n",
    "#       This means that text files can be opened and read by a text editor, while binary files can only be opened and read by a program that understands the binary format.\n",
    "\n",
    "#Q2. What are some scenarios where using text files will be the better option? When would you like to use binary files instead of text files?\n",
    "#Ans:   The scenarios where using text files will be better option are:\n",
    "#           When data is to be read by humans\n",
    "#           When data is small and simple\n",
    "#           When data needs to be shared or portable in nature.\n",
    "#           When data needs to be backed-up and stored.\n",
    "#       The scenarios to use binary files instead of text files:\n",
    "#           Data is meant to be processed by computer\n",
    "#           Data is large and complex\n",
    "#           Efficiency is a priority\n",
    "#           Data Encryption is needed for security.\n",
    "\n",
    "#Q3. What are some of the issues with using binary operations to read and write a Python integer directly to disc?\n",
    "#Ans:   Some of the issues with using binary operations to read and write are:\n",
    "#           The binary format of integer vary from platform to platform.\n",
    "#           Binary operations are typically slower than text operations. Binary operations require more processing. \n",
    "#           It is not secure unless and until properly encrypted.\n",
    "\n",
    "#Q4. Describe a benefit of using the with keyword instead of explicitly opening a file.\n",
    "#Ans:   Some benefits of using the 'with' keyword instead of explicitily opening a file are:\n",
    "#       Automatic Resource Management: The with keyword ensures that the file is closed properly even if an exception is raised. It uses context manager of the file.\n",
    "#       The with keyword makes the code more readable and easier to understand and maintain.\n",
    "\n",
    "#Q5. Does Python have the trailing newline while reading a line of text? Does Python append a newline when you write a line of text?\n",
    "#Ans:   Yes! python has the trailing newline while rading a line of text. This is because it uses a text based format to store data.\n",
    "#       And Python appends a new line when a line of text is written.\n",
    "\n",
    "#Q6. What file operations enable for random-access operation?\n",
    "#Ans:   The following file operations are enabled for random access operations: Seek, Read and Write.\n",
    "\n",
    "#Q7. When do you think you'll use the struct package the most?\n",
    "#Ans:   The struct package is used the most while rading or writting a binary data and to communicate with a Cor C++ program that expects binary data.\n",
    "\n",
    "#Q8. When is pickling the best option?\n",
    "#Ans:   Pickling is the best option when we need to store or transmit python object structure in a way that it can be reconstructed later.\n",
    "#       It is used in variety of tasks like: storing objects in a file, transmitting objects over a network, caching objects, etc.\n",
    "\n",
    "#Q9. When will it be best to use the shelve package?\n",
    "#Ans:   A shelve package is a module that provides a simple way to store and retrieve python objects in a file. It is used when we need to store data that can be reconsttructed later.\n",
    "\n",
    "#Q10. What is a special restriction when using the shelve package, as opposed to using other data dictionaries?\n",
    "#Ans:   The special restriction when using a shelve package is that it can only be used to store python objects and not strings, numbers or other data types.\n",
    "#       It cannot be used from multiple threads at a same time."
   ]
  }
 ],
 "metadata": {
  "language_info": {
   "name": "python"
  },
  "orig_nbformat": 4
 },
 "nbformat": 4,
 "nbformat_minor": 2
}
