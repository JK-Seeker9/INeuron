{
 "cells": [
  {
   "cell_type": "code",
   "execution_count": null,
   "metadata": {},
   "outputs": [],
   "source": [
    "#Q1. What is the benefit of regular expressions?\n",
    "#Ans: Regular expressions are used to search, edit and manipulate text data. They can be used to search specific strings of text, replace particular string of texts, extracting data from large texts.\n",
    "\n",
    "#Q2. Describe the difference between the effects of \"(ab)c+\" and \"a(bc)+.\" Which of these, if any, is the unqualified pattern \"abc+\"?\n",
    "#Ans:   The regex \"(ab)c+\" matches the string \"abc\", where it is preceded by \"ab\" and followed by any number of character.\n",
    "#       The regex \"a(bc)+\" matches the string \"abc\", where it is preceded by \"a\" and followed by any number of character \"bc\".\n",
    "#       The regex \"abc+\" matches the string \"abc\", where it is preceded by and followed by any number of character.\n",
    "\n",
    "#Q3. How much do you need to use the following sentence while using regular expressions? import re\n",
    "#Ans:   The 'import re' statement is only needed once in a program before using regular expressions. \n",
    "#       The re module provides functions to be used to compile, search and manipulate regular expressions.\n",
    "\n",
    "#Q4. Which characters have special significance in square brackets when expressing a range, and under what circumstances?\n",
    "#Ans:   The characters '-' and '^' have special significance in square brackets when expressing a range.\n",
    "#       The '-' character is used to indicate a range of characters and the '^' character is used to negate a range of characters.\n",
    "\n",
    "#Q5. How does compiling a regular-expression object benefit you?\n",
    "#Ans:   Compiling a regular expression can make the code more readble, improves the performance of the code, python interpreter can optimize the pattern for speed and it makes the code more portable.\n",
    "\n",
    "#Q6. What are some examples of how to use the match object returned by re.match and re.search?\n",
    "#Ans:   Examples of how to use the match object returned by re.match and re.search are:\n",
    "#       1. To get the start and end positions of the match.\n",
    "#       2. To get matched text.\n",
    "#       3. To get all the matched groups and many others.\n",
    "\n",
    "#Q7. What is the difference between using a vertical bar (|) as an alteration and using square brackets as a character set?\n",
    "#Ans:   The vertical bar (|) represents an 'or' expression in regular expression. It means the regular expression will match any string that contains one of the characters on either side of the vertical bar.\n",
    "#       Square brackets are used to represent character sets in regular expressions. It means the expression will match any string that contains any one of the characters inside square brackets.\n",
    "\n",
    "#Q8. In regular-expression search patterns, why is it necessary to use the raw-string indicator (r)? In   replacement strings?\n",
    "#Ans:   In regular expression search patterns and in replacement strings, it is necessary to use the raw string indicator (r) because it tells python interpreter \n",
    "#       that the string is a regular expression and not a normal string.\n"
   ]
  }
 ],
 "metadata": {
  "language_info": {
   "name": "python"
  },
  "orig_nbformat": 4
 },
 "nbformat": 4,
 "nbformat_minor": 2
}
