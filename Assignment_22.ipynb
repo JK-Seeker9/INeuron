{
 "cells": [
  {
   "cell_type": "code",
   "execution_count": 1,
   "metadata": {},
   "outputs": [
    {
     "name": "stdout",
     "output_type": "stream",
     "text": [
      "iNeuron\n"
     ]
    }
   ],
   "source": [
    "#1. What is the result of the code, and explain?\n",
    "#>>> X = 'iNeuron'\n",
    "#>>> def func():\n",
    "#print(X)\n",
    "#>>> func()\n",
    "X = 'iNeuron'\n",
    "def func():\n",
    "    print(X)\n",
    "func()\n",
    "#   Because X is a global variable and is passed inside a function we are getting the following output."
   ]
  },
  {
   "cell_type": "code",
   "execution_count": 2,
   "metadata": {},
   "outputs": [
    {
     "name": "stdout",
     "output_type": "stream",
     "text": [
      "iNeuron\n"
     ]
    }
   ],
   "source": [
    "#2. What is the result of the code, and explain?\n",
    "#>>> X = 'iNeuron'\n",
    "#>>> def func():\n",
    "#X = 'NI!'\n",
    "#>>> func()\n",
    "#>>> print(X)\n",
    "X = 'iNeuron'\n",
    "def func():\n",
    "    X = 'NI!'\n",
    "func()\n",
    "print(X)\n",
    "\n",
    "#   In this code also since X is first assigned as a global variable, python priortizes its value first."
   ]
  },
  {
   "cell_type": "code",
   "execution_count": 3,
   "metadata": {},
   "outputs": [
    {
     "name": "stdout",
     "output_type": "stream",
     "text": [
      "NI!\n",
      "iNeuron\n"
     ]
    }
   ],
   "source": [
    "#3. What does this code print, and why?\n",
    "#>>> X = 'iNeuron'\n",
    "#>>> def func():\n",
    "#X = 'NI'\n",
    "#print(X)\n",
    "#>>> func()\n",
    "#>>> print(X)\n",
    "X = 'iNeuron'\n",
    "def func():\n",
    "    X = 'NI!'\n",
    "    print(X)\n",
    "func()\n",
    "print(X)\n",
    "# Since print is also inside the function, Ni gets printed first as it is locally assigned to X and then the global value of X gets printed outside the function.  \n"
   ]
  },
  {
   "cell_type": "code",
   "execution_count": 4,
   "metadata": {},
   "outputs": [
    {
     "name": "stdout",
     "output_type": "stream",
     "text": [
      "NI!\n",
      "NI!\n"
     ]
    }
   ],
   "source": [
    "#4. What output does this code produce? Why?\n",
    "#>>> X = 'iNeuron'\n",
    "#>>> def func():\n",
    "#global X\n",
    "#X = 'NI'\n",
    "#>>> func()\n",
    "#>>> print(X)\n",
    "X = 'iNeuron'\n",
    "def func():\n",
    "    global X\n",
    "    X = 'NI!'\n",
    "    print(X)\n",
    "\n",
    "func()\n",
    "print(X)\n",
    "# In this case the global variable is called inside a function and the value is replaced by local value (X = 'Ni')"
   ]
  },
  {
   "cell_type": "code",
   "execution_count": 5,
   "metadata": {},
   "outputs": [
    {
     "name": "stdout",
     "output_type": "stream",
     "text": [
      "iNeuron\n"
     ]
    },
    {
     "data": {
      "text/plain": [
       "'iNeuron'"
      ]
     },
     "execution_count": 5,
     "metadata": {},
     "output_type": "execute_result"
    }
   ],
   "source": [
    "#5. What about this code—what’s the output, and why?\n",
    "#>>> X = 'iNeuron'\n",
    "#>>> def func():\n",
    "#X = 'NI'\n",
    "#def nested():\n",
    "#print(X)\n",
    "#nested()\n",
    "#>>> func()\n",
    "#>>> X\n",
    "X = 'iNeuron'\n",
    "def func():\n",
    "    X = 'NI'\n",
    "def nested():\n",
    "    print(X) \n",
    "nested()\n",
    "func()\n",
    "X\n",
    "#   The output of the code is iNeuron 'iNeuron'. \n",
    "#   The reason is that the X variable is assigned the value Ineuron globaly. The nested() function prints the value of the X variable, which is Ineuron. "
   ]
  },
  {
   "cell_type": "code",
   "execution_count": 7,
   "metadata": {},
   "outputs": [
    {
     "name": "stdout",
     "output_type": "stream",
     "text": [
      "spam\n"
     ]
    }
   ],
   "source": [
    "#6. How about this code: what is its output in Python 3, and explain?\n",
    "#>>> def func():\n",
    "#X = 'NI'\n",
    "#def nested():\n",
    "#nonlocal X\n",
    "#X = 'Spam'\n",
    "#nested()\n",
    "#print(X)\n",
    "#>>> func()\n",
    "def func():\n",
    "    X = 'NI'\n",
    "    def nested():\n",
    "        nonlocal X\n",
    "        X = 'spam'\n",
    "    nested()\n",
    "    print(X)\n",
    "func()\n",
    "#The output of the code is spam. The reason is that the nonlocal statement tells Python that the X variable is defined in the enclosing scope. The X variable is then assigned the value spam in the nested() function."
   ]
  },
  {
   "cell_type": "code",
   "execution_count": null,
   "metadata": {},
   "outputs": [],
   "source": []
  }
 ],
 "metadata": {
  "kernelspec": {
   "display_name": "Python 3",
   "language": "python",
   "name": "python3"
  },
  "language_info": {
   "codemirror_mode": {
    "name": "ipython",
    "version": 3
   },
   "file_extension": ".py",
   "mimetype": "text/x-python",
   "name": "python",
   "nbconvert_exporter": "python",
   "pygments_lexer": "ipython3",
   "version": "3.9.7"
  },
  "orig_nbformat": 4
 },
 "nbformat": 4,
 "nbformat_minor": 2
}
