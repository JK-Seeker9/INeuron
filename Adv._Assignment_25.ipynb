{
 "cells": [
  {
   "cell_type": "code",
   "execution_count": 1,
   "metadata": {},
   "outputs": [],
   "source": [
    "#Q1. What is the distinction between a numpy array and a pandas data frame? Is there a way to convert between the two if there is?\n",
    "#Ans:   NumPy arrays and Pandas DataFrames are both datastructures that can be used to store and manipulate data.\n",
    "#       NumPy arrays can only store data of a single data type, while pandas DataFrames can store data of multiple data types.\n",
    "#       NumPy arrays are indexed using integers, whereas Pandas DataFrames can be indexed using both integers and labels.\n",
    "#       To convert we can use to_numpy() method on Pandas dataframe. And use Dataframe() constructor to convert to Pandas in NumPy array."
   ]
  },
  {
   "cell_type": "code",
   "execution_count": 2,
   "metadata": {},
   "outputs": [],
   "source": [
    "#Q2. What can go wrong when an user enters in a stock-ticker symbol, and how do you handle it?\n",
    "#Ans:   If a user enters a wrong stock-ticker symbol:\n",
    "#           User enters an invalid ticker symbol - An error message is dispalyed asking the user to enter valid ticker no.\n",
    "#           User enters a ticker number for a company that is not traded on public market. - An error message is displayed informing the user that no information is available about the stock price.\n",
    "#           User enters a ticker no. for a company that is not listed in stock market. - An error message is displayed informing that the stock is not available to trade.\n",
    "#       To handle invalid ticker symbols: USe a regular expression to validate the ticker symbol, Display Error messages, Provide a list of valid ticker symbols to the user."
   ]
  },
  {
   "cell_type": "code",
   "execution_count": 3,
   "metadata": {},
   "outputs": [],
   "source": [
    "#Q3. Identify some of the plotting techniques that are used to produce a stock-market chart.\n",
    "#Ans:   Some of the plotting techniques that are used to produce a stock-market chart are: Line, Bar, Candlesticks, Point and figure, Renko, Volume, Moving average charts and many more.\n"
   ]
  },
  {
   "cell_type": "code",
   "execution_count": 4,
   "metadata": {},
   "outputs": [],
   "source": [
    "#Q4. Why is it essential to print a legend on a stock market chart?\n",
    "#Ans:   It is essential to print a legend on a stock market chart because it helps to identify the different data series that are being represented on the chart. \n",
    "#       Without legend it will be difficult to understand what chart is being showed."
   ]
  },
  {
   "cell_type": "code",
   "execution_count": 5,
   "metadata": {},
   "outputs": [],
   "source": [
    "#Q5. What is the best way to limit the length of a pandas data frame to less than a year?\n",
    "#Ans:   The best way to limit the length of pandas data frame to less than a year is by using .loc() method to select the rows that were created within the required year.\n",
    "#       Another way is to use .query() method.\n"
   ]
  },
  {
   "cell_type": "code",
   "execution_count": 6,
   "metadata": {},
   "outputs": [],
   "source": [
    "#Q6. What is the definition of a 180-day moving average?\n",
    "#Ans:   The 180 day moving average is used to filter price data by averaging the closing prices over period of 180 days. This helps in identify trends, support and resistance levels.  "
   ]
  },
  {
   "cell_type": "code",
   "execution_count": 9,
   "metadata": {},
   "outputs": [],
   "source": [
    "#Q7. Did the chapter's final example use \"indirect\" importing? If so, how exactly do you do it?\n",
    "#Ans:   Yes! the chapter's final example use \"indirect\" importing. To apply indirect importing following syntax is used:\n",
    "import importlib \n",
    "x = importlib.import_module(\"math\")\n",
    "#This code imports the math module and assign it to variable x to use normally"
   ]
  }
 ],
 "metadata": {
  "kernelspec": {
   "display_name": "Python 3",
   "language": "python",
   "name": "python3"
  },
  "language_info": {
   "codemirror_mode": {
    "name": "ipython",
    "version": 3
   },
   "file_extension": ".py",
   "mimetype": "text/x-python",
   "name": "python",
   "nbconvert_exporter": "python",
   "pygments_lexer": "ipython3",
   "version": "3.9.7"
  },
  "orig_nbformat": 4
 },
 "nbformat": 4,
 "nbformat_minor": 2
}
