{
 "cells": [
  {
   "cell_type": "code",
   "execution_count": 1,
   "metadata": {},
   "outputs": [],
   "source": [
    "#Q1. Does assigning a value to a string's indexed character violate Python's string immutability?\n",
    "#Ans:   Strings in python are immutable. Therefore, assigning a value to string's indexed character violates Python's string immutability."
   ]
  },
  {
   "cell_type": "code",
   "execution_count": 2,
   "metadata": {},
   "outputs": [],
   "source": [
    "#Q2. Does using the += operator to concatenate strings violate Python's string immutability? Why or why not?\n",
    "#Ans:   Using += operate to concatenate strings doesnot violate pythons string immutability. \n",
    "#       This is because the += operator does not change the string, instead it creates a new string after concatenation."
   ]
  },
  {
   "cell_type": "code",
   "execution_count": 3,
   "metadata": {},
   "outputs": [],
   "source": [
    "#Q3. In Python, how many different ways are there to index a character?\n",
    "#Ans:   There are two ways in which character can be indexed:\n",
    "#           1. By using a number\n",
    "#           2. Using a slice "
   ]
  },
  {
   "cell_type": "code",
   "execution_count": 4,
   "metadata": {},
   "outputs": [],
   "source": [
    "#Q4. What is the relationship between indexing and slicing?\n",
    "#Ans:   Both slicing and indexing are different ways to index a character.\n",
    "#       In indexing only a single element is accessed. For indexing, the index of the character is specified in [] square brackets.\n",
    "#       In slicing a range of elements can be accessed. For slicing the start index, end index and step size is specified in a [] square bracket."
   ]
  },
  {
   "cell_type": "code",
   "execution_count": 11,
   "metadata": {},
   "outputs": [
    {
     "name": "stdout",
     "output_type": "stream",
     "text": [
      "H\n",
      "ello\n"
     ]
    }
   ],
   "source": [
    "#Q5. What is an indexed character's exact data type? What is the data form of a slicing-generated substring?\n",
    "#Ans:   The indexed character's exact data type is unicode. And the data form of a slicing - generated substring is a string\n",
    "my_ster = \"Hello\"\n",
    "print(my_ster[0]) # indexed character\n",
    "print(my_ster[1:5]) # slicing-generated substring"
   ]
  },
  {
   "cell_type": "code",
   "execution_count": 6,
   "metadata": {},
   "outputs": [],
   "source": [
    "#Q6. What is the relationship between string and character \"types\" in Python?\n",
    "#Ans: A character is a string with length 1, while a string can have any length. This is the basic relationship between a string and a character."
   ]
  },
  {
   "cell_type": "code",
   "execution_count": 7,
   "metadata": {},
   "outputs": [],
   "source": [
    "#Q7. Identify at least two operators and one method that allow you to combine one or more smaller strings to create a larger string.\n",
    "#Ans:   Two operators that allows to combine one or more smaller strings are :- '+' and '+=' operators. \n",
    "#       And the method used to combine strings is the 'join()' method."
   ]
  },
  {
   "cell_type": "code",
   "execution_count": 8,
   "metadata": {},
   "outputs": [],
   "source": [
    "#Q8. What is the benefit of first checking the target string with in or not in before using the index method to find a substring?\n",
    "#Ans:   The 'in' or 'not in' are used to search for the substring in the string. If it is not used before using 'index' method, and the substring is not found, then it will throw an exception.\n",
    "#       Therefore, first checking the target string with 'in' or 'not in', these exceptions can be avoided."
   ]
  },
  {
   "cell_type": "code",
   "execution_count": 9,
   "metadata": {},
   "outputs": [],
   "source": [
    "#Q9. Which operators and built-in string methods produce simple Boolean (true/false) results?\n",
    "#Ans:   The comparison operators such as <, >, <=, >=, ==, !=, produce simple Boolean results.\n",
    "#       The string methods that produce simple boolean results are: len(), startswith(), endswith(), contains(), isalpha(), islower(), isupper(), etc."
   ]
  }
 ],
 "metadata": {
  "kernelspec": {
   "display_name": "Python 3",
   "language": "python",
   "name": "python3"
  },
  "language_info": {
   "codemirror_mode": {
    "name": "ipython",
    "version": 3
   },
   "file_extension": ".py",
   "mimetype": "text/x-python",
   "name": "python",
   "nbconvert_exporter": "python",
   "pygments_lexer": "ipython3",
   "version": "3.9.7"
  },
  "orig_nbformat": 4
 },
 "nbformat": 4,
 "nbformat_minor": 2
}
