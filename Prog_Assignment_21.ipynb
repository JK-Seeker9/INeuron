{
 "cells": [
  {
   "attachments": {},
   "cell_type": "markdown",
   "metadata": {},
   "source": [
    "Question1\n",
    "Write a function that takes a list and a number as arguments. Add the number to the end of the list, then remove the first element of the list. The function should then return the updated list.\n",
    "Examples\n",
    "next_in_line([5, 6, 7, 8, 9], 1) ➞ [6, 7, 8, 9, 1]\n",
    "\n",
    "next_in_line([7, 6, 3, 23, 17], 10) ➞ [6, 3, 23, 17, 10]\n",
    "\n",
    "next_in_line([1, 10, 20, 42 ], 6) ➞ [10, 20, 42, 6]\n",
    "\n",
    "next_in_line([], 6) ➞ \"No list has been selected\""
   ]
  },
  {
   "cell_type": "code",
   "execution_count": 1,
   "metadata": {},
   "outputs": [
    {
     "name": "stdout",
     "output_type": "stream",
     "text": [
      "New modified list is : [6, 7, 8, 9, 1]\n",
      "New modified list is : [6, 3, 23, 17, 10]\n",
      "No list has been selected\n"
     ]
    }
   ],
   "source": [
    "def next_in_line(my_list,num):\n",
    "    if len(my_list)>1:\n",
    "        my_list.append(num)\n",
    "        my_list.remove(my_list[0])\n",
    "        print(f\"New modified list is : {my_list}\")\n",
    "    else:\n",
    "        print(\"No list has been selected\")\n",
    "next_in_line([5,6,7,8,9],1)\n",
    "next_in_line([7,6,3,23,17],10)\n",
    "next_in_line([],6)"
   ]
  },
  {
   "attachments": {},
   "cell_type": "markdown",
   "metadata": {},
   "source": [
    "Question2\n",
    "Create the function that takes a list of dictionaries and returns the sum of people's budgets.\n",
    "Examples\n",
    "get_budgets([\n",
    "  { \"name\": \"John\", \"age\": 21, \"budget\": 23000 },\n",
    "  { \"name\": \"Steve\",  \"age\": 32, \"budget\": 40000 },\n",
    "  { \"name\": \"Martin\",  \"age\": 16, \"budget\": 2700 }\n",
    "]) ➞ 65700\n",
    "\n",
    "get_budgets([\n",
    "  { \"name\": \"John\",  \"age\": 21, \"budget\": 29000 },\n",
    "  { \"name\": \"Steve\",  \"age\": 32, \"budget\": 32000 },\n",
    "  { \"name\": \"Martin\",  \"age\": 16, \"budget\": 1600 }\n",
    "]) ➞ 62600"
   ]
  },
  {
   "cell_type": "code",
   "execution_count": 3,
   "metadata": {},
   "outputs": [
    {
     "name": "stdout",
     "output_type": "stream",
     "text": [
      "Sum Of budget is : 65700\n",
      "Sum Of budget is : 62600\n"
     ]
    }
   ],
   "source": [
    "def get_budgets(my_dict):\n",
    "    summ = 0\n",
    "    for i in my_dict:\n",
    "        summ+=i[\"budget\"]\n",
    "    print(f\"Sum Of budget is : {summ}\")\n",
    "get_budgets([{\"name\":\"John\",\"age\":21,\"budget\":23000},{\"name\":\"Steve\",\"age\":32,\"budget\":40000},{\"name\":\"Martin\",\"age\":16,\"budget\":2700}]) \n",
    "get_budgets([{\"name\":\"John\",\"age\":21,\"budget\":29000},{\"name\":\"Steve\",\"age\":32,\"budget\":32000},{\"name\":\"Martin\",\"age\":16,\"budget\":1600}]) "
   ]
  },
  {
   "attachments": {},
   "cell_type": "markdown",
   "metadata": {},
   "source": [
    "Question3\n",
    "Create a function that takes a string and returns a string with its letters in alphabetical order.\n",
    "Examples\n",
    "alphabet_soup(\"hello\") ➞ \"ehllo\"\n",
    "\n",
    "alphabet_soup(\"edabit\") ➞ \"abdeit\"\n",
    "\n",
    "alphabet_soup(\"hacker\") ➞ \"acehkr\"\n",
    "\n",
    "alphabet_soup(\"geek\") ➞ \"eegk\"\n",
    "\n",
    "alphabet_soup(\"javascript\") ➞ \"aacijprstv\""
   ]
  },
  {
   "cell_type": "code",
   "execution_count": 4,
   "metadata": {},
   "outputs": [
    {
     "name": "stdout",
     "output_type": "stream",
     "text": [
      "Ordered String is : ehllo\n",
      "Ordered String is : abdeit\n",
      "Ordered String is : acehkr\n",
      "Ordered String is : eegk\n",
      "Ordered String is : aacijprstv\n"
     ]
    }
   ],
   "source": [
    "def alphabet_soup(my_str):\n",
    "    ordered_string = ''.join(sorted(my_str))\n",
    "    print(f\"Ordered String is : {ordered_string}\")\n",
    "alphabet_soup(\"hello\")\n",
    "alphabet_soup(\"edabit\")\n",
    "alphabet_soup(\"hacker\") \n",
    "alphabet_soup(\"geek\") \n",
    "alphabet_soup(\"javascript\")"
   ]
  },
  {
   "attachments": {},
   "cell_type": "markdown",
   "metadata": {},
   "source": [
    "Question4\n",
    "Suppose that you invest $10,000 for 10 years at an interest rate of 6% compounded monthly. What will be the value of your investment at the end of the 10 year period?\n",
    "Create a function that accepts the principal p, the term in years t, the interest rate r, and the number of compounding periods per year n. The function returns the value at the end of term rounded to the nearest cent.\n",
    "For the example above:\n",
    "compound_interest(10000, 10, 0.06, 12) ➞ 18193.97\n",
    "Note that the interest rate is given as a decimal and n=12 because with monthly compounding there are 12 periods per year. Compounding can also be done annually, quarterly, weekly, or daily.\n",
    "Examples\n",
    "compound_interest(100, 1, 0.05, 1) ➞ 105.0\n",
    "\n",
    "compound_interest(3500, 15, 0.1, 4) ➞ 15399.26\n",
    "\n",
    "compound_interest(100000, 20, 0.15, 365) ➞ 2007316.26\n"
   ]
  },
  {
   "cell_type": "code",
   "execution_count": 7,
   "metadata": {},
   "outputs": [
    {
     "name": "stdout",
     "output_type": "stream",
     "text": [
      "The CI of $3500 at 0.1% rate in 15 years compounded 4 times is : 15399.26\n",
      "The CI of $100000 at 0.15% rate in 20 years compounded 365 times is : 2007316.26\n"
     ]
    }
   ],
   "source": [
    "def compound_interest(p,t,r,n):\n",
    "    ci = p*(1+(r/n))**(n*t)\n",
    "    print(f\"The CI of ${p} at {r}% rate in {t} years compounded {n} times is : {round(ci,2)}\")\n",
    "compound_interest(3500,15,0.1,4) \n",
    "compound_interest(100000,20,0.15,365) "
   ]
  },
  {
   "attachments": {},
   "cell_type": "markdown",
   "metadata": {},
   "source": [
    "Question5\n",
    "Write a function that takes a list of elements and returns only the integers.\n",
    "Examples\n",
    "return_only_integer([9, 2, \"space\", \"car\", \"lion\", 16]) ➞ [9, 2, 16]\n",
    "\n",
    "return_only_integer([\"hello\", 81, \"basketball\", 123, \"fox\"]) ➞ [81, 123]\n",
    "\n",
    "return_only_integer([10, \"121\", 56, 20, \"car\", 3, \"lion\"]) ➞ [10, 56, 20, 3]\n",
    "\n",
    "return_only_integer([\"String\",  True,  3.3,  1]) ➞ [1]"
   ]
  },
  {
   "cell_type": "code",
   "execution_count": 10,
   "metadata": {},
   "outputs": [
    {
     "name": "stdout",
     "output_type": "stream",
     "text": [
      "The required new list is : [9, 2, 16]\n",
      "The required new list is : [81, 123]\n",
      "The required new list is : [10, 56, 20, 3]\n",
      "The required new list is : [1]\n"
     ]
    }
   ],
   "source": [
    "def return_only_integer(my_list):\n",
    "    new_list = []\n",
    "    for i in my_list:\n",
    "        if type(i)==int:\n",
    "            new_list.append(i)\n",
    "    print(f\"The required new list is : {new_list}\")\n",
    "return_only_integer([9,2,\"space\",\"car\",\"lion\",16]) \n",
    "return_only_integer([\"hello\",81,\"basketball\",123,\"fox\"])\n",
    "return_only_integer([10, \"121\", 56, 20, \"car\", 3, \"lion\"]) \n",
    "return_only_integer([\"Strings\",True,3.3,1]) "
   ]
  },
  {
   "cell_type": "code",
   "execution_count": null,
   "metadata": {},
   "outputs": [],
   "source": []
  }
 ],
 "metadata": {
  "kernelspec": {
   "display_name": "Python 3",
   "language": "python",
   "name": "python3"
  },
  "language_info": {
   "codemirror_mode": {
    "name": "ipython",
    "version": 3
   },
   "file_extension": ".py",
   "mimetype": "text/x-python",
   "name": "python",
   "nbconvert_exporter": "python",
   "pygments_lexer": "ipython3",
   "version": "3.9.7"
  },
  "orig_nbformat": 4
 },
 "nbformat": 4,
 "nbformat_minor": 2
}
