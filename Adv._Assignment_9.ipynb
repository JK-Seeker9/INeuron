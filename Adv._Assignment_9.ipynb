{
 "cells": [
  {
   "cell_type": "code",
   "execution_count": 1,
   "metadata": {},
   "outputs": [],
   "source": [
    "#Q1. In Python 3.X, what are the names and functions of string object types?\n",
    "#Ans:   The names and functions of string object types in Python 3.X are: 'str', 'bytes', 'bytearray'. \n",
    "#       The 'str' object type represents a sequence of characters and is used for storing and manipulating text data.\n",
    "#       The 'bytes' represents sequence of bytes rather than characters. It is used for working with binary data or when encoding and decoding strings.\n",
    "#       The 'bytearray' represents a mutable sequence of bytes. "
   ]
  },
  {
   "cell_type": "code",
   "execution_count": 2,
   "metadata": {},
   "outputs": [],
   "source": [
    "#Q2. How do the string forms in Python 3.X vary in terms of operations?\n",
    "#Ans:   In terms of operations the 'str' and 'byte' string forms are immutable string forms and bytearray is a mutable string form.\n",
    "#       In 'str' amd 'byte' string forms operations such as concatenation, slicing and searching are available. The 'bytearray' supports all the operations but additionaly allows in place modifiactions"
   ]
  },
  {
   "cell_type": "code",
   "execution_count": 3,
   "metadata": {},
   "outputs": [],
   "source": [
    "#Q3. In 3.X, how do you put non-ASCII Unicode characters in a string?\n",
    "#Ans:   In 3.X, to put non-ASCII unicode characters in a string, Unicode escape sequence or directly entering the characters using their unicode points methods are used."
   ]
  },
  {
   "cell_type": "code",
   "execution_count": 4,
   "metadata": {},
   "outputs": [],
   "source": [
    "#Q4. In Python 3.X, what are the key differences between text-mode and binary-mode files?\n",
    "#Ans:   The basic difference between text-mode data and binary-mode files is that text mode files are used for handeling text data, where automatic encoding and decoding is performed.\n",
    "#       Whereas, binary-mode files are used for handeling binary data such as images, audios, etc. In binary-mode files no automatic encoding and decoding is performed."
   ]
  },
  {
   "cell_type": "code",
   "execution_count": 5,
   "metadata": {},
   "outputs": [],
   "source": [
    "#Q5. How can you interpret a Unicode text file containing text encoded in a different encoding than your platform's default?\n",
    "#Ans:   To interpret a Unicode text file containing text encode in a different encoding than the platform's default, we can use chardet library and chardet.detect() function.\n",
    "#       This will identify the encoding of text file."
   ]
  },
  {
   "cell_type": "code",
   "execution_count": 6,
   "metadata": {},
   "outputs": [],
   "source": [
    "#Q6. What is the best way to make a Unicode text file in a particular encoding format?\n",
    "#Ans:   The best way to make a Unicode text file in a particular encoding format use open() function with the encoding keyword argument. \n",
    "#       The encoding keyword will specify the encoding to write the files."
   ]
  },
  {
   "cell_type": "code",
   "execution_count": 7,
   "metadata": {},
   "outputs": [],
   "source": [
    "#Q7. What qualifies ASCII text as a form of Unicode text?\n",
    "#Ans:   The ASCII text is basically a subset of Unicode. The ASCII code can be represented by first 128 code points of Unicode."
   ]
  },
  {
   "cell_type": "code",
   "execution_count": 8,
   "metadata": {},
   "outputs": [],
   "source": [
    "#Q8. How much of an effect does the change in string types in Python 3.X have on your code?\n",
    "#Ans:   In python 3.X every type of String comes under Unicode string, hence providing a wider range of characters, including other languages.\n",
    "#       in previous versions of Python other string types were converted to Unicode using unicode() function. "
   ]
  },
  {
   "cell_type": "code",
   "execution_count": null,
   "metadata": {},
   "outputs": [],
   "source": []
  }
 ],
 "metadata": {
  "kernelspec": {
   "display_name": "Python 3",
   "language": "python",
   "name": "python3"
  },
  "language_info": {
   "codemirror_mode": {
    "name": "ipython",
    "version": 3
   },
   "file_extension": ".py",
   "mimetype": "text/x-python",
   "name": "python",
   "nbconvert_exporter": "python",
   "pygments_lexer": "ipython3",
   "version": "3.9.7"
  },
  "orig_nbformat": 4
 },
 "nbformat": 4,
 "nbformat_minor": 2
}
