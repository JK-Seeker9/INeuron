{
 "cells": [
  {
   "cell_type": "code",
   "execution_count": 1,
   "metadata": {},
   "outputs": [],
   "source": [
    "#Q1. What is the meaning of multiple inheritance?\n",
    "#Ans:   Multiple Inheritance is a feature that allows a class to inherit from multiple parent classes. It enables a sub class to acquire behavior and attributes from different parent classes."
   ]
  },
  {
   "cell_type": "code",
   "execution_count": 2,
   "metadata": {},
   "outputs": [],
   "source": [
    "#Q2. What is the concept of delegation?\n",
    "#Ans:   Delegation refers to a design pattern where an object forwards a method call or attribute access to another object, known as delegating object.\n",
    "#       The Delegating object relies on another object called delegated object to provide specific functionality. "
   ]
  },
  {
   "cell_type": "code",
   "execution_count": 3,
   "metadata": {},
   "outputs": [],
   "source": [
    "#Q3. What is the concept of composition?\n",
    "#Ans:   Composition is a way to combine simpler objects to create more complex objects. \n",
    "#       Each smaller object has their own functionality and the main object that has been created using these smaller objects can use and interact these samaller objects to achieve its overall purpose. "
   ]
  },
  {
   "cell_type": "code",
   "execution_count": 4,
   "metadata": {},
   "outputs": [],
   "source": [
    "#Q4. What are bound methods and how do we use them?\n",
    "#Ans:   A bound method is a function that is associated with a specific object instance. It's like a regular function but its bound to particualr object. "
   ]
  },
  {
   "cell_type": "code",
   "execution_count": 5,
   "metadata": {},
   "outputs": [],
   "source": [
    "#Q5. What is the purpose of pseudoprivate attributes?\n",
    "#Ans:   Pseudoprivate attributes are a way to indicate that an attribute of a class is private to the class. \n",
    "#       The purpose of pseudoprivate attributes is to prevent accidental access or modification of the variables and methods from outsidde that class."
   ]
  }
 ],
 "metadata": {
  "kernelspec": {
   "display_name": "Python 3",
   "language": "python",
   "name": "python3"
  },
  "language_info": {
   "codemirror_mode": {
    "name": "ipython",
    "version": 3
   },
   "file_extension": ".py",
   "mimetype": "text/x-python",
   "name": "python",
   "nbconvert_exporter": "python",
   "pygments_lexer": "ipython3",
   "version": "3.9.7"
  },
  "orig_nbformat": 4
 },
 "nbformat": 4,
 "nbformat_minor": 2
}
