{
 "cells": [
  {
   "attachments": {},
   "cell_type": "markdown",
   "metadata": {},
   "source": [
    "Question1\n",
    "Create a function that takes an integer and returns a list from 1 to the given number, where:\n",
    "1.\tIf the number can be divided evenly by 4, amplify it by 10 (i.e. return 10 times the number).\n",
    "2.\tIf the number cannot be divided evenly by 4, simply return the number.\n",
    "Examples\n",
    "amplify(4) ➞ [1, 2, 3, 40]\n",
    "\n",
    "amplify(3) ➞ [1, 2, 3]\n",
    "\n",
    "amplify(25) ➞ [1, 2, 3, 40, 5, 6, 7, 80, 9, 10, 11, 120, 13, 14, 15, 160, 17, 18, 19, 200, 21, 22, 23, 240, 25]\n",
    "Notes\n",
    "•\tThe given integer will always be equal to or greater than 1.\n",
    "•\tInclude the number (see example above).\n",
    "•\tTo perform this problem with its intended purpose, try doing it with list comprehensions. If that's too difficult, just solve the challenge any way you can."
   ]
  },
  {
   "cell_type": "code",
   "execution_count": 2,
   "metadata": {},
   "outputs": [
    {
     "name": "stdout",
     "output_type": "stream",
     "text": [
      "amplify4 -> [1, 2, 3, 40]\n",
      "amplify3 -> [1, 2, 3]\n",
      "amplify25 -> [1, 2, 3, 40, 5, 6, 7, 80, 9, 10, 11, 120, 13, 14, 15, 160, 17, 18, 19, 200, 21, 22, 23, 240, 25]\n"
     ]
    }
   ],
   "source": [
    "def amplify(num):\n",
    "    new_list = []\n",
    "    for i in range(1,num+1):\n",
    "        if (i%4==0):\n",
    "            new_list.append(i*10)\n",
    "        else:\n",
    "            new_list.append(i)\n",
    "    print(f\"amplify{num} -> {new_list}\")\n",
    "amplify(4) \n",
    "amplify(3)\n",
    "amplify(25)"
   ]
  },
  {
   "attachments": {},
   "cell_type": "markdown",
   "metadata": {},
   "source": [
    "Question2\n",
    "Create a function that takes a list of numbers and return the number that's unique.\n",
    "Examples\n",
    "unique([3, 3, 3, 7, 3, 3]) ➞ 7\n",
    "\n",
    "unique([0, 0, 0.77, 0, 0]) ➞ 0.77\n",
    "\n",
    "unique([0, 1, 1, 1, 1, 1, 1, 1]) ➞ 0\n",
    "Notes\n",
    "Test cases will always have exactly one unique number while all others are the same."
   ]
  },
  {
   "cell_type": "code",
   "execution_count": 3,
   "metadata": {},
   "outputs": [
    {
     "name": "stdout",
     "output_type": "stream",
     "text": [
      "Unique [3, 3, 3, 7, 3, 3]= 7\n",
      "Unique [0, 0, 0.77, 0, 0]= 0.77\n",
      "Unique [0, 1, 1, 1, 1, 1, 1, 1]= 0\n"
     ]
    }
   ],
   "source": [
    "def unique(num_list):\n",
    "    uni_num = ''\n",
    "    for i in set(num_list):\n",
    "        if (num_list.count(i) == 1):\n",
    "            uni_num = i\n",
    "    print(f\"Unique {num_list}= {uni_num}\")\n",
    "unique([3,3,3,7,3,3])\n",
    "unique([0,0,0.77,0,0]) \n",
    "unique([0,1,1,1,1,1,1,1])"
   ]
  },
  {
   "attachments": {},
   "cell_type": "markdown",
   "metadata": {},
   "source": [
    "Question3\n",
    "Your task is to create a Circle constructor that creates a circle with a radius provided by an argument. The circles constructed must have two getters getArea() (PIr^2) and getPerimeter() (2PI*r) which give both respective areas and perimeter (circumference).\n",
    "For help with this class, I have provided you with a Rectangle constructor which you can use as a base example.\n",
    "Examples\n",
    "circy = Circle(11)\n",
    "circy.getArea()\n",
    "\n",
    "Should return 380.132711084365\n",
    "\n",
    "circy = Circle(4.44)\n",
    "circy.getPerimeter()\n",
    "\n",
    "Should return 27.897342763877365\n",
    "Notes\n",
    "Round results up to the nearest integer.\n"
   ]
  },
  {
   "cell_type": "code",
   "execution_count": 8,
   "metadata": {},
   "outputs": [
    {
     "name": "stdout",
     "output_type": "stream",
     "text": [
      "Area of circle with radius 11 is 380\n",
      "Perimeter of a circle with diameter 8.88 is 28\n"
     ]
    }
   ],
   "source": [
    "import math\n",
    "class Circle:\n",
    "    def __init__(self,radius):\n",
    "        try:\n",
    "            self.radius = radius\n",
    "        except Exception as e:\n",
    "            print(e)\n",
    "    def getArea(self):\n",
    "        try:\n",
    "            print(f\"Area of circle with radius {self.radius} is {round(math.pi*self.radius**2)}\")\n",
    "        except Exception as e:\n",
    "            print(e)\n",
    "    def getPerimeter(self):\n",
    "        try:\n",
    "            print(f\"Perimeter of a circle with diameter {self.radius*2} is {round(2*(math.pi)*self.radius)}\")\n",
    "        except Exception as e:\n",
    "            print(e)\n",
    "circy = Circle(11)\n",
    "circy.getArea()\n",
    "circy = Circle(4.44)\n",
    "circy.getPerimeter()"
   ]
  },
  {
   "attachments": {},
   "cell_type": "markdown",
   "metadata": {},
   "source": [
    "Question4\n",
    "Create a function that takes a list of strings and return a list, sorted from shortest to longest.\n",
    "Examples\n",
    "sort_by_length([\"Google\", \"Apple\", \"Microsoft\"])\n",
    "➞ [\"Apple\", \"Google\", \"Microsoft\"]\n",
    "\n",
    "sort_by_length([\"Leonardo\", \"Michelangelo\", \"Raphael\", \"Donatello\"])\n",
    "➞ [\"Raphael\", \"Leonardo\", \"Donatello\", \"Michelangelo\"]\n",
    "\n",
    "sort_by_length([\"Turing\", \"Einstein\", \"Jung\"])\n",
    "➞ [\"Jung\", \"Turing\", \"Einstein\"]\n",
    "Notes\n",
    "All test cases contain lists with strings of different lengths, so you won't have to deal with multiple strings of the same length."
   ]
  },
  {
   "cell_type": "code",
   "execution_count": 9,
   "metadata": {},
   "outputs": [
    {
     "name": "stdout",
     "output_type": "stream",
     "text": [
      "['Apple', 'Google', 'Microsoft']\n",
      "['Lenardo', 'Raphael', 'Donatello', 'Michelangelo']\n",
      "['Jung', 'Turting', 'Einstein']\n"
     ]
    }
   ],
   "source": [
    "def sort_by_length(my_list):\n",
    "    print(sorted(my_list,key=len))\n",
    "sort_by_length([\"Google\",\"Apple\",\"Microsoft\"])  \n",
    "sort_by_length([\"Lenardo\",\"Michelangelo\",\"Raphael\",\"Donatello\"]) \n",
    "sort_by_length([\"Turting\",\"Einstein\",\"Jung\"])"
   ]
  },
  {
   "attachments": {},
   "cell_type": "markdown",
   "metadata": {},
   "source": [
    "Question5\n",
    "Create a function that validates whether three given integers form a Pythagorean triplet. The sum of the squares of the two smallest integers must equal the square of the largest number to be validated."
   ]
  },
  {
   "cell_type": "code",
   "execution_count": 12,
   "metadata": {},
   "outputs": [
    {
     "name": "stdout",
     "output_type": "stream",
     "text": [
      "Are (1, 2, 3) Pythagorean triplet? False\n",
      "Are (5, 12, 13) Pythagorean triplet? True\n",
      "Are (5, 15, 3) Pythagorean triplet? False\n"
     ]
    }
   ],
   "source": [
    "def is_triplet(a,b,c):\n",
    "    if ((a**2+b**2 == c**2) or (a**2+c**2 == b**2) or (b**2+c**2 == a**2)):\n",
    "        print(f\"Are {a,b,c} Pythagorean triplet? {True}\")\n",
    "    else:\n",
    "        print(f\"Are {a,b,c} Pythagorean triplet? {False}\")\n",
    "is_triplet(1,2,3)\n",
    "is_triplet(5,12,13)\n",
    "is_triplet(5,15,3)"
   ]
  },
  {
   "attachments": {},
   "cell_type": "markdown",
   "metadata": {},
   "source": []
  }
 ],
 "metadata": {
  "kernelspec": {
   "display_name": "Python 3",
   "language": "python",
   "name": "python3"
  },
  "language_info": {
   "codemirror_mode": {
    "name": "ipython",
    "version": 3
   },
   "file_extension": ".py",
   "mimetype": "text/x-python",
   "name": "python",
   "nbconvert_exporter": "python",
   "pygments_lexer": "ipython3",
   "version": "3.9.7"
  },
  "orig_nbformat": 4
 },
 "nbformat": 4,
 "nbformat_minor": 2
}
