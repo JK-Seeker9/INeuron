{
 "cells": [
  {
   "cell_type": "code",
   "execution_count": 9,
   "metadata": {},
   "outputs": [
    {
     "name": "stdout",
     "output_type": "stream",
     "text": [
      "1\n",
      "3\n",
      "5\n",
      "4\n"
     ]
    }
   ],
   "source": [
    "#Q1. Can you create a programme or function that employs both positive and negative indexing? Is there any repercussion if you do so?\n",
    "num = [1,2,3,4,5]\n",
    "print(num[0])\n",
    "print(num[2])\n",
    "print(num[-1])\n",
    "print(num[-2])\n",
    "#Ans: The above line of codes emoplyees both poditive and negative indexing. There is no repercussionto using both positive and negative indexing in python."
   ]
  },
  {
   "cell_type": "code",
   "execution_count": 12,
   "metadata": {},
   "outputs": [],
   "source": [
    "#Q2. What is the most effective way of starting with 1,000 elements in a Python list? Assume that all elements should be set to the same value.\n",
    "#Ans:   The most effective way of starting with 1000 elements in python is to use list() constructor with range values.\n",
    "mylist = list(range(1000))"
   ]
  },
  {
   "cell_type": "code",
   "execution_count": 13,
   "metadata": {},
   "outputs": [
    {
     "name": "stdout",
     "output_type": "stream",
     "text": [
      "[1, 3, 5, 7, 9]\n"
     ]
    }
   ],
   "source": [
    "#Q3. How do you slice a list to get any other part while missing the rest? (For example, suppose you want to make a new list with the elements first, third, fifth, seventh, and so on.)\n",
    "#Ans:   To slice a list and get a particular part, we can use ':' operator. It takes three arguments: start, end and steps.\n",
    "mylist = [1,2,3,4,5,6,7,8,9]\n",
    "new_list = mylist [0:9:2]\n",
    "print(new_list)"
   ]
  },
  {
   "cell_type": "code",
   "execution_count": 4,
   "metadata": {},
   "outputs": [],
   "source": [
    "#Q4. Explain the distinctions between indexing and slicing.\n",
    "#Ans:   Both slicing and indexing are different ways to index a character.\n",
    "#       In indexing only a single element is accessed. For indexing, the index of the character is specified in [] square brackets.\n",
    "#       In slicing a range of elements can be accessed. For slicing the start index, end index and step size is specified in a [] square bracket."
   ]
  },
  {
   "cell_type": "code",
   "execution_count": 5,
   "metadata": {},
   "outputs": [],
   "source": [
    "#Q5. What happens if one of the slicing expression's indexes is out of range?\n",
    "#Ans:   If one of the slicing expression's indexes is out of range, python returns an empty sequence."
   ]
  },
  {
   "cell_type": "code",
   "execution_count": 6,
   "metadata": {},
   "outputs": [],
   "source": [
    "#Q6. If you pass a list to a function, and if you want the function to be able to change the values of the list—so that the list is different after the function returns—what action should you avoid?\n",
    "#Ans:   If we want the function to be able to change the values of the list—so that the list is different after the function returns, we should avoid passing the list by value. \n",
    "#       Because when we pass a list by value, the function will recieve the copy of list and not the original list and so the changes will not be reflected."
   ]
  },
  {
   "cell_type": "code",
   "execution_count": 7,
   "metadata": {},
   "outputs": [],
   "source": [
    "#Q7. What is the concept of an unbalanced matrix?\n",
    "#Ans: Unbalanced matrix are the matrix in which number of rows is not equal to number of columns."
   ]
  },
  {
   "cell_type": "code",
   "execution_count": 8,
   "metadata": {},
   "outputs": [],
   "source": [
    "#Q8. Why is it necessary to use either list comprehension or a loop to create arbitrarily large matrices?\n",
    "#Ans:   The reasons to use either list comprehension or a loop to create large matrices are:\n",
    "#       Python doesnot have builtin function to create matrices.\n",
    "#       It is computationally expensive to create matrix with large number of rows and columns."
   ]
  },
  {
   "cell_type": "code",
   "execution_count": null,
   "metadata": {},
   "outputs": [],
   "source": []
  }
 ],
 "metadata": {
  "kernelspec": {
   "display_name": "Python 3",
   "language": "python",
   "name": "python3"
  },
  "language_info": {
   "codemirror_mode": {
    "name": "ipython",
    "version": 3
   },
   "file_extension": ".py",
   "mimetype": "text/x-python",
   "name": "python",
   "nbconvert_exporter": "python",
   "pygments_lexer": "ipython3",
   "version": "3.9.7"
  },
  "orig_nbformat": 4
 },
 "nbformat": 4,
 "nbformat_minor": 2
}
