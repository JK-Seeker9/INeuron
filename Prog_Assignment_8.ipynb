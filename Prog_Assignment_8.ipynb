{
 "cells": [
  {
   "cell_type": "code",
   "execution_count": 6,
   "metadata": {},
   "outputs": [
    {
     "name": "stdout",
     "output_type": "stream",
     "text": [
      "[[14, 18, 22], [12, 16, 20], [24, 26, 28]]\n"
     ]
    }
   ],
   "source": [
    "#1.\tWrite a Python Program to Add Two Matrices?\n",
    "A = [[2,4,6],[1,3,5],[7,8,9]]\n",
    "B = [[12,14,16],[11,13,15],[17,18,19]]\n",
    "AsumB = [[0,0,0],[0,0,0],[0,0,0]]\n",
    "for i in range(len(A)):                     #rows\n",
    "    for j in range(len(A[0])):              #columns\n",
    "        AsumB[i][j] = A[i][j]+B[i][j]\n",
    "print(AsumB)"
   ]
  },
  {
   "cell_type": "code",
   "execution_count": 10,
   "metadata": {},
   "outputs": [
    {
     "name": "stdout",
     "output_type": "stream",
     "text": [
      "[238, 134, 188, 70]\n",
      "[183, 94, 145, 47]\n",
      "[449, 307, 352, 173]\n"
     ]
    }
   ],
   "source": [
    "#2.\tWrite a Python Program to Multiply Two Matrices?\n",
    "A = [[2,4,6], [1,3,5], [7,8,9]]\n",
    "B = [[15,18,11,12], [16,17,13,10], [24,5,19,1]]\n",
    "AB = [[0,0,0,0], [0,0,0,0], [0,0,0,0]]\n",
    "for i in range(len(A)):                     #Rows of X\n",
    "   for j in range(len(B[0])):               #Columns of Y\n",
    "       for k in range(len(B)):              #Rows of Y\n",
    "           AB[i][j] += A[i][k] * B[k][j]\n",
    "for r in AB:\n",
    "   print(r)"
   ]
  },
  {
   "cell_type": "code",
   "execution_count": 13,
   "metadata": {},
   "outputs": [
    {
     "name": "stdout",
     "output_type": "stream",
     "text": [
      "[[2, 5, 8, 12], [3, 6, 9, 15], [4, 7, 10, 18]]\n"
     ]
    }
   ],
   "source": [
    "#3.\tWrite a Python Program to Transpose a Matrix?\n",
    "A= [[2,3,4],[5,6,7],[8,9,10],[12,15,18]]\n",
    "Trans_A = [[0,0,0,0],[0,0,0,0],[0,0,0,0]]\n",
    "for i in range (len(A)):\n",
    "    for j in range (len(A[0])):\n",
    "        Trans_A[j][i] = A[i][j]\n",
    "print(Trans_A)"
   ]
  },
  {
   "cell_type": "code",
   "execution_count": 26,
   "metadata": {},
   "outputs": [
    {
     "name": "stdout",
     "output_type": "stream",
     "text": [
      "['Hi', 'assignment', 'eight', 'good', 'is', 'morning', 'this']\n"
     ]
    }
   ],
   "source": [
    "#4.\tWrite a Python Program to Sort Words in Alphabetic Order?\n",
    "my_str = str(input(\"Enter a string: \"))\n",
    "x = my_str.split()\n",
    "x.sort()\n",
    "print(x)\n"
   ]
  },
  {
   "cell_type": "code",
   "execution_count": 31,
   "metadata": {},
   "outputs": [
    {
     "name": "stdout",
     "output_type": "stream",
     "text": [
      "original string is Hi !! How are you?? I am fine. Thankyou !!\n",
      "Updated string is  Hi  How are you I am fine Thankyou \n"
     ]
    }
   ],
   "source": [
    "#5.\tWrite a Python Program to Remove Punctuation From a String?\n",
    "pun = '''!@#$%^&*?.,():;'''\n",
    "my_str = str(input(\"Enter a string: \"))\n",
    "for i in my_str:\n",
    "    if i not in pun:\n",
    "        new_str = new_str + i\n",
    "print(f\"original string is {my_str}\")\n",
    "print(f\"Updated string is {new_str}\")"
   ]
  }
 ],
 "metadata": {
  "kernelspec": {
   "display_name": "Python 3",
   "language": "python",
   "name": "python3"
  },
  "language_info": {
   "codemirror_mode": {
    "name": "ipython",
    "version": 3
   },
   "file_extension": ".py",
   "mimetype": "text/x-python",
   "name": "python",
   "nbconvert_exporter": "python",
   "pygments_lexer": "ipython3",
   "version": "3.9.7"
  },
  "orig_nbformat": 4
 },
 "nbformat": 4,
 "nbformat_minor": 2
}
