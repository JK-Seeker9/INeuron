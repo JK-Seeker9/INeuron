{
 "cells": [
  {
   "cell_type": "code",
   "execution_count": 1,
   "metadata": {},
   "outputs": [],
   "source": [
    "#Q1. Is an assignment operator like += only for show? Is it possible that it would lead to faster results at the runtime?\n",
    "#Ans:   The assignment operator += in not for show. They can fetch results faster at runtime, especially where the variables are used multiple times.\n",
    "#       It needs to perform only one operation instead of two."
   ]
  },
  {
   "cell_type": "code",
   "execution_count": 2,
   "metadata": {},
   "outputs": [],
   "source": [
    "#Q2. What is the smallest number of statements you'd have to write in most programming languages to replace the Python expression a, b = a + b, a?\n",
    "#Ans:   In most of the programming languages like Pyhton, Java, C++, Javascript, etc., a=a+b, b=a; are the only two statements are required."
   ]
  },
  {
   "cell_type": "code",
   "execution_count": 13,
   "metadata": {},
   "outputs": [],
   "source": [
    "#Q3. In Python, what is the most effective way to set a list of 100 integers to 0?\n",
    "#Ans:   The most effective method to set a list of 100 integers to 0 is by using '*' operator to create a list of 100 elements and intialize every element to 0. \n",
    "My_list = [0]*100"
   ]
  },
  {
   "cell_type": "code",
   "execution_count": 14,
   "metadata": {},
   "outputs": [
    {
     "name": "stdout",
     "output_type": "stream",
     "text": [
      "[1, 2, 3, 4, 5, 6, 7, 8, 9, 10, 11, 12, 13, 14, 15, 16, 17, 18, 19, 20, 21, 22, 23, 24, 25, 26, 27, 28, 29, 30, 31, 32, 33, 34, 35, 36, 37, 38, 39, 40, 41, 42, 43, 44, 45, 46, 47, 48, 49, 50, 51, 52, 53, 54, 55, 56, 57, 58, 59, 60, 61, 62, 63, 64, 65, 66, 67, 68, 69, 70, 71, 72, 73, 74, 75, 76, 77, 78, 79, 80, 81, 82, 83, 84, 85, 86, 87, 88, 89, 90, 91, 92, 93, 94, 95, 96, 97, 98, 99]\n"
     ]
    }
   ],
   "source": [
    "#Q4. What is the most effective way to initialise a list of 99 integers that repeats the sequence 1, 2, 3? S If necessary, show step-by-step instructions on how to accomplish this.\n",
    "#Ans:   The most effective way to intialize a list of 99 integers is:\n",
    "My_list = []\n",
    "n = 1\n",
    "for i in range(99):\n",
    "    My_list.append(n)\n",
    "    n += 1\n",
    "print(My_list)"
   ]
  },
  {
   "cell_type": "code",
   "execution_count": 16,
   "metadata": {},
   "outputs": [
    {
     "name": "stdout",
     "output_type": "stream",
     "text": [
      "1 2 3 \n",
      "4 5 6 \n",
      "7 8 9 \n"
     ]
    }
   ],
   "source": [
    "#Q5. If you're using IDLE to run a Python application, explain how to print a multidimensional list as efficiently?\n",
    "#Ans:   To print a multi dimensional list while using IDLE to run Python application:\n",
    "mylist = [[1, 2, 3], [4, 5, 6], [7, 8, 9]]\n",
    "\n",
    "for i in mylist:\n",
    "    for item in i:\n",
    "        print(item, end=\" \")\n",
    "    print()"
   ]
  },
  {
   "cell_type": "code",
   "execution_count": 6,
   "metadata": {},
   "outputs": [],
   "source": [
    "#Q6. Is it possible to use list comprehension with a string? If so, how can you go about doing it?\n",
    "#Ans:   Yes it is possible to use list comprehendion with a string. To do so we can use the following syntax '[expression for item in iterable]'. "
   ]
  },
  {
   "cell_type": "code",
   "execution_count": 7,
   "metadata": {},
   "outputs": [],
   "source": [
    "#Q7. From the command line, how do you get support with a user-written Python programme? Is this possible from inside IDLE?\n",
    "#Ans:   To get support with user-written Python program is by using help() function. Another way is by using the importlib module and then inspec using dir() module.\n",
    "#       And it is possible to get support with user written programmes from inside IDLE."
   ]
  },
  {
   "cell_type": "code",
   "execution_count": 8,
   "metadata": {},
   "outputs": [],
   "source": [
    "#Q8. Functions are said to be “first-class objects” in Python but not in most other languages, such as C++ or Java. What can you do in Python with a function (callable object) that you can't do in C or C++?\n",
    "#Ans:   Functions are first class objects in Python, it means that they can be treated as any other object.\n",
    "#       In Python we can : store a function in a variable, pass a function as an argument, Return a function from another function, use a function in dictionary as a key, use a function in lists, etc. "
   ]
  },
  {
   "cell_type": "code",
   "execution_count": 9,
   "metadata": {},
   "outputs": [],
   "source": [
    "#Q9. How do you distinguish between a wrapper, a wrapped feature, and a decorator?\n",
    "#Ans:   A wrapper is a function that surrounds another function and adds additional features or functions to it. The decorator is a special kind of wrapped function, used to modify behavior of other functions.\n",
    "#       And a wrapped feature is the original function that is being wrapped.\n"
   ]
  },
  {
   "cell_type": "code",
   "execution_count": 10,
   "metadata": {},
   "outputs": [],
   "source": [
    "#Q10. If a function is a generator function, what does it return?\n",
    "#Ans:   If a function is a generator function, it doesnot return a value. Instead it returns a generator object. \n",
    "#       The generator object then is used to iterate over the sequence of values that is generated by generator function."
   ]
  },
  {
   "cell_type": "code",
   "execution_count": 11,
   "metadata": {},
   "outputs": [],
   "source": [
    "#Q11. What is the one improvement that must be made to a function in order for it to become a generator function in the Python language?\n",
    "#Ans:   To convert a normal function to a generator function in python language, we simply use the keyword 'yeild'. \n",
    "#       Yeild keyword indicates that the function is a generator function.     "
   ]
  },
  {
   "cell_type": "code",
   "execution_count": 12,
   "metadata": {},
   "outputs": [],
   "source": [
    "#Q12. Identify at least one benefit of generators.\n",
    "#Ans:   One benefit of using generator is that they can be used to iterate large sequence of values without storing the entire sequnece to  memory."
   ]
  },
  {
   "cell_type": "code",
   "execution_count": null,
   "metadata": {},
   "outputs": [],
   "source": []
  }
 ],
 "metadata": {
  "kernelspec": {
   "display_name": "Python 3",
   "language": "python",
   "name": "python3"
  },
  "language_info": {
   "codemirror_mode": {
    "name": "ipython",
    "version": 3
   },
   "file_extension": ".py",
   "mimetype": "text/x-python",
   "name": "python",
   "nbconvert_exporter": "python",
   "pygments_lexer": "ipython3",
   "version": "3.9.7"
  },
  "orig_nbformat": 4
 },
 "nbformat": 4,
 "nbformat_minor": 2
}
