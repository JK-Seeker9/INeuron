{
 "cells": [
  {
   "cell_type": "code",
   "execution_count": 8,
   "metadata": {},
   "outputs": [],
   "source": [
    "# 1. In the below elements which of them are values or an expression? eg:- values can be integer or string and expressions will be mathematical operators.\n",
    "#       * \t- Expression\n",
    "#       'hello' \t- Value \n",
    "#       -87.8\t- Value\n",
    "#       - \t- Expression\n",
    "#       / \t- Expression\n",
    "#       +\t- Expression\n",
    "#       6  \t- Value\n"
   ]
  },
  {
   "cell_type": "code",
   "execution_count": 9,
   "metadata": {},
   "outputs": [],
   "source": [
    "# 2. What is the difference between string and variable?\n",
    "# Ans:  Variables are the symbols that can be used to store data. String are data that can be stored in variables.\n",
    "#       Variable is store of information; String is a type of information that can be stored in a variable."
   ]
  },
  {
   "cell_type": "code",
   "execution_count": 10,
   "metadata": {},
   "outputs": [],
   "source": [
    "# 3. Describe three different data types.\n",
    "#       1.\tNumeric: Numeric values such as int, float, complex no. etc.\n",
    "#       2.\tString: Str\n",
    "#       3.\tSequence: List, Tuple\n",
    "#       4.\tBoolean: True/False\n",
    "#       5.\tDictionary\n",
    "#       6.\tSet"
   ]
  },
  {
   "cell_type": "code",
   "execution_count": 11,
   "metadata": {},
   "outputs": [],
   "source": [
    "# 4. What is an expression made up of? What do all expressions do?\n",
    "#Ans:   Expressions are the combination of operators and operands. Expressions evaluate the operands as per the operators and give required output. \n",
    "#       Some examples of operators are +, -, *, %, etc."
   ]
  },
  {
   "cell_type": "code",
   "execution_count": 7,
   "metadata": {},
   "outputs": [
    {
     "data": {
      "text/plain": [
       "'I have eaten 99 burritos.'"
      ]
     },
     "execution_count": 7,
     "metadata": {},
     "output_type": "execute_result"
    }
   ],
   "source": [
    "# 5. This assignment statements, like spam = 10. What is the difference between an expression and a statement?\n",
    "#Ans:   Statements are not evaluated in Python, whereas expressions are evaluated and gives output. \n",
    "#       Statements are used to assign variables and display outputs.\n"
   ]
  },
  {
   "cell_type": "code",
   "execution_count": 12,
   "metadata": {},
   "outputs": [
    {
     "name": "stdout",
     "output_type": "stream",
     "text": [
      "22\n"
     ]
    }
   ],
   "source": [
    "# 6. After running the following code, what does the variable bacon contain?\n",
    "#   bacon = 22\n",
    "#   bacon + 1\n",
    "#   Output: 22\n",
    "bacon = 22\n",
    "bacon + 1\n",
    "print(bacon)"
   ]
  },
  {
   "cell_type": "code",
   "execution_count": 13,
   "metadata": {},
   "outputs": [
    {
     "data": {
      "text/plain": [
       "'spamspamspam'"
      ]
     },
     "execution_count": 13,
     "metadata": {},
     "output_type": "execute_result"
    }
   ],
   "source": [
    "# 7. What should the values of the following two terms be?\n",
    "# 'spam' + 'spamspam'\n",
    "# 'spam' * 3\n",
    "# Output: ‘spamspamspam’\n",
    "'spam' + 'spamspam'\n",
    "'spam' * 3"
   ]
  },
  {
   "cell_type": "code",
   "execution_count": 14,
   "metadata": {},
   "outputs": [],
   "source": [
    "# 8. Why is eggs a valid variable name while 100 is invalid?\n",
    "#Ans:   egg is a valid variable name while 100 is invalid because the variable name should always start with an alphabet as the compiler gets confused if the digit is a number or identifier. \n",
    "#       And backtracking is not supported in lexical analysis "
   ]
  },
  {
   "cell_type": "code",
   "execution_count": 15,
   "metadata": {},
   "outputs": [],
   "source": [
    "# 9. What three functions can be used to get the integer, floating-point number, or string version of a value?\n",
    "#Ans: The int (), float() and str() functions will evaluate to integer, floating point number and string versions of value passed to them."
   ]
  },
  {
   "cell_type": "code",
   "execution_count": 16,
   "metadata": {},
   "outputs": [
    {
     "ename": "SyntaxError",
     "evalue": "invalid syntax (4282445209.py, line 6)",
     "output_type": "error",
     "traceback": [
      "\u001b[1;36m  Cell \u001b[1;32mIn [16], line 6\u001b[1;36m\u001b[0m\n\u001b[1;33m    I have eaten ' + 99 + ' burritos.'\u001b[0m\n\u001b[1;37m      ^\u001b[0m\n\u001b[1;31mSyntaxError\u001b[0m\u001b[1;31m:\u001b[0m invalid syntax\n"
     ]
    }
   ],
   "source": [
    "# 10. Why does this expression cause an error? How can you fix it?\n",
    "#   I have eaten ' + 99 + ' burritos.'\n",
    "#Ans:   The above expression causes an error because string values cannot be concatenated with integer value. Therefore, to fix this error we must convert the non-string values to string.\n",
    "#       Correct expression:\n",
    "#\t    'I have eaten ' + '99 '+ ' burritos.'\n",
    "I have eaten ' + 99 + ' burritos.'"
   ]
  },
  {
   "cell_type": "code",
   "execution_count": 18,
   "metadata": {},
   "outputs": [
    {
     "data": {
      "text/plain": [
       "'I have eaten 99 burritos.'"
      ]
     },
     "execution_count": 18,
     "metadata": {},
     "output_type": "execute_result"
    }
   ],
   "source": [
    "'I have eaten ' + '99'+ ' burritos.'"
   ]
  }
 ],
 "metadata": {
  "kernelspec": {
   "display_name": "Python 3.9.7 64-bit",
   "language": "python",
   "name": "python3"
  },
  "language_info": {
   "codemirror_mode": {
    "name": "ipython",
    "version": 3
   },
   "file_extension": ".py",
   "mimetype": "text/x-python",
   "name": "python",
   "nbconvert_exporter": "python",
   "pygments_lexer": "ipython3",
   "version": "3.9.7"
  },
  "orig_nbformat": 4,
  "vscode": {
   "interpreter": {
    "hash": "c347c8f9a7ef94e4c9e03b4513be7835ed18f45b99a2a817fb579f408b867b16"
   }
  }
 },
 "nbformat": 4,
 "nbformat_minor": 2
}
